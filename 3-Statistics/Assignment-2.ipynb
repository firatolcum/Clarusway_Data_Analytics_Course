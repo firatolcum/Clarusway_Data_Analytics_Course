{
 "cells": [
  {
   "cell_type": "markdown",
   "id": "86408276",
   "metadata": {},
   "source": [
    "######  EXERCISE 1\n",
    "Suppose scores on exams in statistics are normally distributed with an unknown population mean and a population standard \n",
    "deviation of 3 points.\n",
    "\n",
    "A random sample of 36 scores is taken and gives a sample mean (sample  mean score) of 68.\n",
    "\n",
    "Find a confidence interval estimate for the population mean exam score (the mean score on all exams).\n",
    "\n",
    "Find a 90% confidence interval for the true (population) mean of statistics exam scores. "
   ]
  },
  {
   "cell_type": "code",
   "execution_count": 6,
   "id": "ada453f9",
   "metadata": {},
   "outputs": [],
   "source": [
    "# We know the population standart deviaton. So, we will use z distribution.\n",
    "    #stats.norm.interval(alpha, loc, scale)\n",
    "        # alpha = confidence interval = 0.90\n",
    "        # loc = sample mean = 68\n",
    "        # scale = standart error of the mean(sem).\n",
    "            #sem = std(x) / np.sqrt(len(x))\n",
    "# std = 3, len = 36\n",
    "\n",
    "# Import libraries\n",
    "from scipy import stats\n",
    "import numpy as np"
   ]
  },
  {
   "cell_type": "code",
   "execution_count": 7,
   "id": "02fadbf8",
   "metadata": {},
   "outputs": [
    {
     "data": {
      "text/plain": [
       "0.5"
      ]
     },
     "execution_count": 7,
     "metadata": {},
     "output_type": "execute_result"
    }
   ],
   "source": [
    "sem = 3 / np.sqrt(36)\n",
    "sem"
   ]
  },
  {
   "cell_type": "code",
   "execution_count": 8,
   "id": "0b2363b5",
   "metadata": {},
   "outputs": [
    {
     "data": {
      "text/plain": [
       "(67.17757318652427, 68.82242681347573)"
      ]
     },
     "execution_count": 8,
     "metadata": {},
     "output_type": "execute_result"
    }
   ],
   "source": [
    "stats.norm.interval(alpha=0.90, loc=68, scale=sem)"
   ]
  },
  {
   "cell_type": "code",
   "execution_count": 9,
   "id": "39e674d8",
   "metadata": {},
   "outputs": [
    {
     "data": {
      "text/plain": [
       "(67.15521377301812, 68.84478622698188)"
      ]
     },
     "execution_count": 9,
     "metadata": {},
     "output_type": "execute_result"
    }
   ],
   "source": [
    "# Also we want to check values for the t distribution.\n",
    "# df = degree of freedom = len(x) - 1\n",
    "stats.t.interval(alpha=0.90, df=35, loc=68, scale=sem)"
   ]
  },
  {
   "cell_type": "markdown",
   "id": "fa78137e",
   "metadata": {},
   "source": [
    "######  EXERCISE 2\n",
    "What is the normal body temperature for healthy humans? \n",
    "\n",
    "A random sample of 130 healthy human body temperatures provided by Allen Shoemaker7 yielded 98.25 degrees and standard deviation 0.73 degrees. \n",
    "\n",
    "Give a 99% confidence interval for the average body temperature of healthy people."
   ]
  },
  {
   "cell_type": "code",
   "execution_count": 1,
   "id": "83f9d7cf",
   "metadata": {},
   "outputs": [],
   "source": [
    "# We don't know the population standart deviaton.So, we will use t distribution.\n",
    "    #stats.t.interval(alpha, df, loc, scale)\n",
    "        # alpha = confidence interval = 0.99\n",
    "        # df = degree of freedom = len(x) - 1 = 129\n",
    "        # loc = sample mean = 98.25\n",
    "        # scale = standart error of the mean(sem)\n",
    "            # sem = std(x) / np.sqrt(len(x))\n",
    "# std = 0.73, len= 130\n",
    "\n",
    "# Import libraries\n",
    "from scipy import stats\n",
    "import numpy as np"
   ]
  },
  {
   "cell_type": "code",
   "execution_count": 2,
   "id": "a51a22a6",
   "metadata": {},
   "outputs": [
    {
     "data": {
      "text/plain": [
       "0.06402523540941313"
      ]
     },
     "execution_count": 2,
     "metadata": {},
     "output_type": "execute_result"
    }
   ],
   "source": [
    "sem = 0.73 / np.sqrt(130)\n",
    "sem"
   ]
  },
  {
   "cell_type": "code",
   "execution_count": 3,
   "id": "ff1c0fa8",
   "metadata": {},
   "outputs": [
    {
     "data": {
      "text/plain": [
       "(98.08260738705933, 98.41739261294067)"
      ]
     },
     "execution_count": 3,
     "metadata": {},
     "output_type": "execute_result"
    }
   ],
   "source": [
    "stats.t.interval(alpha=0.99, df=129, loc=98.25, scale=sem)"
   ]
  },
  {
   "cell_type": "code",
   "execution_count": 4,
   "id": "b236e698",
   "metadata": {},
   "outputs": [],
   "source": [
    "# Also we want to check values for the z distribution."
   ]
  },
  {
   "cell_type": "code",
   "execution_count": 5,
   "id": "32d4a385",
   "metadata": {},
   "outputs": [
    {
     "data": {
      "text/plain": [
       "(98.08508192246582, 98.41491807753418)"
      ]
     },
     "execution_count": 5,
     "metadata": {},
     "output_type": "execute_result"
    }
   ],
   "source": [
    "stats.norm.interval(alpha=0.99, loc=98.25, scale=sem)"
   ]
  },
  {
   "cell_type": "markdown",
   "id": "62edb8c9",
   "metadata": {},
   "source": [
    "###### EXERCISE 3\n",
    "The administrators for a hospital wished to estimate the average number of days required for inpatient treatment of patients between the ages of 25 and 34.\n",
    "\n",
    "A random sample of 500 hospital patients between these ages produced a mean and standard deviation equal to 5.4 and 3.1 days, respectively.\n",
    "\n",
    "\n",
    "Construct a 95% confidence interval for the mean length of stay for the population of patients from which the sample was drawn.\n"
   ]
  },
  {
   "cell_type": "code",
   "execution_count": 10,
   "id": "92d94a4f",
   "metadata": {},
   "outputs": [],
   "source": [
    "# We don't know the population standart deviaton.So, we will use t distribution.\n",
    "    #stats.t.interval(alpha, df, loc, scale)\n",
    "        # alpha = confidence interval = 0.95\n",
    "        # df = degree of freedom = len(x) - 1 = 499\n",
    "        # loc = sample mean = 5.4\n",
    "        # scale = standart error of the mean(sem)\n",
    "            # sem = std(x) / np.sqrt(len(x))\n",
    "# std = 3.1, len = 500\n",
    "\n",
    "# Import libraries\n",
    "from scipy import stats\n",
    "import numpy as np"
   ]
  },
  {
   "cell_type": "code",
   "execution_count": 11,
   "id": "63f212f2",
   "metadata": {},
   "outputs": [
    {
     "data": {
      "text/plain": [
       "0.13863621460498696"
      ]
     },
     "execution_count": 11,
     "metadata": {},
     "output_type": "execute_result"
    }
   ],
   "source": [
    "sem = 3.1 / np.sqrt(500)\n",
    "sem"
   ]
  },
  {
   "cell_type": "code",
   "execution_count": 12,
   "id": "2dc448ac",
   "metadata": {},
   "outputs": [
    {
     "data": {
      "text/plain": [
       "(5.127617354510309, 5.672382645489692)"
      ]
     },
     "execution_count": 12,
     "metadata": {},
     "output_type": "execute_result"
    }
   ],
   "source": [
    "stats.t.interval(alpha=0.95, df=499, loc=5.4, scale=sem)"
   ]
  },
  {
   "cell_type": "code",
   "execution_count": 13,
   "id": "f2de0704",
   "metadata": {},
   "outputs": [],
   "source": [
    "# Also we want to check values for the z distribution."
   ]
  },
  {
   "cell_type": "code",
   "execution_count": 14,
   "id": "bd0527be",
   "metadata": {},
   "outputs": [
    {
     "data": {
      "text/plain": [
       "(5.12827801242126, 5.67172198757874)"
      ]
     },
     "execution_count": 14,
     "metadata": {},
     "output_type": "execute_result"
    }
   ],
   "source": [
    "stats.norm.interval(alpha=0.95, loc=5.4, scale=sem)"
   ]
  }
 ],
 "metadata": {
  "kernelspec": {
   "display_name": "Python 3 (ipykernel)",
   "language": "python",
   "name": "python3"
  },
  "language_info": {
   "codemirror_mode": {
    "name": "ipython",
    "version": 3
   },
   "file_extension": ".py",
   "mimetype": "text/x-python",
   "name": "python",
   "nbconvert_exporter": "python",
   "pygments_lexer": "ipython3",
   "version": "3.9.12"
  }
 },
 "nbformat": 4,
 "nbformat_minor": 5
}
