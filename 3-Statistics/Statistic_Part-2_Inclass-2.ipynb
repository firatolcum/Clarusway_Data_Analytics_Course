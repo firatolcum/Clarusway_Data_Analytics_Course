{
 "cells": [
  {
   "cell_type": "code",
   "execution_count": 3,
   "id": "6d43ca0d",
   "metadata": {},
   "outputs": [],
   "source": [
    "from scipy import stats\n",
    "import numpy as np\n",
    "import matplotlib.pyplot as plt\n",
    "import seaborn as sns"
   ]
  },
  {
   "cell_type": "markdown",
   "id": "0bd6c095",
   "metadata": {},
   "source": [
    "## Hypothesis Tests\n",
    "1- One Sample t Test\n",
    "\n",
    "2- Diff Between Means\n",
    "\n",
    "3- Diff Between Pairs\n",
    "\n",
    "4- Goodness of Fit Test\n",
    "\n",
    "5- Homogeneity\n",
    "\n",
    "6- Independence\n",
    "\n",
    "7- Regression Slope"
   ]
  },
  {
   "cell_type": "markdown",
   "id": "a248571c",
   "metadata": {},
   "source": [
    "### 1- One Sample t Test"
   ]
  },
  {
   "cell_type": "markdown",
   "id": "97330350",
   "metadata": {},
   "source": [
    "##### Example-1\n",
    "Suppose that a beach is safe to swim if the mean level of lead in the water is 10.0 parts/ million. We assume sigma = 1.5. Water safety is going to be determined by taking 40 water samples and using the test statistic. Sample mean = 10.5, a = 0.05"
   ]
  },
  {
   "cell_type": "markdown",
   "id": "cdf2877b",
   "metadata": {},
   "source": [
    "### Manual Solution"
   ]
  },
  {
   "cell_type": "code",
   "execution_count": 6,
   "id": "68f8116a",
   "metadata": {},
   "outputs": [],
   "source": [
    "xbar = 10.5\n",
    "sigma = 1.5\n",
    "n = 40\n",
    "mu = 10"
   ]
  },
  {
   "cell_type": "markdown",
   "id": "45d72b2e",
   "metadata": {},
   "source": [
    "##### Hypothesis"
   ]
  },
  {
   "cell_type": "code",
   "execution_count": 7,
   "id": "c4b5d7a5",
   "metadata": {},
   "outputs": [],
   "source": [
    "# H0 : mu=10\n",
    "# H1 mu > 10"
   ]
  },
  {
   "cell_type": "markdown",
   "id": "95a34b54",
   "metadata": {},
   "source": [
    "##### Test Statistic"
   ]
  },
  {
   "cell_type": "code",
   "execution_count": 8,
   "id": "aca20d03",
   "metadata": {},
   "outputs": [
    {
     "data": {
      "text/plain": [
       "2.1081851067789197"
      ]
     },
     "execution_count": 8,
     "metadata": {},
     "output_type": "execute_result"
    }
   ],
   "source": [
    "z = (xbar - mu) / (sigma / np.sqrt(n))\n",
    "z"
   ]
  },
  {
   "cell_type": "markdown",
   "id": "6a9a270f",
   "metadata": {},
   "source": [
    "##### p-value"
   ]
  },
  {
   "cell_type": "code",
   "execution_count": 9,
   "id": "fc6ffb8a",
   "metadata": {},
   "outputs": [
    {
     "data": {
      "text/plain": [
       "0.017507490509831247"
      ]
     },
     "execution_count": 9,
     "metadata": {},
     "output_type": "execute_result"
    }
   ],
   "source": [
    "p = 1 - stats.norm.cdf(z)\n",
    "p"
   ]
  },
  {
   "cell_type": "markdown",
   "id": "8586d2c7",
   "metadata": {},
   "source": [
    "### Python Solution"
   ]
  },
  {
   "cell_type": "code",
   "execution_count": null,
   "id": "322855f8",
   "metadata": {},
   "outputs": [],
   "source": [
    "#stats.ttest_1samp(a, popmean, alternative)\n",
    "#stats.ttest_1samp(a, 10, alternative= \"greater\")\n",
    "# a yerine array yazmak gerek. Yazamadığımız için bu şekilde bıraktık."
   ]
  },
  {
   "cell_type": "code",
   "execution_count": null,
   "id": "ee6e08aa",
   "metadata": {},
   "outputs": [],
   "source": []
  },
  {
   "cell_type": "markdown",
   "id": "9192333e",
   "metadata": {},
   "source": [
    "#####  Example-2"
   ]
  },
  {
   "cell_type": "code",
   "execution_count": 10,
   "id": "f775a2c3",
   "metadata": {},
   "outputs": [],
   "source": [
    "df = sns.load_dataset(\"mpg\")"
   ]
  },
  {
   "cell_type": "code",
   "execution_count": 11,
   "id": "ff499266",
   "metadata": {},
   "outputs": [
    {
     "data": {
      "text/html": [
       "<div>\n",
       "<style scoped>\n",
       "    .dataframe tbody tr th:only-of-type {\n",
       "        vertical-align: middle;\n",
       "    }\n",
       "\n",
       "    .dataframe tbody tr th {\n",
       "        vertical-align: top;\n",
       "    }\n",
       "\n",
       "    .dataframe thead th {\n",
       "        text-align: right;\n",
       "    }\n",
       "</style>\n",
       "<table border=\"1\" class=\"dataframe\">\n",
       "  <thead>\n",
       "    <tr style=\"text-align: right;\">\n",
       "      <th></th>\n",
       "      <th>mpg</th>\n",
       "      <th>cylinders</th>\n",
       "      <th>displacement</th>\n",
       "      <th>horsepower</th>\n",
       "      <th>weight</th>\n",
       "      <th>acceleration</th>\n",
       "      <th>model_year</th>\n",
       "      <th>origin</th>\n",
       "      <th>name</th>\n",
       "    </tr>\n",
       "  </thead>\n",
       "  <tbody>\n",
       "    <tr>\n",
       "      <th>0</th>\n",
       "      <td>18.0</td>\n",
       "      <td>8</td>\n",
       "      <td>307.0</td>\n",
       "      <td>130.0</td>\n",
       "      <td>3504</td>\n",
       "      <td>12.0</td>\n",
       "      <td>70</td>\n",
       "      <td>usa</td>\n",
       "      <td>chevrolet chevelle malibu</td>\n",
       "    </tr>\n",
       "    <tr>\n",
       "      <th>1</th>\n",
       "      <td>15.0</td>\n",
       "      <td>8</td>\n",
       "      <td>350.0</td>\n",
       "      <td>165.0</td>\n",
       "      <td>3693</td>\n",
       "      <td>11.5</td>\n",
       "      <td>70</td>\n",
       "      <td>usa</td>\n",
       "      <td>buick skylark 320</td>\n",
       "    </tr>\n",
       "    <tr>\n",
       "      <th>2</th>\n",
       "      <td>18.0</td>\n",
       "      <td>8</td>\n",
       "      <td>318.0</td>\n",
       "      <td>150.0</td>\n",
       "      <td>3436</td>\n",
       "      <td>11.0</td>\n",
       "      <td>70</td>\n",
       "      <td>usa</td>\n",
       "      <td>plymouth satellite</td>\n",
       "    </tr>\n",
       "    <tr>\n",
       "      <th>3</th>\n",
       "      <td>16.0</td>\n",
       "      <td>8</td>\n",
       "      <td>304.0</td>\n",
       "      <td>150.0</td>\n",
       "      <td>3433</td>\n",
       "      <td>12.0</td>\n",
       "      <td>70</td>\n",
       "      <td>usa</td>\n",
       "      <td>amc rebel sst</td>\n",
       "    </tr>\n",
       "    <tr>\n",
       "      <th>4</th>\n",
       "      <td>17.0</td>\n",
       "      <td>8</td>\n",
       "      <td>302.0</td>\n",
       "      <td>140.0</td>\n",
       "      <td>3449</td>\n",
       "      <td>10.5</td>\n",
       "      <td>70</td>\n",
       "      <td>usa</td>\n",
       "      <td>ford torino</td>\n",
       "    </tr>\n",
       "  </tbody>\n",
       "</table>\n",
       "</div>"
      ],
      "text/plain": [
       "    mpg  cylinders  displacement  horsepower  weight  acceleration  \\\n",
       "0  18.0          8         307.0       130.0    3504          12.0   \n",
       "1  15.0          8         350.0       165.0    3693          11.5   \n",
       "2  18.0          8         318.0       150.0    3436          11.0   \n",
       "3  16.0          8         304.0       150.0    3433          12.0   \n",
       "4  17.0          8         302.0       140.0    3449          10.5   \n",
       "\n",
       "   model_year origin                       name  \n",
       "0          70    usa  chevrolet chevelle malibu  \n",
       "1          70    usa          buick skylark 320  \n",
       "2          70    usa         plymouth satellite  \n",
       "3          70    usa              amc rebel sst  \n",
       "4          70    usa                ford torino  "
      ]
     },
     "execution_count": 11,
     "metadata": {},
     "output_type": "execute_result"
    }
   ],
   "source": [
    "df.head()"
   ]
  },
  {
   "cell_type": "code",
   "execution_count": 14,
   "id": "3c698f7e",
   "metadata": {},
   "outputs": [
    {
     "data": {
      "text/plain": [
       "count    245.00000\n",
       "mean     119.04898\n",
       "std       39.89779\n",
       "min       52.00000\n",
       "25%       88.00000\n",
       "50%      105.00000\n",
       "75%      150.00000\n",
       "max      230.00000\n",
       "Name: horsepower, dtype: float64"
      ]
     },
     "execution_count": 14,
     "metadata": {},
     "output_type": "execute_result"
    }
   ],
   "source": [
    "# origin i usa olan arabaların beygir güçlerinin ortalamalarının 110 dan büyük olup olmadığını test edeceğiz.\n",
    "df[df[\"origin\"] == \"usa\"][\"horsepower\"].describe()"
   ]
  },
  {
   "cell_type": "code",
   "execution_count": null,
   "id": "3e0f9b8e",
   "metadata": {},
   "outputs": [],
   "source": [
    "# H0 : mu = 110\n",
    "# H1 : mu > 110"
   ]
  },
  {
   "cell_type": "code",
   "execution_count": 15,
   "id": "e5e7be59",
   "metadata": {},
   "outputs": [
    {
     "data": {
      "text/plain": [
       "Ttest_1sampResult(statistic=nan, pvalue=nan)"
      ]
     },
     "execution_count": 15,
     "metadata": {},
     "output_type": "execute_result"
    }
   ],
   "source": [
    "stats.ttest_1samp(a=df[df[\"origin\"] == \"usa\"][\"horsepower\"], popmean=110, alternative=\"greater\")\n",
    "# veride null değerler var. null değerler olduğu için sonucu nan verdi."
   ]
  },
  {
   "cell_type": "code",
   "execution_count": 16,
   "id": "e2ac396d",
   "metadata": {},
   "outputs": [
    {
     "data": {
      "text/plain": [
       "Ttest_1sampResult(statistic=3.550044602017898, pvalue=0.0002310035889540432)"
      ]
     },
     "execution_count": 16,
     "metadata": {},
     "output_type": "execute_result"
    }
   ],
   "source": [
    "#dropna yaptık\n",
    "stats.ttest_1samp(a=df[df[\"origin\"] == \"usa\"][\"horsepower\"].dropna(), popmean=110, alternative=\"greater\")\n",
    "# usa menşeili arabaların beygir gücü anlamlı olarak 110'dan yüksektir"
   ]
  },
  {
   "cell_type": "markdown",
   "id": "827ff438",
   "metadata": {},
   "source": [
    "##### Example-3"
   ]
  },
  {
   "cell_type": "code",
   "execution_count": 17,
   "id": "a5c700d0",
   "metadata": {},
   "outputs": [],
   "source": [
    "# USA origin arabaların mpglerinin ortalamaları 22 den küçük mü?"
   ]
  },
  {
   "cell_type": "code",
   "execution_count": 29,
   "id": "2cf028ec",
   "metadata": {},
   "outputs": [],
   "source": [
    "# H0 : mu = 22\n",
    "# H1 : mu < 22"
   ]
  },
  {
   "cell_type": "code",
   "execution_count": 19,
   "id": "83846c11",
   "metadata": {},
   "outputs": [
    {
     "data": {
      "text/plain": [
       "Ttest_1sampResult(statistic=-4.723072192881628, pvalue=1.9455026028456406e-06)"
      ]
     },
     "execution_count": 19,
     "metadata": {},
     "output_type": "execute_result"
    }
   ],
   "source": [
    "stats.ttest_1samp(a=df[df[\"origin\"] == \"usa\"][\"mpg\"], popmean=22, alternative=\"less\")\n",
    "# e-06 değeri scientific bir değerdir bu  3.89 çarpı 10 üzeri -6 anlamındadır"
   ]
  },
  {
   "cell_type": "markdown",
   "id": "1f34441a",
   "metadata": {},
   "source": [
    "##### Example-4"
   ]
  },
  {
   "cell_type": "code",
   "execution_count": 26,
   "id": "702ce9cf",
   "metadata": {},
   "outputs": [],
   "source": [
    "# Origini europe olan arabaların ağırlıkları ortalamaları 3000 midir değil midir?"
   ]
  },
  {
   "cell_type": "code",
   "execution_count": 27,
   "id": "7a4ff2ec",
   "metadata": {},
   "outputs": [],
   "source": [
    "# H0 : mu = 3000\n",
    "# H1 : mu != 3000"
   ]
  },
  {
   "cell_type": "code",
   "execution_count": 28,
   "id": "b772c17e",
   "metadata": {},
   "outputs": [
    {
     "data": {
      "text/plain": [
       "Ttest_1sampResult(statistic=-9.84610838848352, pvalue=8.80766713530181e-15)"
      ]
     },
     "execution_count": 28,
     "metadata": {},
     "output_type": "execute_result"
    }
   ],
   "source": [
    "stats.ttest_1samp(a=df[df[\"origin\"] == \"europe\"][\"weight\"], popmean=3000, alternative=\"two-sided\")"
   ]
  },
  {
   "cell_type": "code",
   "execution_count": 31,
   "id": "b90f0cfa",
   "metadata": {},
   "outputs": [],
   "source": [
    "# p < alfa çıktı.Orijini europa olan arabaların ağırlıkları ortalamaları 3000'den farklıdır."
   ]
  },
  {
   "cell_type": "code",
   "execution_count": null,
   "id": "c067b872",
   "metadata": {},
   "outputs": [],
   "source": [
    "# sağlamasını yapıyoruz\n",
    "df[df[\"origin\"] == \"europe\"][\"weight\"].mean()"
   ]
  },
  {
   "cell_type": "markdown",
   "id": "780cfece",
   "metadata": {},
   "source": [
    "##### Example-5\n",
    "A department store manager determines that a new billing system will be cost-effective only if the mean monthly account is more than $170.\n",
    "\n",
    "A random sample of 400 monthly accounts is drawn, for which the sample mean is $178. \n",
    " \n",
    "The accounts are approximately normally distributed with a standart deviation of $65.\n",
    "\n",
    "Can we conclude that the new system will be cost-effective?"
   ]
  },
  {
   "cell_type": "code",
   "execution_count": null,
   "id": "2dec1029",
   "metadata": {},
   "outputs": [],
   "source": [
    "# We know population std. So, we will use z-test."
   ]
  },
  {
   "cell_type": "code",
   "execution_count": null,
   "id": "7e26eaac",
   "metadata": {},
   "outputs": [],
   "source": [
    "# H0 : mu=170\n",
    "# H1 : mu > 170"
   ]
  },
  {
   "cell_type": "code",
   "execution_count": 1,
   "id": "75d12fd0",
   "metadata": {},
   "outputs": [],
   "source": [
    "xbar = 178\n",
    "sigma = 65\n",
    "n = 400\n",
    "mu = 170"
   ]
  },
  {
   "cell_type": "code",
   "execution_count": 4,
   "id": "449e31d9",
   "metadata": {},
   "outputs": [
    {
     "data": {
      "text/plain": [
       "2.4615384615384617"
      ]
     },
     "execution_count": 4,
     "metadata": {},
     "output_type": "execute_result"
    }
   ],
   "source": [
    "z = (xbar - mu) / (sigma / np.sqrt(n))\n",
    "z"
   ]
  },
  {
   "cell_type": "code",
   "execution_count": 5,
   "id": "87217801",
   "metadata": {},
   "outputs": [
    {
     "data": {
      "text/plain": [
       "0.006917128192854505"
      ]
     },
     "execution_count": 5,
     "metadata": {},
     "output_type": "execute_result"
    }
   ],
   "source": [
    "p = 1 - stats.norm.cdf(z)\n",
    "p"
   ]
  },
  {
   "cell_type": "code",
   "execution_count": null,
   "id": "75b51971",
   "metadata": {},
   "outputs": [],
   "source": [
    "# P-value = 0.0069\n",
    "# Significance level(a) = 0.05\n",
    "# P-value < a -----> Reject the Null\n",
    "# So it is cost effective to install the new billing system."
   ]
  },
  {
   "cell_type": "markdown",
   "id": "e5031ec2",
   "metadata": {},
   "source": [
    "##### Example-6\n",
    "Bon Air ELEM has 1000 students. \n",
    "\n",
    "The principal of the school thinks that the average IQ of students at Bon Air is at least 110. \n",
    "\n",
    "To prove her point, she administers an IQ test to 20 randomly selected students, the average IQ is 108 with a standart deviation of 10. \n",
    "\n",
    "Based on these results, should the principal accept or reject her original hypothesis? a= 0.01"
   ]
  },
  {
   "cell_type": "code",
   "execution_count": 6,
   "id": "b83a2073",
   "metadata": {},
   "outputs": [],
   "source": [
    "# We dont't know population std. Also our observations sample less than 30. So, we will use t-score."
   ]
  },
  {
   "cell_type": "code",
   "execution_count": null,
   "id": "3d9dbdf5",
   "metadata": {},
   "outputs": [],
   "source": [
    "# H0 : mu = 110\n",
    "# H1 : mu < 110"
   ]
  },
  {
   "cell_type": "code",
   "execution_count": 7,
   "id": "0d3f5f3f",
   "metadata": {},
   "outputs": [],
   "source": [
    "xbar = 108\n",
    "sigma = 10\n",
    "n = 20\n",
    "mu = 110"
   ]
  },
  {
   "cell_type": "code",
   "execution_count": 9,
   "id": "b02c04d1",
   "metadata": {},
   "outputs": [
    {
     "data": {
      "text/plain": [
       "-0.8944271909999159"
      ]
     },
     "execution_count": 9,
     "metadata": {},
     "output_type": "execute_result"
    }
   ],
   "source": [
    "t = (xbar - mu) / (sigma / np.sqrt(n))\n",
    "t"
   ]
  },
  {
   "cell_type": "code",
   "execution_count": 13,
   "id": "03093c50",
   "metadata": {},
   "outputs": [
    {
     "data": {
      "text/plain": [
       "0.1911420676837155"
      ]
     },
     "execution_count": 13,
     "metadata": {},
     "output_type": "execute_result"
    }
   ],
   "source": [
    "p = stats.t.cdf(t, df= n-1)\n",
    "p"
   ]
  },
  {
   "cell_type": "code",
   "execution_count": 15,
   "id": "ee458160",
   "metadata": {},
   "outputs": [],
   "source": [
    "# P-value = 0.19\n",
    "# Significance level(a) = 0.01\n",
    "# P-value > a -----> Fail to Reject the Null\n",
    "# The principal should accept her original hypothesis"
   ]
  },
  {
   "cell_type": "code",
   "execution_count": 5,
   "id": "367ea260",
   "metadata": {},
   "outputs": [],
   "source": [
    "import numpy as np"
   ]
  },
  {
   "cell_type": "code",
   "execution_count": 6,
   "id": "ad45980a",
   "metadata": {},
   "outputs": [],
   "source": [
    "di = np.array([1.5, 2.3, 4.7, 6.1, -1.2, 2.6, 1.5, -0.4, -2.7, 1.9, 1.1, -1.5])"
   ]
  },
  {
   "cell_type": "code",
   "execution_count": 7,
   "id": "20a3829c",
   "metadata": {},
   "outputs": [
    {
     "data": {
      "text/plain": [
       "1.3250000000000002"
      ]
     },
     "execution_count": 7,
     "metadata": {},
     "output_type": "execute_result"
    }
   ],
   "source": [
    "di.mean()"
   ]
  },
  {
   "cell_type": "code",
   "execution_count": 8,
   "id": "21bd96c2",
   "metadata": {},
   "outputs": [
    {
     "data": {
      "text/plain": [
       "15.900000000000002"
      ]
     },
     "execution_count": 8,
     "metadata": {},
     "output_type": "execute_result"
    }
   ],
   "source": [
    "di.sum()"
   ]
  },
  {
   "cell_type": "code",
   "execution_count": null,
   "id": "91333ba7",
   "metadata": {},
   "outputs": [],
   "source": []
  },
  {
   "cell_type": "code",
   "execution_count": null,
   "id": "bbc8a97c",
   "metadata": {},
   "outputs": [],
   "source": []
  }
 ],
 "metadata": {
  "kernelspec": {
   "display_name": "Python 3 (ipykernel)",
   "language": "python",
   "name": "python3"
  },
  "language_info": {
   "codemirror_mode": {
    "name": "ipython",
    "version": 3
   },
   "file_extension": ".py",
   "mimetype": "text/x-python",
   "name": "python",
   "nbconvert_exporter": "python",
   "pygments_lexer": "ipython3",
   "version": "3.9.12"
  }
 },
 "nbformat": 4,
 "nbformat_minor": 5
}
