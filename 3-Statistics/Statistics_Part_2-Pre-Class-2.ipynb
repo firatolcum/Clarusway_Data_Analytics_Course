{
 "cells": [
  {
   "cell_type": "markdown",
   "id": "e2a3fd0c",
   "metadata": {},
   "source": [
    "### Independent Samples T Test Using Scipy"
   ]
  },
  {
   "cell_type": "markdown",
   "id": "e2ddca59",
   "metadata": {},
   "source": [
    "##### Example\n",
    "To reach maximum efficiency in performing an assembly operation in a manufacturing plant, new employees require approximately a 1-month training period. A new method of training was suggested, and a test was conducted to compare the new method with the standard procedure. Two groups of nine new employees each were trained for a period of 3 weeks, one group using the new method and the other following the standard training procedure. The length of time (in minutes) required for each employee to assemble the device was recorded at the end of the 3-week period. The resulting measurements are as shown below in Table <br>\n",
    "Procedure\t   Measurements <br>\n",
    "Standard\t   32 37 35 28 41 44 35 31 34 <br>\n",
    "New\t           35 31 29 25 34 40 27 32 31<br>\n",
    "Is there sufficient evidence to indicate a difference in true mean assembly times for those trained using the two methods? Test at the α = .05 level of significance."
   ]
  },
  {
   "cell_type": "code",
   "execution_count": 1,
   "id": "8400b91e",
   "metadata": {},
   "outputs": [],
   "source": [
    "# We are testing H0: mu1 = mu2 against the alternative H1: mu1 != mu2"
   ]
  },
  {
   "cell_type": "code",
   "execution_count": 2,
   "id": "5d37bdeb",
   "metadata": {},
   "outputs": [],
   "source": [
    "import numpy as np\n",
    "from scipy import stats"
   ]
  },
  {
   "cell_type": "code",
   "execution_count": 9,
   "id": "53e32009",
   "metadata": {},
   "outputs": [],
   "source": [
    "standart = np.array([32, 37, 35, 28, 41, 44, 35, 31, 34])\n",
    "new = np.array([35, 31, 29, 25, 34, 40, 27, 32, 31])"
   ]
  },
  {
   "cell_type": "code",
   "execution_count": 10,
   "id": "1047c3f4",
   "metadata": {},
   "outputs": [
    {
     "data": {
      "text/plain": [
       "Ttest_indResult(statistic=1.6494846165734016, pvalue=0.11853980248116995)"
      ]
     },
     "execution_count": 10,
     "metadata": {},
     "output_type": "execute_result"
    }
   ],
   "source": [
    "# Way-1\n",
    "# calculate the test statistics and p-value using stats.ttest_ind():\n",
    "stats.ttest_ind(a=standart, b=new, equal_var=True, alternative=\"two-sided\") # assumes equal population variances"
   ]
  },
  {
   "cell_type": "code",
   "execution_count": 11,
   "id": "e7e6ade7",
   "metadata": {},
   "outputs": [
    {
     "data": {
      "text/plain": [
       "Ttest_indResult(statistic=1.6494846165734016, pvalue=0.11853980248116995)"
      ]
     },
     "execution_count": 11,
     "metadata": {},
     "output_type": "execute_result"
    }
   ],
   "source": [
    "# Way-2\n",
    "# Calculate test statistics and p-value using stats.ttest_ind_from_stats:\n",
    "stats.ttest_ind_from_stats(mean1=np.mean(standart),\n",
    "                           std1=np.std(standart, ddof=1),\n",
    "                           nobs1=np.size(standart),\n",
    "                           mean2=np.mean(new),\n",
    "                           std2=np.std(new, ddof=1),\n",
    "                           nobs2=np.size(new))"
   ]
  },
  {
   "cell_type": "code",
   "execution_count": null,
   "id": "49f5da71",
   "metadata": {},
   "outputs": [],
   "source": []
  },
  {
   "cell_type": "code",
   "execution_count": null,
   "id": "fb3e2845",
   "metadata": {},
   "outputs": [],
   "source": []
  },
  {
   "cell_type": "code",
   "execution_count": null,
   "id": "53c23f63",
   "metadata": {},
   "outputs": [],
   "source": []
  },
  {
   "cell_type": "code",
   "execution_count": null,
   "id": "77a36d17",
   "metadata": {},
   "outputs": [],
   "source": []
  },
  {
   "cell_type": "code",
   "execution_count": null,
   "id": "d2c3e8c9",
   "metadata": {},
   "outputs": [],
   "source": []
  },
  {
   "cell_type": "code",
   "execution_count": null,
   "id": "d8f9fc55",
   "metadata": {},
   "outputs": [],
   "source": []
  },
  {
   "cell_type": "code",
   "execution_count": null,
   "id": "8cf49f47",
   "metadata": {},
   "outputs": [],
   "source": []
  },
  {
   "cell_type": "code",
   "execution_count": null,
   "id": "093f0e56",
   "metadata": {},
   "outputs": [],
   "source": []
  },
  {
   "cell_type": "code",
   "execution_count": null,
   "id": "bc1bc6ca",
   "metadata": {},
   "outputs": [],
   "source": []
  },
  {
   "cell_type": "code",
   "execution_count": null,
   "id": "249af076",
   "metadata": {},
   "outputs": [],
   "source": []
  },
  {
   "cell_type": "code",
   "execution_count": null,
   "id": "054d1c81",
   "metadata": {},
   "outputs": [],
   "source": []
  },
  {
   "cell_type": "code",
   "execution_count": null,
   "id": "95258b00",
   "metadata": {},
   "outputs": [],
   "source": []
  },
  {
   "cell_type": "code",
   "execution_count": null,
   "id": "76262eaa",
   "metadata": {},
   "outputs": [],
   "source": []
  },
  {
   "cell_type": "code",
   "execution_count": null,
   "id": "a7de7817",
   "metadata": {},
   "outputs": [],
   "source": []
  },
  {
   "cell_type": "code",
   "execution_count": null,
   "id": "94f3bcbb",
   "metadata": {},
   "outputs": [],
   "source": []
  },
  {
   "cell_type": "code",
   "execution_count": null,
   "id": "da7b4e2f",
   "metadata": {},
   "outputs": [],
   "source": []
  }
 ],
 "metadata": {
  "kernelspec": {
   "display_name": "Python 3 (ipykernel)",
   "language": "python",
   "name": "python3"
  },
  "language_info": {
   "codemirror_mode": {
    "name": "ipython",
    "version": 3
   },
   "file_extension": ".py",
   "mimetype": "text/x-python",
   "name": "python",
   "nbconvert_exporter": "python",
   "pygments_lexer": "ipython3",
   "version": "3.9.12"
  }
 },
 "nbformat": 4,
 "nbformat_minor": 5
}
