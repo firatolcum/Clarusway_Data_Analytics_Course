{
 "cells": [
  {
   "cell_type": "markdown",
   "id": "5967a806",
   "metadata": {},
   "source": [
    "##### Confidence Interval for Population Mean Using SciPy"
   ]
  },
  {
   "cell_type": "markdown",
   "id": "7a0d1491",
   "metadata": {},
   "source": [
    "###### 1. Large Sample or Population Variance Known (using z-score)\n",
    "When working with large samples(n>=30), we can assume that the sampling distribution of the sample mean is approximately normally distributed. In this case, we can calculate te confidence interval for the mean using the 'stats.norm.interval()' function in SciPy."
   ]
  },
  {
   "cell_type": "code",
   "execution_count": 1,
   "id": "158175db",
   "metadata": {},
   "outputs": [],
   "source": [
    "import numpy as np\n",
    "from scipy import stats"
   ]
  },
  {
   "cell_type": "code",
   "execution_count": 3,
   "id": "b4054120",
   "metadata": {},
   "outputs": [
    {
     "name": "stdout",
     "output_type": "stream",
     "text": [
      "[51 92 14 71 60 20 82 86 74 74 87 99 23  2 21 52  1 87 29 37  1 63 59 20\n",
      " 32 75 57 21 88 48 90 58 41 91 59 79 14 61 61 46]\n"
     ]
    }
   ],
   "source": [
    "# Define a sample dataset(exam grades for a class of 40 students)\n",
    "np.random.seed(42)\n",
    "grades = np.random.randint(100, size=40)\n",
    "print(grades)"
   ]
  },
  {
   "cell_type": "code",
   "execution_count": 4,
   "id": "f327f7db",
   "metadata": {},
   "outputs": [
    {
     "data": {
      "text/plain": [
       "53.15"
      ]
     },
     "execution_count": 4,
     "metadata": {},
     "output_type": "execute_result"
    }
   ],
   "source": [
    "# Calculate the sample mean\n",
    "xbar = np.mean(grades)\n",
    "xbar"
   ]
  },
  {
   "cell_type": "code",
   "execution_count": 5,
   "id": "2dcadf03",
   "metadata": {},
   "outputs": [
    {
     "data": {
      "text/plain": [
       "4.427188724235731"
      ]
     },
     "execution_count": 5,
     "metadata": {},
     "output_type": "execute_result"
    }
   ],
   "source": [
    "# Calculate standart error of the mean\n",
    "n = len(grades)             #sample size\n",
    "sigma = 28                  #population standart deviation (from past experiences)\n",
    "sem = sigma / np.sqrt(n)    #standart error of the mean\n",
    "sem"
   ]
  },
  {
   "cell_type": "code",
   "execution_count": 6,
   "id": "38cbafa4",
   "metadata": {},
   "outputs": [
    {
     "data": {
      "text/plain": [
       "(44.47286954773614, 61.82713045226386)"
      ]
     },
     "execution_count": 6,
     "metadata": {},
     "output_type": "execute_result"
    }
   ],
   "source": [
    "# Calculate 95% confidence interval around the mean by using scipy.stats\n",
    "stats.norm.interval(alpha=0.95, loc=xbar, scale=sem)"
   ]
  },
  {
   "cell_type": "markdown",
   "id": "84e1f601",
   "metadata": {},
   "source": [
    "###### 2. Population Variance Unknown (using t-score)\n",
    "Where the population standart deviation 'σ' is unknown, the sample standart deviation 's' is used. This introduces extra uncertainty, as 's' varies from sample to sample. So, the t distribution is used instead of the normal distribution. In this case, we can calculate the confidence interval for the mean using the 'stats.t.interval()' function in SciPy."
   ]
  },
  {
   "cell_type": "code",
   "execution_count": 7,
   "id": "1d828abe",
   "metadata": {},
   "outputs": [
    {
     "name": "stdout",
     "output_type": "stream",
     "text": [
      "[95 11 81 70 63 87 75  9 77 40  4 63 40 60 92 64  5 12 93 40]\n"
     ]
    }
   ],
   "source": [
    "# Define a sample dataset (exam grades for a class of 20 students)\n",
    "np.random.seed(101)\n",
    "grades = np.random.randint(100, size = 20)\n",
    "print(grades)"
   ]
  },
  {
   "cell_type": "code",
   "execution_count": 8,
   "id": "5e7d0f72",
   "metadata": {},
   "outputs": [
    {
     "data": {
      "text/plain": [
       "(39.205382746648176, 68.89461725335181)"
      ]
     },
     "execution_count": 8,
     "metadata": {},
     "output_type": "execute_result"
    }
   ],
   "source": [
    "# Calculate 95% confidence interval around the mean by using scipy.stats\n",
    "stats.t.interval(alpha=0.95,              #confidence level\n",
    "                 df=np.size(grades)-1,    #degrees of freedom\n",
    "                 loc=np.mean(grades),     #sample mean\n",
    "                 scale=stats.sem(grades)) #standart error of the mean"
   ]
  },
  {
   "cell_type": "code",
   "execution_count": null,
   "id": "d343f438",
   "metadata": {},
   "outputs": [],
   "source": []
  },
  {
   "cell_type": "code",
   "execution_count": null,
   "id": "078423c2",
   "metadata": {},
   "outputs": [],
   "source": []
  },
  {
   "cell_type": "code",
   "execution_count": null,
   "id": "02d4daed",
   "metadata": {},
   "outputs": [],
   "source": []
  },
  {
   "cell_type": "code",
   "execution_count": null,
   "id": "a8b05155",
   "metadata": {},
   "outputs": [],
   "source": []
  },
  {
   "cell_type": "code",
   "execution_count": null,
   "id": "14ef60bf",
   "metadata": {},
   "outputs": [],
   "source": []
  },
  {
   "cell_type": "code",
   "execution_count": null,
   "id": "fda474b6",
   "metadata": {},
   "outputs": [],
   "source": []
  },
  {
   "cell_type": "code",
   "execution_count": null,
   "id": "2c28c67f",
   "metadata": {},
   "outputs": [],
   "source": []
  }
 ],
 "metadata": {
  "kernelspec": {
   "display_name": "Python 3 (ipykernel)",
   "language": "python",
   "name": "python3"
  },
  "language_info": {
   "codemirror_mode": {
    "name": "ipython",
    "version": 3
   },
   "file_extension": ".py",
   "mimetype": "text/x-python",
   "name": "python",
   "nbconvert_exporter": "python",
   "pygments_lexer": "ipython3",
   "version": "3.9.12"
  }
 },
 "nbformat": 4,
 "nbformat_minor": 5
}
