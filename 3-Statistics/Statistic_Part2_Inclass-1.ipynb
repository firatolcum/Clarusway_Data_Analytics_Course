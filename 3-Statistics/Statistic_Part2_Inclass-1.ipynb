{
 "cells": [
  {
   "cell_type": "code",
   "execution_count": 2,
   "id": "441112f8",
   "metadata": {},
   "outputs": [],
   "source": [
    "from scipy import stats\n",
    "import numpy as np\n",
    "import matplotlib.pyplot as plt\n",
    "import seaborn as sns"
   ]
  },
  {
   "cell_type": "code",
   "execution_count": 3,
   "id": "b1d9e189",
   "metadata": {},
   "outputs": [
    {
     "data": {
      "text/plain": [
       "['anagrams',\n",
       " 'anscombe',\n",
       " 'attention',\n",
       " 'brain_networks',\n",
       " 'car_crashes',\n",
       " 'diamonds',\n",
       " 'dots',\n",
       " 'exercise',\n",
       " 'flights',\n",
       " 'fmri',\n",
       " 'gammas',\n",
       " 'geyser',\n",
       " 'iris',\n",
       " 'mpg',\n",
       " 'penguins',\n",
       " 'planets',\n",
       " 'taxis',\n",
       " 'tips',\n",
       " 'titanic']"
      ]
     },
     "execution_count": 3,
     "metadata": {},
     "output_type": "execute_result"
    }
   ],
   "source": [
    "sns.get_dataset_names()"
   ]
  },
  {
   "cell_type": "code",
   "execution_count": 4,
   "id": "84a51a90",
   "metadata": {},
   "outputs": [],
   "source": [
    "tips = sns.load_dataset(\"tips\")"
   ]
  },
  {
   "cell_type": "code",
   "execution_count": 5,
   "id": "49f22172",
   "metadata": {},
   "outputs": [
    {
     "data": {
      "text/html": [
       "<div>\n",
       "<style scoped>\n",
       "    .dataframe tbody tr th:only-of-type {\n",
       "        vertical-align: middle;\n",
       "    }\n",
       "\n",
       "    .dataframe tbody tr th {\n",
       "        vertical-align: top;\n",
       "    }\n",
       "\n",
       "    .dataframe thead th {\n",
       "        text-align: right;\n",
       "    }\n",
       "</style>\n",
       "<table border=\"1\" class=\"dataframe\">\n",
       "  <thead>\n",
       "    <tr style=\"text-align: right;\">\n",
       "      <th></th>\n",
       "      <th>total_bill</th>\n",
       "      <th>tip</th>\n",
       "      <th>sex</th>\n",
       "      <th>smoker</th>\n",
       "      <th>day</th>\n",
       "      <th>time</th>\n",
       "      <th>size</th>\n",
       "    </tr>\n",
       "  </thead>\n",
       "  <tbody>\n",
       "    <tr>\n",
       "      <th>0</th>\n",
       "      <td>16.99</td>\n",
       "      <td>1.01</td>\n",
       "      <td>Female</td>\n",
       "      <td>No</td>\n",
       "      <td>Sun</td>\n",
       "      <td>Dinner</td>\n",
       "      <td>2</td>\n",
       "    </tr>\n",
       "    <tr>\n",
       "      <th>1</th>\n",
       "      <td>10.34</td>\n",
       "      <td>1.66</td>\n",
       "      <td>Male</td>\n",
       "      <td>No</td>\n",
       "      <td>Sun</td>\n",
       "      <td>Dinner</td>\n",
       "      <td>3</td>\n",
       "    </tr>\n",
       "    <tr>\n",
       "      <th>2</th>\n",
       "      <td>21.01</td>\n",
       "      <td>3.50</td>\n",
       "      <td>Male</td>\n",
       "      <td>No</td>\n",
       "      <td>Sun</td>\n",
       "      <td>Dinner</td>\n",
       "      <td>3</td>\n",
       "    </tr>\n",
       "    <tr>\n",
       "      <th>3</th>\n",
       "      <td>23.68</td>\n",
       "      <td>3.31</td>\n",
       "      <td>Male</td>\n",
       "      <td>No</td>\n",
       "      <td>Sun</td>\n",
       "      <td>Dinner</td>\n",
       "      <td>2</td>\n",
       "    </tr>\n",
       "    <tr>\n",
       "      <th>4</th>\n",
       "      <td>24.59</td>\n",
       "      <td>3.61</td>\n",
       "      <td>Female</td>\n",
       "      <td>No</td>\n",
       "      <td>Sun</td>\n",
       "      <td>Dinner</td>\n",
       "      <td>4</td>\n",
       "    </tr>\n",
       "  </tbody>\n",
       "</table>\n",
       "</div>"
      ],
      "text/plain": [
       "   total_bill   tip     sex smoker  day    time  size\n",
       "0       16.99  1.01  Female     No  Sun  Dinner     2\n",
       "1       10.34  1.66    Male     No  Sun  Dinner     3\n",
       "2       21.01  3.50    Male     No  Sun  Dinner     3\n",
       "3       23.68  3.31    Male     No  Sun  Dinner     2\n",
       "4       24.59  3.61  Female     No  Sun  Dinner     4"
      ]
     },
     "execution_count": 5,
     "metadata": {},
     "output_type": "execute_result"
    }
   ],
   "source": [
    "tips.head()"
   ]
  },
  {
   "cell_type": "code",
   "execution_count": 6,
   "id": "302a715d",
   "metadata": {},
   "outputs": [
    {
     "name": "stdout",
     "output_type": "stream",
     "text": [
      "<class 'pandas.core.frame.DataFrame'>\n",
      "RangeIndex: 244 entries, 0 to 243\n",
      "Data columns (total 7 columns):\n",
      " #   Column      Non-Null Count  Dtype   \n",
      "---  ------      --------------  -----   \n",
      " 0   total_bill  244 non-null    float64 \n",
      " 1   tip         244 non-null    float64 \n",
      " 2   sex         244 non-null    category\n",
      " 3   smoker      244 non-null    category\n",
      " 4   day         244 non-null    category\n",
      " 5   time        244 non-null    category\n",
      " 6   size        244 non-null    int64   \n",
      "dtypes: category(4), float64(2), int64(1)\n",
      "memory usage: 7.4 KB\n"
     ]
    }
   ],
   "source": [
    "tips.info()"
   ]
  },
  {
   "cell_type": "code",
   "execution_count": 7,
   "id": "17558282",
   "metadata": {},
   "outputs": [
    {
     "data": {
      "text/html": [
       "<div>\n",
       "<style scoped>\n",
       "    .dataframe tbody tr th:only-of-type {\n",
       "        vertical-align: middle;\n",
       "    }\n",
       "\n",
       "    .dataframe tbody tr th {\n",
       "        vertical-align: top;\n",
       "    }\n",
       "\n",
       "    .dataframe thead th {\n",
       "        text-align: right;\n",
       "    }\n",
       "</style>\n",
       "<table border=\"1\" class=\"dataframe\">\n",
       "  <thead>\n",
       "    <tr style=\"text-align: right;\">\n",
       "      <th></th>\n",
       "      <th>count</th>\n",
       "      <th>mean</th>\n",
       "      <th>std</th>\n",
       "      <th>min</th>\n",
       "      <th>25%</th>\n",
       "      <th>50%</th>\n",
       "      <th>75%</th>\n",
       "      <th>max</th>\n",
       "    </tr>\n",
       "  </thead>\n",
       "  <tbody>\n",
       "    <tr>\n",
       "      <th>total_bill</th>\n",
       "      <td>244.0</td>\n",
       "      <td>19.785943</td>\n",
       "      <td>8.902412</td>\n",
       "      <td>3.07</td>\n",
       "      <td>13.3475</td>\n",
       "      <td>17.795</td>\n",
       "      <td>24.1275</td>\n",
       "      <td>50.81</td>\n",
       "    </tr>\n",
       "    <tr>\n",
       "      <th>tip</th>\n",
       "      <td>244.0</td>\n",
       "      <td>2.998279</td>\n",
       "      <td>1.383638</td>\n",
       "      <td>1.00</td>\n",
       "      <td>2.0000</td>\n",
       "      <td>2.900</td>\n",
       "      <td>3.5625</td>\n",
       "      <td>10.00</td>\n",
       "    </tr>\n",
       "    <tr>\n",
       "      <th>size</th>\n",
       "      <td>244.0</td>\n",
       "      <td>2.569672</td>\n",
       "      <td>0.951100</td>\n",
       "      <td>1.00</td>\n",
       "      <td>2.0000</td>\n",
       "      <td>2.000</td>\n",
       "      <td>3.0000</td>\n",
       "      <td>6.00</td>\n",
       "    </tr>\n",
       "  </tbody>\n",
       "</table>\n",
       "</div>"
      ],
      "text/plain": [
       "            count       mean       std   min      25%     50%      75%    max\n",
       "total_bill  244.0  19.785943  8.902412  3.07  13.3475  17.795  24.1275  50.81\n",
       "tip         244.0   2.998279  1.383638  1.00   2.0000   2.900   3.5625  10.00\n",
       "size        244.0   2.569672  0.951100  1.00   2.0000   2.000   3.0000   6.00"
      ]
     },
     "execution_count": 7,
     "metadata": {},
     "output_type": "execute_result"
    }
   ],
   "source": [
    "tips.describe().T"
   ]
  },
  {
   "cell_type": "code",
   "execution_count": 8,
   "id": "392ee2eb",
   "metadata": {},
   "outputs": [
    {
     "data": {
      "image/png": "[encoded data removed]",
      "text/plain": [
       "<Figure size 432x288 with 1 Axes>"
      ]
     },
     "metadata": {
      "needs_background": "light"
     },
     "output_type": "display_data"
    }
   ],
   "source": [
    "sns.barplot(data=tips, x=\"day\", y=\"total_bill\", ci=95);"
   ]
  },
  {
   "cell_type": "code",
   "execution_count": 9,
   "id": "a63acd61",
   "metadata": {},
   "outputs": [],
   "source": [
    "tipsFri = tips[tips[\"day\"] == \"Fri\"]"
   ]
  },
  {
   "cell_type": "code",
   "execution_count": 10,
   "id": "45f49337",
   "metadata": {},
   "outputs": [
    {
     "data": {
      "text/plain": [
       "(19, 7)"
      ]
     },
     "execution_count": 10,
     "metadata": {},
     "output_type": "execute_result"
    }
   ],
   "source": [
    "tipsFri.shape"
   ]
  },
  {
   "cell_type": "code",
   "execution_count": 11,
   "id": "43764c35",
   "metadata": {},
   "outputs": [
    {
     "data": {
      "text/html": [
       "<div>\n",
       "<style scoped>\n",
       "    .dataframe tbody tr th:only-of-type {\n",
       "        vertical-align: middle;\n",
       "    }\n",
       "\n",
       "    .dataframe tbody tr th {\n",
       "        vertical-align: top;\n",
       "    }\n",
       "\n",
       "    .dataframe thead th {\n",
       "        text-align: right;\n",
       "    }\n",
       "</style>\n",
       "<table border=\"1\" class=\"dataframe\">\n",
       "  <thead>\n",
       "    <tr style=\"text-align: right;\">\n",
       "      <th></th>\n",
       "      <th>total_bill</th>\n",
       "      <th>tip</th>\n",
       "      <th>sex</th>\n",
       "      <th>smoker</th>\n",
       "      <th>day</th>\n",
       "      <th>time</th>\n",
       "      <th>size</th>\n",
       "    </tr>\n",
       "  </thead>\n",
       "  <tbody>\n",
       "    <tr>\n",
       "      <th>90</th>\n",
       "      <td>28.97</td>\n",
       "      <td>3.00</td>\n",
       "      <td>Male</td>\n",
       "      <td>Yes</td>\n",
       "      <td>Fri</td>\n",
       "      <td>Dinner</td>\n",
       "      <td>2</td>\n",
       "    </tr>\n",
       "    <tr>\n",
       "      <th>91</th>\n",
       "      <td>22.49</td>\n",
       "      <td>3.50</td>\n",
       "      <td>Male</td>\n",
       "      <td>No</td>\n",
       "      <td>Fri</td>\n",
       "      <td>Dinner</td>\n",
       "      <td>2</td>\n",
       "    </tr>\n",
       "    <tr>\n",
       "      <th>92</th>\n",
       "      <td>5.75</td>\n",
       "      <td>1.00</td>\n",
       "      <td>Female</td>\n",
       "      <td>Yes</td>\n",
       "      <td>Fri</td>\n",
       "      <td>Dinner</td>\n",
       "      <td>2</td>\n",
       "    </tr>\n",
       "    <tr>\n",
       "      <th>93</th>\n",
       "      <td>16.32</td>\n",
       "      <td>4.30</td>\n",
       "      <td>Female</td>\n",
       "      <td>Yes</td>\n",
       "      <td>Fri</td>\n",
       "      <td>Dinner</td>\n",
       "      <td>2</td>\n",
       "    </tr>\n",
       "    <tr>\n",
       "      <th>94</th>\n",
       "      <td>22.75</td>\n",
       "      <td>3.25</td>\n",
       "      <td>Female</td>\n",
       "      <td>No</td>\n",
       "      <td>Fri</td>\n",
       "      <td>Dinner</td>\n",
       "      <td>2</td>\n",
       "    </tr>\n",
       "  </tbody>\n",
       "</table>\n",
       "</div>"
      ],
      "text/plain": [
       "    total_bill   tip     sex smoker  day    time  size\n",
       "90       28.97  3.00    Male    Yes  Fri  Dinner     2\n",
       "91       22.49  3.50    Male     No  Fri  Dinner     2\n",
       "92        5.75  1.00  Female    Yes  Fri  Dinner     2\n",
       "93       16.32  4.30  Female    Yes  Fri  Dinner     2\n",
       "94       22.75  3.25  Female     No  Fri  Dinner     2"
      ]
     },
     "execution_count": 11,
     "metadata": {},
     "output_type": "execute_result"
    }
   ],
   "source": [
    "tipsFri.head()"
   ]
  },
  {
   "cell_type": "code",
   "execution_count": 12,
   "id": "b7cf6cdb",
   "metadata": {},
   "outputs": [],
   "source": [
    "xbar = tipsFri[\"total_bill\"].mean()"
   ]
  },
  {
   "cell_type": "markdown",
   "id": "95bcd642",
   "metadata": {},
   "source": [
    "##### 1- Confidence Intervals Using the Normal Distribution (z)"
   ]
  },
  {
   "cell_type": "markdown",
   "id": "255912ca",
   "metadata": {},
   "source": [
    "##### A. Manual Calculation"
   ]
  },
  {
   "cell_type": "code",
   "execution_count": 13,
   "id": "53208e7e",
   "metadata": {},
   "outputs": [
    {
     "data": {
      "text/plain": [
       "1.904760773479416"
      ]
     },
     "execution_count": 13,
     "metadata": {},
     "output_type": "execute_result"
    }
   ],
   "source": [
    "#First Way\n",
    "# Standart error of the mean\n",
    "sem = tipsFri[\"total_bill\"].sem()\n",
    "sem"
   ]
  },
  {
   "cell_type": "code",
   "execution_count": 14,
   "id": "9831c2cb",
   "metadata": {},
   "outputs": [
    {
     "data": {
      "text/plain": [
       "1.904760773479416"
      ]
     },
     "execution_count": 14,
     "metadata": {},
     "output_type": "execute_result"
    }
   ],
   "source": [
    "#Second Way-Hardcoding\n",
    "tipsFri[\"total_bill\"].std() / np.sqrt(len(tipsFri))"
   ]
  },
  {
   "cell_type": "code",
   "execution_count": 15,
   "id": "393e34ef",
   "metadata": {
    "scrolled": true
   },
   "outputs": [
    {
     "data": {
      "text/plain": [
       "1.959963984540054"
      ]
     },
     "execution_count": 15,
     "metadata": {},
     "output_type": "execute_result"
    }
   ],
   "source": [
    "stats.norm.ppf(0.975)\n",
    "# %95 güven aralığında 1.96 kabul ediyoruz."
   ]
  },
  {
   "cell_type": "code",
   "execution_count": 16,
   "id": "68182d8a",
   "metadata": {},
   "outputs": [
    {
     "data": {
      "text/plain": [
       "3.7333311160196554"
      ]
     },
     "execution_count": 16,
     "metadata": {},
     "output_type": "execute_result"
    }
   ],
   "source": [
    "moe = 1.96 * sem\n",
    "moe"
   ]
  },
  {
   "cell_type": "code",
   "execution_count": 17,
   "id": "8ec495f0",
   "metadata": {},
   "outputs": [
    {
     "data": {
      "text/plain": [
       "20.884910063388073"
      ]
     },
     "execution_count": 17,
     "metadata": {},
     "output_type": "execute_result"
    }
   ],
   "source": [
    "#lower limit\n",
    "upper = xbar + moe\n",
    "upper"
   ]
  },
  {
   "cell_type": "code",
   "execution_count": 18,
   "id": "a31f3665",
   "metadata": {},
   "outputs": [
    {
     "data": {
      "text/plain": [
       "13.418247831348761"
      ]
     },
     "execution_count": 18,
     "metadata": {},
     "output_type": "execute_result"
    }
   ],
   "source": [
    "#upper limit\n",
    "lower = xbar - moe\n",
    "lower"
   ]
  },
  {
   "cell_type": "markdown",
   "id": "c52868b2",
   "metadata": {},
   "source": [
    "##### A. Scipy Calculation"
   ]
  },
  {
   "cell_type": "code",
   "execution_count": 19,
   "id": "164f259a",
   "metadata": {},
   "outputs": [
    {
     "data": {
      "text/plain": [
       "(13.418316432184106, 20.88484146255273)"
      ]
     },
     "execution_count": 19,
     "metadata": {},
     "output_type": "execute_result"
    }
   ],
   "source": [
    "stats.norm.interval(alpha=0.95, loc=xbar, scale=sem)"
   ]
  },
  {
   "cell_type": "code",
   "execution_count": 20,
   "id": "f8c282b1",
   "metadata": {
    "scrolled": true
   },
   "outputs": [
    {
     "data": {
      "text/plain": [
       "(13.418316432184106, 20.88484146255273)"
      ]
     },
     "execution_count": 20,
     "metadata": {},
     "output_type": "execute_result"
    }
   ],
   "source": [
    "stats.norm.interval(alpha=0.95, loc=tipsFri[\"total_bill\"].mean(), scale=tipsFri[\"total_bill\"].sem())"
   ]
  },
  {
   "cell_type": "markdown",
   "id": "d3ace018",
   "metadata": {},
   "source": [
    "##### 2- Confidence Intervals Using the Student Distribution (t)"
   ]
  },
  {
   "cell_type": "code",
   "execution_count": 31,
   "id": "a8f22e7f",
   "metadata": {},
   "outputs": [
    {
     "data": {
      "text/plain": [
       "(13.149825056979093, 21.15333283775774)"
      ]
     },
     "execution_count": 31,
     "metadata": {},
     "output_type": "execute_result"
    }
   ],
   "source": [
    "# örneklemimiz 19 satırdan oluştuğu için t-distribution kullanmak daha doğru sonuç verir.\n",
    "stats.t.interval(alpha=0.95, df=len(tipsFri)-1, loc=tipsFri[\"total_bill\"].mean(),scale=tipsFri[\"total_bill\"].sem())"
   ]
  },
  {
   "cell_type": "code",
   "execution_count": null,
   "id": "8fd3f374",
   "metadata": {},
   "outputs": [],
   "source": [
    "# 1- populasyonun standart sapması biliniyorsa\n",
    "     # z dağılımı\n",
    "# 2- populasyonun standart sapması bilinmiyorsa\n",
    "    # ve örneklem sayısı 30dan büyükse z dağılımı\n",
    "    # örneklem sayısı 30dan kiçükse t dağılımı kullanırız\n",
    "\n",
    "# uygulamada çoğunluka t dağılımı kullanılıyor."
   ]
  },
  {
   "cell_type": "markdown",
   "id": "99975374",
   "metadata": {},
   "source": [
    "##### Example\n",
    "Pazar günleri ödenen hesap ortalamaları üzerine bir güven aralığı oluşturunuz."
   ]
  },
  {
   "cell_type": "code",
   "execution_count": 36,
   "id": "33c97478",
   "metadata": {},
   "outputs": [
    {
     "data": {
      "text/plain": [
       "(76, 7)"
      ]
     },
     "execution_count": 36,
     "metadata": {},
     "output_type": "execute_result"
    }
   ],
   "source": [
    "tipsSun.shape"
   ]
  },
  {
   "cell_type": "code",
   "execution_count": 34,
   "id": "9890ad20",
   "metadata": {},
   "outputs": [],
   "source": [
    "tipsSun = tips[tips[\"day\"] == \"Sun\"]"
   ]
  },
  {
   "cell_type": "code",
   "execution_count": 35,
   "id": "b8221997",
   "metadata": {},
   "outputs": [
    {
     "data": {
      "text/plain": [
       "(19.391773706521036, 23.42822629347897)"
      ]
     },
     "execution_count": 35,
     "metadata": {},
     "output_type": "execute_result"
    }
   ],
   "source": [
    "stats.t.interval(alpha=0.95, df=len(tipsSun)-1, loc=tipsSun[\"total_bill\"].mean(),scale=tipsSun[\"total_bill\"].sem())"
   ]
  },
  {
   "cell_type": "markdown",
   "id": "6cc73d37",
   "metadata": {},
   "source": [
    "######  Assignment-1\n",
    "Suppose scores on exams in statistics are normally distributed with an unknown population mean and a population standard \n",
    "deviation of 3 points.\n",
    "\n",
    "A random sample of 36 scores is taken and gives a sample mean (sample  mean score) of 68.\n",
    "\n",
    "Find a confidence interval estimate for the population mean exam score (the mean score on all exams).\n",
    "\n",
    "Find a 90% confidence interval for the true (population) mean of statistics exam scores. "
   ]
  },
  {
   "cell_type": "code",
   "execution_count": 42,
   "id": "9bc06772",
   "metadata": {},
   "outputs": [],
   "source": [
    "# We know the population standart deviaton. So, we will use z distribution.\n",
    "    #stats.norm.interval(alpha, loc, scale)\n",
    "        # alpha = confidence interval = 0.90\n",
    "        # loc = sample mean = 68\n",
    "        # scale = standart error of the mean(sem).\n",
    "            #sem = std(x) / np.sqrt(len(x))\n",
    "# std = 3, len = 36\n",
    "\n",
    "# Import libraries\n",
    "from scipy import stats\n",
    "import numpy as np"
   ]
  },
  {
   "cell_type": "code",
   "execution_count": 28,
   "id": "da9e815f",
   "metadata": {},
   "outputs": [
    {
     "data": {
      "text/plain": [
       "0.5"
      ]
     },
     "execution_count": 28,
     "metadata": {},
     "output_type": "execute_result"
    }
   ],
   "source": [
    "sem = 3 / np.sqrt(36)\n",
    "sem"
   ]
  },
  {
   "cell_type": "code",
   "execution_count": 29,
   "id": "e3df0209",
   "metadata": {},
   "outputs": [
    {
     "data": {
      "text/plain": [
       "(67.17757318652427, 68.82242681347573)"
      ]
     },
     "execution_count": 29,
     "metadata": {},
     "output_type": "execute_result"
    }
   ],
   "source": [
    "stats.norm.interval(alpha=0.90, loc=68, scale=sem)"
   ]
  },
  {
   "cell_type": "code",
   "execution_count": 30,
   "id": "189a559c",
   "metadata": {},
   "outputs": [
    {
     "data": {
      "text/plain": [
       "(67.15521377301812, 68.84478622698188)"
      ]
     },
     "execution_count": 30,
     "metadata": {},
     "output_type": "execute_result"
    }
   ],
   "source": [
    "# Also we want to check values for the t distribution.\n",
    "# df = degree of freedom = len(x) - 1\n",
    "stats.t.interval(alpha=0.90, df=35, loc=68, scale=sem)"
   ]
  },
  {
   "cell_type": "markdown",
   "id": "e06c43fd",
   "metadata": {},
   "source": [
    "###### Assignment-2\n",
    "What is the normal body temperature for healthy humans? \n",
    "\n",
    "A random sample of 130 healthy human body temperatures provided by Allen Shoemaker7 yielded 98.25 degrees and standard deviation 0.73 degrees. \n",
    "\n",
    "Give a 99% confidence interval for the average body temperature of healthy people.\n"
   ]
  },
  {
   "cell_type": "code",
   "execution_count": 44,
   "id": "82e826b2",
   "metadata": {},
   "outputs": [],
   "source": [
    "# We don't know the population standart deviaton.So, we will use t distribution.\n",
    "    #stats.t.interval(alpha, df, loc, scale)\n",
    "        # alpha = confidence interval = 0.99\n",
    "        # df = degree of freedom = len(x) - 1 = 129\n",
    "        # loc = sample mean = 98.25\n",
    "        # scale = standart error of the mean(sem)\n",
    "            # sem = std(x) / np.sqrt(len(x))\n",
    "# std = 0.73, len= 130\n",
    "\n",
    "# Import libraries\n",
    "from scipy import stats\n",
    "import numpy as np"
   ]
  },
  {
   "cell_type": "code",
   "execution_count": 31,
   "id": "a93f8087",
   "metadata": {},
   "outputs": [
    {
     "data": {
      "text/plain": [
       "0.06402523540941313"
      ]
     },
     "execution_count": 31,
     "metadata": {},
     "output_type": "execute_result"
    }
   ],
   "source": [
    "sem = 0.73 / np.sqrt(130)\n",
    "sem"
   ]
  },
  {
   "cell_type": "code",
   "execution_count": 33,
   "id": "913b7a14",
   "metadata": {},
   "outputs": [
    {
     "data": {
      "text/plain": [
       "(98.08260738705933, 98.41739261294067)"
      ]
     },
     "execution_count": 33,
     "metadata": {},
     "output_type": "execute_result"
    }
   ],
   "source": [
    "stats.t.interval(alpha=0.99, df=129, loc=98.25, scale=sem)"
   ]
  },
  {
   "cell_type": "code",
   "execution_count": null,
   "id": "a478c4e2",
   "metadata": {},
   "outputs": [],
   "source": [
    "# Also we want to check values for the z distribution."
   ]
  },
  {
   "cell_type": "code",
   "execution_count": 34,
   "id": "e5b7a5b0",
   "metadata": {},
   "outputs": [
    {
     "data": {
      "text/plain": [
       "(98.08508192246582, 98.41491807753418)"
      ]
     },
     "execution_count": 34,
     "metadata": {},
     "output_type": "execute_result"
    }
   ],
   "source": [
    "stats.norm.interval(alpha=0.99, loc=98.25, scale=sem)"
   ]
  },
  {
   "cell_type": "markdown",
   "id": "4cac31bf",
   "metadata": {},
   "source": [
    "###### Assignment-3\n",
    "The administrators for a hospital wished to estimate the average number of days required for inpatient treatment of patients between the ages of 25 and 34.\n",
    "\n",
    "A random sample of 500 hospital patients between these ages produced a mean and standard deviation equal to 5.4 and 3.1 days, respectively.\n",
    "\n",
    "\n",
    "Construct a 95% confidence interval for the mean length of stay for the population of patients from which the sample was drawn.\n"
   ]
  },
  {
   "cell_type": "code",
   "execution_count": 43,
   "id": "67534e96",
   "metadata": {},
   "outputs": [],
   "source": [
    "# We don't know the population standart deviaton.So, we will use t distribution.\n",
    "    #stats.t.interval(alpha, df, loc, scale)\n",
    "        # alpha = confidence interval = 0.95\n",
    "        # df = degree of freedom = len(x) - 1 = 499\n",
    "        # loc = sample mean = 5.4\n",
    "        # scale = standart error of the mean(sem)\n",
    "            # sem = std(x) / np.sqrt(len(x))\n",
    "# std = 3.1, len = 500\n",
    "\n",
    "# Import libraries\n",
    "from scipy import stats\n",
    "import numpy as np"
   ]
  },
  {
   "cell_type": "code",
   "execution_count": 35,
   "id": "4cddb527",
   "metadata": {},
   "outputs": [
    {
     "data": {
      "text/plain": [
       "0.13863621460498696"
      ]
     },
     "execution_count": 35,
     "metadata": {},
     "output_type": "execute_result"
    }
   ],
   "source": [
    "sem = 3.1 / np.sqrt(500)\n",
    "sem"
   ]
  },
  {
   "cell_type": "code",
   "execution_count": 36,
   "id": "079e82cd",
   "metadata": {},
   "outputs": [
    {
     "data": {
      "text/plain": [
       "(5.127617354510309, 5.672382645489692)"
      ]
     },
     "execution_count": 36,
     "metadata": {},
     "output_type": "execute_result"
    }
   ],
   "source": [
    "stats.t.interval(alpha=0.95, df=499, loc=5.4, scale=sem)"
   ]
  },
  {
   "cell_type": "code",
   "execution_count": 38,
   "id": "399ec9cb",
   "metadata": {},
   "outputs": [],
   "source": [
    "# Also we want to check values for the z distribution."
   ]
  },
  {
   "cell_type": "code",
   "execution_count": 37,
   "id": "6a610b93",
   "metadata": {},
   "outputs": [
    {
     "data": {
      "text/plain": [
       "(5.12827801242126, 5.67172198757874)"
      ]
     },
     "execution_count": 37,
     "metadata": {},
     "output_type": "execute_result"
    }
   ],
   "source": [
    "stats.norm.interval(alpha=0.95, loc=5.4, scale=sem)"
   ]
  },
  {
   "cell_type": "code",
   "execution_count": null,
   "id": "7b1a9932",
   "metadata": {},
   "outputs": [],
   "source": []
  },
  {
   "cell_type": "code",
   "execution_count": null,
   "id": "057825d7",
   "metadata": {},
   "outputs": [],
   "source": []
  },
  {
   "cell_type": "code",
   "execution_count": null,
   "id": "4c59b84d",
   "metadata": {},
   "outputs": [],
   "source": []
  },
  {
   "cell_type": "code",
   "execution_count": null,
   "id": "db3aa087",
   "metadata": {},
   "outputs": [],
   "source": []
  },
  {
   "cell_type": "code",
   "execution_count": null,
   "id": "db11dc35",
   "metadata": {},
   "outputs": [],
   "source": []
  },
  {
   "cell_type": "code",
   "execution_count": null,
   "id": "11ea3b58",
   "metadata": {},
   "outputs": [],
   "source": []
  }
 ],
 "metadata": {
  "kernelspec": {
   "display_name": "Python 3 (ipykernel)",
   "language": "python",
   "name": "python3"
  },
  "language_info": {
   "codemirror_mode": {
    "name": "ipython",
    "version": 3
   },
   "file_extension": ".py",
   "mimetype": "text/x-python",
   "name": "python",
   "nbconvert_exporter": "python",
   "pygments_lexer": "ipython3",
   "version": "3.9.12"
  }
 },
 "nbformat": 4,
 "nbformat_minor": 5
}
