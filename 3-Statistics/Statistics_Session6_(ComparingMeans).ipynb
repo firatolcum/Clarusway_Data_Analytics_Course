{
 "cells": [
  {
   "cell_type": "markdown",
   "metadata": {},
   "source": [
    "# Independent Samples T Test"
   ]
  },
  {
   "cell_type": "markdown",
   "metadata": {},
   "source": [
    "## Arsenic Example"
   ]
  },
  {
   "cell_type": "markdown",
   "metadata": {},
   "source": [
    "- Arsenic concentration in public drinking water supplies is a potential health risk. \n",
    "- An article in the Arizona Republic (May 27, 2001) reported drinking water arsenic concentrations in parts per billion (ppb) for 10 metropolitan Phoenix communities and 10 communities in rural Arizona.\n",
    "- You can find the data in CSV file."
   ]
  },
  {
   "cell_type": "code",
   "execution_count": 1,
   "metadata": {},
   "outputs": [],
   "source": [
    "import pandas as pd\n",
    "import scipy.stats as stats"
   ]
  },
  {
   "cell_type": "code",
   "execution_count": 3,
   "metadata": {},
   "outputs": [
    {
     "data": {
      "text/html": [
       "<div>\n",
       "<style scoped>\n",
       "    .dataframe tbody tr th:only-of-type {\n",
       "        vertical-align: middle;\n",
       "    }\n",
       "\n",
       "    .dataframe tbody tr th {\n",
       "        vertical-align: top;\n",
       "    }\n",
       "\n",
       "    .dataframe thead th {\n",
       "        text-align: right;\n",
       "    }\n",
       "</style>\n",
       "<table border=\"1\" class=\"dataframe\">\n",
       "  <thead>\n",
       "    <tr style=\"text-align: right;\">\n",
       "      <th></th>\n",
       "      <th>Metro Phoenix</th>\n",
       "      <th>x1</th>\n",
       "      <th>Rural Arizona</th>\n",
       "      <th>x2</th>\n",
       "    </tr>\n",
       "  </thead>\n",
       "  <tbody>\n",
       "    <tr>\n",
       "      <th>0</th>\n",
       "      <td>Phoenix</td>\n",
       "      <td>3</td>\n",
       "      <td>Rimrock</td>\n",
       "      <td>48</td>\n",
       "    </tr>\n",
       "    <tr>\n",
       "      <th>1</th>\n",
       "      <td>Chandler</td>\n",
       "      <td>7</td>\n",
       "      <td>Goodyear</td>\n",
       "      <td>44</td>\n",
       "    </tr>\n",
       "    <tr>\n",
       "      <th>2</th>\n",
       "      <td>Gilbert</td>\n",
       "      <td>25</td>\n",
       "      <td>New River</td>\n",
       "      <td>40</td>\n",
       "    </tr>\n",
       "    <tr>\n",
       "      <th>3</th>\n",
       "      <td>Glendale</td>\n",
       "      <td>10</td>\n",
       "      <td>Apache Junction</td>\n",
       "      <td>38</td>\n",
       "    </tr>\n",
       "    <tr>\n",
       "      <th>4</th>\n",
       "      <td>Mesa</td>\n",
       "      <td>15</td>\n",
       "      <td>Buckeye</td>\n",
       "      <td>33</td>\n",
       "    </tr>\n",
       "    <tr>\n",
       "      <th>5</th>\n",
       "      <td>Paradise Valley</td>\n",
       "      <td>6</td>\n",
       "      <td>Nogales</td>\n",
       "      <td>21</td>\n",
       "    </tr>\n",
       "    <tr>\n",
       "      <th>6</th>\n",
       "      <td>Peoria</td>\n",
       "      <td>12</td>\n",
       "      <td>Black Canyon City</td>\n",
       "      <td>20</td>\n",
       "    </tr>\n",
       "    <tr>\n",
       "      <th>7</th>\n",
       "      <td>Scottsdale</td>\n",
       "      <td>25</td>\n",
       "      <td>Sedona</td>\n",
       "      <td>12</td>\n",
       "    </tr>\n",
       "    <tr>\n",
       "      <th>8</th>\n",
       "      <td>Tempe</td>\n",
       "      <td>15</td>\n",
       "      <td>Payson</td>\n",
       "      <td>1</td>\n",
       "    </tr>\n",
       "    <tr>\n",
       "      <th>9</th>\n",
       "      <td>Sun City</td>\n",
       "      <td>7</td>\n",
       "      <td>Casa Grande</td>\n",
       "      <td>18</td>\n",
       "    </tr>\n",
       "  </tbody>\n",
       "</table>\n",
       "</div>"
      ],
      "text/plain": [
       "     Metro Phoenix  x1      Rural Arizona  x2\n",
       "0          Phoenix   3            Rimrock  48\n",
       "1         Chandler   7           Goodyear  44\n",
       "2          Gilbert  25          New River  40\n",
       "3         Glendale  10    Apache Junction  38\n",
       "4             Mesa  15            Buckeye  33\n",
       "5  Paradise Valley   6            Nogales  21\n",
       "6           Peoria  12  Black Canyon City  20\n",
       "7       Scottsdale  25             Sedona  12\n",
       "8            Tempe  15             Payson   1\n",
       "9         Sun City   7        Casa Grande  18"
      ]
     },
     "execution_count": 3,
     "metadata": {},
     "output_type": "execute_result"
    }
   ],
   "source": [
    "df = pd.read_csv(\"arsenic.csv\")\n",
    "df"
   ]
  },
  {
   "cell_type": "code",
   "execution_count": 4,
   "metadata": {},
   "outputs": [
    {
     "data": {
      "text/plain": [
       "12.5"
      ]
     },
     "execution_count": 4,
     "metadata": {},
     "output_type": "execute_result"
    }
   ],
   "source": [
    "df[\"x1\"].mean()"
   ]
  },
  {
   "cell_type": "code",
   "execution_count": 5,
   "metadata": {},
   "outputs": [
    {
     "data": {
      "text/plain": [
       "27.5"
      ]
     },
     "execution_count": 5,
     "metadata": {},
     "output_type": "execute_result"
    }
   ],
   "source": [
    "df[\"x2\"].mean()"
   ]
  },
  {
   "cell_type": "code",
   "execution_count": 12,
   "metadata": {},
   "outputs": [
    {
     "data": {
      "text/plain": [
       "Ttest_indResult(statistic=-2.7669395785560553, pvalue=0.012704425122128032)"
      ]
     },
     "execution_count": 12,
     "metadata": {},
     "output_type": "execute_result"
    }
   ],
   "source": [
    "indTest = stats.ttest_ind(df[\"x1\"], df[\"x2\"], equal_var=True, alternative='two-sided')\n",
    "indTest"
   ]
  },
  {
   "cell_type": "code",
   "execution_count": 13,
   "metadata": {},
   "outputs": [
    {
     "data": {
      "text/plain": [
       "-2.7669395785560553"
      ]
     },
     "execution_count": 13,
     "metadata": {},
     "output_type": "execute_result"
    }
   ],
   "source": [
    "indTest.statistic"
   ]
  },
  {
   "cell_type": "code",
   "execution_count": 14,
   "metadata": {},
   "outputs": [
    {
     "data": {
      "text/plain": [
       "0.012704425122128032"
      ]
     },
     "execution_count": 14,
     "metadata": {},
     "output_type": "execute_result"
    }
   ],
   "source": [
    "indTest.pvalue"
   ]
  },
  {
   "cell_type": "code",
   "execution_count": 15,
   "metadata": {},
   "outputs": [
    {
     "name": "stdout",
     "output_type": "stream",
     "text": [
      "Reject the null\n"
     ]
    }
   ],
   "source": [
    "alpha = 0.05\n",
    "\n",
    "if indTest.pvalue < alpha:\n",
    "    print(\"Reject the null\")\n",
    "else:\n",
    "    print(\"fail to reject the null\")"
   ]
  },
  {
   "cell_type": "code",
   "execution_count": 16,
   "metadata": {},
   "outputs": [
    {
     "data": {
      "text/plain": [
       "LeveneResult(statistic=7.7015516672169, pvalue=0.012482954069299166)"
      ]
     },
     "execution_count": 16,
     "metadata": {},
     "output_type": "execute_result"
    }
   ],
   "source": [
    "#Levene Test\n",
    "\n",
    "stats.levene(df[\"x1\"], df[\"x2\"])"
   ]
  },
  {
   "cell_type": "code",
   "execution_count": 17,
   "metadata": {},
   "outputs": [
    {
     "data": {
      "text/plain": [
       "Ttest_indResult(statistic=-2.7669395785560558, pvalue=0.015827284816100885)"
      ]
     },
     "execution_count": 17,
     "metadata": {},
     "output_type": "execute_result"
    }
   ],
   "source": [
    "indTest = stats.ttest_ind(df[\"x1\"], df[\"x2\"], equal_var=False, alternative='two-sided')\n",
    "indTest"
   ]
  },
  {
   "cell_type": "markdown",
   "metadata": {},
   "source": [
    "# Prozac Data"
   ]
  },
  {
   "cell_type": "markdown",
   "metadata": {},
   "source": [
    "- Let us consider a simple example of what is often termed \"pre/post\" data or \"pretest/posttest\" data. \n",
    "- Suppose you wish to test the effect of Prozac on the well-being of depressed individuals, using a standardised \"well-being scale\" that sums Likert-type items to obtain a score that could range from 0 to 20. \n",
    "- Higher scores indicate greater well-being (that is, Prozac is having a positive effect). \n",
    "- While there are flaws in this design (e.g., lack of a control group) it will serve as an example of how to analyse such data."
   ]
  },
  {
   "cell_type": "markdown",
   "metadata": {},
   "source": [
    "Determine if Prozac enhances well-being in depressed individuals. Use   0.05\n"
   ]
  },
  {
   "cell_type": "code",
   "execution_count": 18,
   "metadata": {},
   "outputs": [
    {
     "data": {
      "text/html": [
       "<div>\n",
       "<style scoped>\n",
       "    .dataframe tbody tr th:only-of-type {\n",
       "        vertical-align: middle;\n",
       "    }\n",
       "\n",
       "    .dataframe tbody tr th {\n",
       "        vertical-align: top;\n",
       "    }\n",
       "\n",
       "    .dataframe thead th {\n",
       "        text-align: right;\n",
       "    }\n",
       "</style>\n",
       "<table border=\"1\" class=\"dataframe\">\n",
       "  <thead>\n",
       "    <tr style=\"text-align: right;\">\n",
       "      <th></th>\n",
       "      <th>moodpre</th>\n",
       "      <th>moodpost</th>\n",
       "      <th>difference</th>\n",
       "    </tr>\n",
       "  </thead>\n",
       "  <tbody>\n",
       "    <tr>\n",
       "      <th>0</th>\n",
       "      <td>3</td>\n",
       "      <td>5</td>\n",
       "      <td>2</td>\n",
       "    </tr>\n",
       "    <tr>\n",
       "      <th>1</th>\n",
       "      <td>0</td>\n",
       "      <td>1</td>\n",
       "      <td>1</td>\n",
       "    </tr>\n",
       "    <tr>\n",
       "      <th>2</th>\n",
       "      <td>6</td>\n",
       "      <td>5</td>\n",
       "      <td>-1</td>\n",
       "    </tr>\n",
       "    <tr>\n",
       "      <th>3</th>\n",
       "      <td>7</td>\n",
       "      <td>7</td>\n",
       "      <td>0</td>\n",
       "    </tr>\n",
       "    <tr>\n",
       "      <th>4</th>\n",
       "      <td>4</td>\n",
       "      <td>10</td>\n",
       "      <td>6</td>\n",
       "    </tr>\n",
       "    <tr>\n",
       "      <th>5</th>\n",
       "      <td>3</td>\n",
       "      <td>9</td>\n",
       "      <td>6</td>\n",
       "    </tr>\n",
       "    <tr>\n",
       "      <th>6</th>\n",
       "      <td>2</td>\n",
       "      <td>7</td>\n",
       "      <td>5</td>\n",
       "    </tr>\n",
       "    <tr>\n",
       "      <th>7</th>\n",
       "      <td>1</td>\n",
       "      <td>11</td>\n",
       "      <td>10</td>\n",
       "    </tr>\n",
       "    <tr>\n",
       "      <th>8</th>\n",
       "      <td>4</td>\n",
       "      <td>8</td>\n",
       "      <td>4</td>\n",
       "    </tr>\n",
       "  </tbody>\n",
       "</table>\n",
       "</div>"
      ],
      "text/plain": [
       "   moodpre  moodpost  difference\n",
       "0        3         5           2\n",
       "1        0         1           1\n",
       "2        6         5          -1\n",
       "3        7         7           0\n",
       "4        4        10           6\n",
       "5        3         9           6\n",
       "6        2         7           5\n",
       "7        1        11          10\n",
       "8        4         8           4"
      ]
     },
     "execution_count": 18,
     "metadata": {},
     "output_type": "execute_result"
    }
   ],
   "source": [
    "df = pd.read_csv(\"prozac.csv\")\n",
    "df"
   ]
  },
  {
   "cell_type": "markdown",
   "metadata": {},
   "source": [
    "H0: dbar = 0\n",
    "\n",
    "H1: dbar > 0"
   ]
  },
  {
   "cell_type": "code",
   "execution_count": 22,
   "metadata": {},
   "outputs": [
    {
     "data": {
      "text/plain": [
       "Ttest_relResult(statistic=3.1428571428571423, pvalue=0.006872912197394244)"
      ]
     },
     "execution_count": 22,
     "metadata": {},
     "output_type": "execute_result"
    }
   ],
   "source": [
    "depTest = stats.ttest_rel(df[\"moodpost\"], df[\"moodpre\"], alternative='greater')\n",
    "depTest"
   ]
  },
  {
   "cell_type": "code",
   "execution_count": 21,
   "metadata": {},
   "outputs": [
    {
     "data": {
      "text/plain": [
       "Ttest_relResult(statistic=-3.1428571428571423, pvalue=0.006872912197394244)"
      ]
     },
     "execution_count": 21,
     "metadata": {},
     "output_type": "execute_result"
    }
   ],
   "source": [
    "stats.ttest_rel(df[\"moodpre\"], df[\"moodpost\"] , alternative='less')"
   ]
  },
  {
   "cell_type": "code",
   "execution_count": 23,
   "metadata": {},
   "outputs": [
    {
     "name": "stdout",
     "output_type": "stream",
     "text": [
      "Reject the null\n"
     ]
    }
   ],
   "source": [
    "alpha = 0.05\n",
    "\n",
    "if depTest.pvalue < alpha:\n",
    "    print(\"Reject the null\")\n",
    "else:\n",
    "    print(\"fail to reject the null\")"
   ]
  },
  {
   "cell_type": "markdown",
   "metadata": {},
   "source": [
    "## One-way ANOVA"
   ]
  },
  {
   "cell_type": "markdown",
   "metadata": {},
   "source": [
    "In the sample dataset, the variable Sprint is the respondent's time (in seconds) to sprint a given distance, and Smoking is an indicator about whether or not the respondent smokes (0 = Nonsmoker, 1 = Past smoker, 2 = Current smoker). Let's use ANOVA to test if there is a statistically significant difference in sprint time with respect to smoking status. Sprint time will serve as the dependent variable, and smoking status will act as the independent variable.\n",
    "\n",
    "The null and alternative hypotheses of one-way ANOVA can be expressed as:\n",
    "\n",
    "H0: µ0 = µ1 = µ2   (\"all k population means are equal\")\n",
    "\n",
    "H1: At least one µi different  (\"at least one of the k population means is not equal to the others\")"
   ]
  },
  {
   "cell_type": "code",
   "execution_count": 24,
   "metadata": {},
   "outputs": [
    {
     "data": {
      "text/html": [
       "<div>\n",
       "<style scoped>\n",
       "    .dataframe tbody tr th:only-of-type {\n",
       "        vertical-align: middle;\n",
       "    }\n",
       "\n",
       "    .dataframe tbody tr th {\n",
       "        vertical-align: top;\n",
       "    }\n",
       "\n",
       "    .dataframe thead th {\n",
       "        text-align: right;\n",
       "    }\n",
       "</style>\n",
       "<table border=\"1\" class=\"dataframe\">\n",
       "  <thead>\n",
       "    <tr style=\"text-align: right;\">\n",
       "      <th></th>\n",
       "      <th>ids</th>\n",
       "      <th>bday</th>\n",
       "      <th>enrolldate</th>\n",
       "      <th>expgradate</th>\n",
       "      <th>Rank</th>\n",
       "      <th>Major</th>\n",
       "      <th>Gender</th>\n",
       "      <th>Athlete</th>\n",
       "      <th>Height</th>\n",
       "      <th>Weight</th>\n",
       "      <th>...</th>\n",
       "      <th>English</th>\n",
       "      <th>Reading</th>\n",
       "      <th>Math</th>\n",
       "      <th>Writing</th>\n",
       "      <th>State</th>\n",
       "      <th>LiveOnCampus</th>\n",
       "      <th>HowCommute</th>\n",
       "      <th>CommuteTime</th>\n",
       "      <th>SleepTime</th>\n",
       "      <th>StudyTime</th>\n",
       "    </tr>\n",
       "  </thead>\n",
       "  <tbody>\n",
       "    <tr>\n",
       "      <th>0</th>\n",
       "      <td>43783</td>\n",
       "      <td>3/22/1995</td>\n",
       "      <td></td>\n",
       "      <td></td>\n",
       "      <td></td>\n",
       "      <td></td>\n",
       "      <td>0</td>\n",
       "      <td>0</td>\n",
       "      <td>72.35</td>\n",
       "      <td></td>\n",
       "      <td>...</td>\n",
       "      <td>88.24</td>\n",
       "      <td>81.5</td>\n",
       "      <td>60.02</td>\n",
       "      <td>81.44</td>\n",
       "      <td>In state</td>\n",
       "      <td>1</td>\n",
       "      <td></td>\n",
       "      <td></td>\n",
       "      <td>7</td>\n",
       "      <td>1</td>\n",
       "    </tr>\n",
       "    <tr>\n",
       "      <th>1</th>\n",
       "      <td>20278</td>\n",
       "      <td>1/1/1995</td>\n",
       "      <td></td>\n",
       "      <td></td>\n",
       "      <td></td>\n",
       "      <td>Philosophy</td>\n",
       "      <td>0</td>\n",
       "      <td>0</td>\n",
       "      <td>70.66</td>\n",
       "      <td>179.2</td>\n",
       "      <td>...</td>\n",
       "      <td>89.45</td>\n",
       "      <td>85.25</td>\n",
       "      <td>70.19</td>\n",
       "      <td>73.27</td>\n",
       "      <td></td>\n",
       "      <td>1</td>\n",
       "      <td></td>\n",
       "      <td></td>\n",
       "      <td>5</td>\n",
       "      <td>2</td>\n",
       "    </tr>\n",
       "    <tr>\n",
       "      <th>2</th>\n",
       "      <td>20389</td>\n",
       "      <td>12/31/1994</td>\n",
       "      <td></td>\n",
       "      <td></td>\n",
       "      <td></td>\n",
       "      <td></td>\n",
       "      <td>0</td>\n",
       "      <td>0</td>\n",
       "      <td>70.68</td>\n",
       "      <td>198.52</td>\n",
       "      <td>...</td>\n",
       "      <td>96.73</td>\n",
       "      <td>86.88</td>\n",
       "      <td>71.2</td>\n",
       "      <td>84.24</td>\n",
       "      <td>In state</td>\n",
       "      <td></td>\n",
       "      <td></td>\n",
       "      <td></td>\n",
       "      <td>8</td>\n",
       "      <td>7</td>\n",
       "    </tr>\n",
       "    <tr>\n",
       "      <th>3</th>\n",
       "      <td>22820</td>\n",
       "      <td>12/1/1994</td>\n",
       "      <td></td>\n",
       "      <td></td>\n",
       "      <td></td>\n",
       "      <td>business administration</td>\n",
       "      <td>1</td>\n",
       "      <td>0</td>\n",
       "      <td></td>\n",
       "      <td>198.34</td>\n",
       "      <td>...</td>\n",
       "      <td>74.06</td>\n",
       "      <td>88.68</td>\n",
       "      <td>55.89</td>\n",
       "      <td>73.16</td>\n",
       "      <td>In state</td>\n",
       "      <td>1</td>\n",
       "      <td></td>\n",
       "      <td></td>\n",
       "      <td>2</td>\n",
       "      <td>6</td>\n",
       "    </tr>\n",
       "    <tr>\n",
       "      <th>4</th>\n",
       "      <td>24559</td>\n",
       "      <td>11/10/1994</td>\n",
       "      <td></td>\n",
       "      <td></td>\n",
       "      <td></td>\n",
       "      <td></td>\n",
       "      <td>1</td>\n",
       "      <td>1</td>\n",
       "      <td>67.43</td>\n",
       "      <td>128.17</td>\n",
       "      <td>...</td>\n",
       "      <td>82.61</td>\n",
       "      <td>77.3</td>\n",
       "      <td>65.52</td>\n",
       "      <td>80.45</td>\n",
       "      <td>Out of state</td>\n",
       "      <td>1</td>\n",
       "      <td></td>\n",
       "      <td></td>\n",
       "      <td>7</td>\n",
       "      <td>3</td>\n",
       "    </tr>\n",
       "    <tr>\n",
       "      <th>...</th>\n",
       "      <td>...</td>\n",
       "      <td>...</td>\n",
       "      <td>...</td>\n",
       "      <td>...</td>\n",
       "      <td>...</td>\n",
       "      <td>...</td>\n",
       "      <td>...</td>\n",
       "      <td>...</td>\n",
       "      <td>...</td>\n",
       "      <td>...</td>\n",
       "      <td>...</td>\n",
       "      <td>...</td>\n",
       "      <td>...</td>\n",
       "      <td>...</td>\n",
       "      <td>...</td>\n",
       "      <td>...</td>\n",
       "      <td>...</td>\n",
       "      <td>...</td>\n",
       "      <td>...</td>\n",
       "      <td>...</td>\n",
       "      <td>...</td>\n",
       "    </tr>\n",
       "    <tr>\n",
       "      <th>430</th>\n",
       "      <td>34021</td>\n",
       "      <td>7/18/1987</td>\n",
       "      <td>1-Aug-2011</td>\n",
       "      <td>08-May-2017</td>\n",
       "      <td>4</td>\n",
       "      <td>accounting</td>\n",
       "      <td>1</td>\n",
       "      <td>0</td>\n",
       "      <td></td>\n",
       "      <td></td>\n",
       "      <td>...</td>\n",
       "      <td>87.72</td>\n",
       "      <td>84.99</td>\n",
       "      <td>65.31</td>\n",
       "      <td></td>\n",
       "      <td>In state</td>\n",
       "      <td>0</td>\n",
       "      <td>1</td>\n",
       "      <td>18</td>\n",
       "      <td>1</td>\n",
       "      <td>10</td>\n",
       "    </tr>\n",
       "    <tr>\n",
       "      <th>431</th>\n",
       "      <td>40697</td>\n",
       "      <td>4/29/1987</td>\n",
       "      <td>1-Aug-2011</td>\n",
       "      <td>09-May-2016</td>\n",
       "      <td>4</td>\n",
       "      <td></td>\n",
       "      <td>0</td>\n",
       "      <td>0</td>\n",
       "      <td>68.5</td>\n",
       "      <td>131.92</td>\n",
       "      <td>...</td>\n",
       "      <td>91.01</td>\n",
       "      <td>86.87</td>\n",
       "      <td>70.25</td>\n",
       "      <td>82.67</td>\n",
       "      <td>In state</td>\n",
       "      <td>0</td>\n",
       "      <td>3</td>\n",
       "      <td>26</td>\n",
       "      <td>6</td>\n",
       "      <td>15</td>\n",
       "    </tr>\n",
       "    <tr>\n",
       "      <th>432</th>\n",
       "      <td>34272</td>\n",
       "      <td></td>\n",
       "      <td>1-Aug-2011</td>\n",
       "      <td>09-May-2016</td>\n",
       "      <td>4</td>\n",
       "      <td>nursing</td>\n",
       "      <td>0</td>\n",
       "      <td>1</td>\n",
       "      <td>68.1</td>\n",
       "      <td>130.07</td>\n",
       "      <td>...</td>\n",
       "      <td>81.05</td>\n",
       "      <td>85.76</td>\n",
       "      <td>58.16</td>\n",
       "      <td>81.87</td>\n",
       "      <td></td>\n",
       "      <td>0</td>\n",
       "      <td>3</td>\n",
       "      <td>29</td>\n",
       "      <td>6</td>\n",
       "      <td>10</td>\n",
       "    </tr>\n",
       "    <tr>\n",
       "      <th>433</th>\n",
       "      <td>33628</td>\n",
       "      <td></td>\n",
       "      <td>1-Aug-2011</td>\n",
       "      <td>08-May-2017</td>\n",
       "      <td>4</td>\n",
       "      <td>Nursing</td>\n",
       "      <td>1</td>\n",
       "      <td>1</td>\n",
       "      <td>69.27</td>\n",
       "      <td>157.26</td>\n",
       "      <td>...</td>\n",
       "      <td>75.59</td>\n",
       "      <td>85.97</td>\n",
       "      <td>66.84</td>\n",
       "      <td>79.35</td>\n",
       "      <td>In state</td>\n",
       "      <td>0</td>\n",
       "      <td>1</td>\n",
       "      <td>14</td>\n",
       "      <td>4</td>\n",
       "      <td>10</td>\n",
       "    </tr>\n",
       "    <tr>\n",
       "      <th>434</th>\n",
       "      <td>39298</td>\n",
       "      <td></td>\n",
       "      <td>1-Aug-2011</td>\n",
       "      <td>08-May-2017</td>\n",
       "      <td>4</td>\n",
       "      <td></td>\n",
       "      <td>1</td>\n",
       "      <td>1</td>\n",
       "      <td>66.68</td>\n",
       "      <td>152.33</td>\n",
       "      <td>...</td>\n",
       "      <td>75.65</td>\n",
       "      <td>77.24</td>\n",
       "      <td>60.24</td>\n",
       "      <td>75.23</td>\n",
       "      <td>In state</td>\n",
       "      <td>0</td>\n",
       "      <td>3</td>\n",
       "      <td>27</td>\n",
       "      <td>2</td>\n",
       "      <td>10</td>\n",
       "    </tr>\n",
       "  </tbody>\n",
       "</table>\n",
       "<p>435 rows × 23 columns</p>\n",
       "</div>"
      ],
      "text/plain": [
       "       ids        bday  enrolldate   expgradate Rank                    Major  \\\n",
       "0    43783   3/22/1995                                                          \n",
       "1    20278    1/1/1995                                             Philosophy   \n",
       "2    20389  12/31/1994                                                          \n",
       "3    22820   12/1/1994                                business administration   \n",
       "4    24559  11/10/1994                                                          \n",
       "..     ...         ...         ...          ...  ...                      ...   \n",
       "430  34021   7/18/1987  1-Aug-2011  08-May-2017    4               accounting   \n",
       "431  40697   4/29/1987  1-Aug-2011  09-May-2016    4                            \n",
       "432  34272              1-Aug-2011  09-May-2016    4                  nursing   \n",
       "433  33628              1-Aug-2011  08-May-2017    4                  Nursing   \n",
       "434  39298              1-Aug-2011  08-May-2017    4                            \n",
       "\n",
       "    Gender  Athlete Height  Weight  ... English Reading   Math Writing  \\\n",
       "0        0        0  72.35          ...   88.24    81.5  60.02   81.44   \n",
       "1        0        0  70.66   179.2  ...   89.45   85.25  70.19   73.27   \n",
       "2        0        0  70.68  198.52  ...   96.73   86.88   71.2   84.24   \n",
       "3        1        0         198.34  ...   74.06   88.68  55.89   73.16   \n",
       "4        1        1  67.43  128.17  ...   82.61    77.3  65.52   80.45   \n",
       "..     ...      ...    ...     ...  ...     ...     ...    ...     ...   \n",
       "430      1        0                 ...   87.72   84.99  65.31           \n",
       "431      0        0   68.5  131.92  ...   91.01   86.87  70.25   82.67   \n",
       "432      0        1   68.1  130.07  ...   81.05   85.76  58.16   81.87   \n",
       "433      1        1  69.27  157.26  ...   75.59   85.97  66.84   79.35   \n",
       "434      1        1  66.68  152.33  ...   75.65   77.24  60.24   75.23   \n",
       "\n",
       "            State LiveOnCampus HowCommute CommuteTime SleepTime StudyTime  \n",
       "0        In state            1                                7         1  \n",
       "1                            1                                5         2  \n",
       "2        In state                                             8         7  \n",
       "3        In state            1                                2         6  \n",
       "4    Out of state            1                                7         3  \n",
       "..            ...          ...        ...         ...       ...       ...  \n",
       "430      In state            0          1          18         1        10  \n",
       "431      In state            0          3          26         6        15  \n",
       "432                          0          3          29         6        10  \n",
       "433      In state            0          1          14         4        10  \n",
       "434      In state            0          3          27         2        10  \n",
       "\n",
       "[435 rows x 23 columns]"
      ]
     },
     "execution_count": 24,
     "metadata": {},
     "output_type": "execute_result"
    }
   ],
   "source": [
    "survey = pd.read_csv(\"students_2014.csv\")\n",
    "survey"
   ]
  },
  {
   "cell_type": "code",
   "execution_count": 25,
   "metadata": {},
   "outputs": [],
   "source": [
    "survey[\"Sprint\"] = pd.to_numeric(survey[\"Sprint\"],errors='coerce')\n",
    "survey[\"Smoking\"] = pd.to_numeric(survey[\"Smoking\"],errors='coerce')"
   ]
  },
  {
   "cell_type": "code",
   "execution_count": 27,
   "metadata": {},
   "outputs": [
    {
     "data": {
      "text/html": [
       "<div>\n",
       "<style scoped>\n",
       "    .dataframe tbody tr th:only-of-type {\n",
       "        vertical-align: middle;\n",
       "    }\n",
       "\n",
       "    .dataframe tbody tr th {\n",
       "        vertical-align: top;\n",
       "    }\n",
       "\n",
       "    .dataframe thead th {\n",
       "        text-align: right;\n",
       "    }\n",
       "</style>\n",
       "<table border=\"1\" class=\"dataframe\">\n",
       "  <thead>\n",
       "    <tr style=\"text-align: right;\">\n",
       "      <th></th>\n",
       "      <th>Sprint</th>\n",
       "      <th>Smoking</th>\n",
       "    </tr>\n",
       "  </thead>\n",
       "  <tbody>\n",
       "    <tr>\n",
       "      <th>0</th>\n",
       "      <td>7.978</td>\n",
       "      <td>0.0</td>\n",
       "    </tr>\n",
       "    <tr>\n",
       "      <th>1</th>\n",
       "      <td>8.004</td>\n",
       "      <td>0.0</td>\n",
       "    </tr>\n",
       "    <tr>\n",
       "      <th>5</th>\n",
       "      <td>4.650</td>\n",
       "      <td>0.0</td>\n",
       "    </tr>\n",
       "    <tr>\n",
       "      <th>6</th>\n",
       "      <td>4.750</td>\n",
       "      <td>0.0</td>\n",
       "    </tr>\n",
       "    <tr>\n",
       "      <th>8</th>\n",
       "      <td>6.279</td>\n",
       "      <td>0.0</td>\n",
       "    </tr>\n",
       "  </tbody>\n",
       "</table>\n",
       "</div>"
      ],
      "text/plain": [
       "   Sprint  Smoking\n",
       "0   7.978      0.0\n",
       "1   8.004      0.0\n",
       "5   4.650      0.0\n",
       "6   4.750      0.0\n",
       "8   6.279      0.0"
      ]
     },
     "execution_count": 27,
     "metadata": {},
     "output_type": "execute_result"
    }
   ],
   "source": [
    "df1 = survey[[\"Sprint\", \"Smoking\"]].dropna()\n",
    "df1.head()"
   ]
  },
  {
   "cell_type": "code",
   "execution_count": 28,
   "metadata": {},
   "outputs": [
    {
     "data": {
      "text/plain": [
       "F_onewayResult(statistic=9.208599845380919, pvalue=0.00012659768158159465)"
      ]
     },
     "execution_count": 28,
     "metadata": {},
     "output_type": "execute_result"
    }
   ],
   "source": [
    "stats.f_oneway(df1[df1[\"Smoking\"] == 0][\"Sprint\"], df1[df1[\"Smoking\"] == 1][\"Sprint\"], df1[df1[\"Smoking\"] == 2][\"Sprint\"])"
   ]
  },
  {
   "cell_type": "code",
   "execution_count": 29,
   "metadata": {},
   "outputs": [
    {
     "data": {
      "text/plain": [
       "Smoking\n",
       "0.0    6.411487\n",
       "1.0    6.835333\n",
       "2.0    7.120915\n",
       "Name: Sprint, dtype: float64"
      ]
     },
     "execution_count": 29,
     "metadata": {},
     "output_type": "execute_result"
    }
   ],
   "source": [
    "df1.groupby(\"Smoking\").Sprint.mean()"
   ]
  },
  {
   "cell_type": "code",
   "execution_count": null,
   "metadata": {},
   "outputs": [],
   "source": []
  }
 ],
 "metadata": {
  "kernelspec": {
   "display_name": "Python 3",
   "language": "python",
   "name": "python3"
  },
  "language_info": {
   "codemirror_mode": {
    "name": "ipython",
    "version": 3
   },
   "file_extension": ".py",
   "mimetype": "text/x-python",
   "name": "python",
   "nbconvert_exporter": "python",
   "pygments_lexer": "ipython3",
   "version": "3.7.11"
  }
 },
 "nbformat": 4,
 "nbformat_minor": 2
}
