{
  "nbformat": 4,
  "nbformat_minor": 0,
  "metadata": {
    "colab": {
      "name": "Statistics_S2_(Central&Dipersion)_20Apr2022.ipynb",
      "provenance": [],
      "collapsed_sections": []
    },
    "kernelspec": {
      "name": "python3",
      "display_name": "Python 3"
    },
    "language_info": {
      "name": "python"
    }
  },
  "cells": [
    {
      "cell_type": "markdown",
      "source": [
        "# **Central Tendency**"
      ],
      "metadata": {
        "id": "35H0L4-Qs1jG"
      }
    },
    {
      "cell_type": "code",
      "execution_count": 1,
      "metadata": {
        "id": "-OE6mNQRsjz1"
      },
      "outputs": [],
      "source": [
        "#Import the required libraries (just one time)\n",
        "import numpy as np\n",
        "from scipy import stats"
      ]
    },
    {
      "cell_type": "code",
      "source": [
        "#Define the list of data\n",
        "salary = [102, 33, 26, 27, 30, 25, 33, 33, 24]"
      ],
      "metadata": {
        "id": "ukaWo0NDtG_L"
      },
      "execution_count": 2,
      "outputs": []
    },
    {
      "cell_type": "code",
      "source": [
        "#Length of the salary list\n",
        "len(salary)"
      ],
      "metadata": {
        "colab": {
          "base_uri": "https://localhost:8080/"
        },
        "id": "Iwo0FXPXtjDA",
        "outputId": "c31d7165-a2f5-4f34-8835-99fe50bbe68b"
      },
      "execution_count": 3,
      "outputs": [
        {
          "output_type": "execute_result",
          "data": {
            "text/plain": [
              "9"
            ]
          },
          "metadata": {},
          "execution_count": 3
        }
      ]
    },
    {
      "cell_type": "code",
      "source": [
        "#Find the mean of the salary\n",
        "mean_salary = np.mean(salary)\n",
        "print(\"mean:\", mean_salary)"
      ],
      "metadata": {
        "colab": {
          "base_uri": "https://localhost:8080/"
        },
        "id": "BHgYwxpjtlJe",
        "outputId": "7c3f5369-9f4e-47a2-9cb1-fb5d6ed68e73"
      },
      "execution_count": 4,
      "outputs": [
        {
          "output_type": "stream",
          "name": "stdout",
          "text": [
            "mean: 37.0\n"
          ]
        }
      ]
    },
    {
      "cell_type": "code",
      "source": [
        "#Find the median of the salary\n",
        "median_salary = np.median(salary)\n",
        "print(\"median:\", median_salary)"
      ],
      "metadata": {
        "colab": {
          "base_uri": "https://localhost:8080/"
        },
        "id": "zifyh2Pwt9Rn",
        "outputId": "cbba2d4b-1b27-463c-e927-bf6061d27126"
      },
      "execution_count": 5,
      "outputs": [
        {
          "output_type": "stream",
          "name": "stdout",
          "text": [
            "median: 30.0\n"
          ]
        }
      ]
    },
    {
      "cell_type": "code",
      "source": [
        "#Find the mode of the salary\n",
        "mode_salary = stats.mode(salary)\n",
        "print(\"mode:\", mode_salary)"
      ],
      "metadata": {
        "colab": {
          "base_uri": "https://localhost:8080/"
        },
        "id": "gZS7pjKHuE1d",
        "outputId": "f8d6c83e-6107-4c75-b3dc-6813ea705f42"
      },
      "execution_count": 6,
      "outputs": [
        {
          "output_type": "stream",
          "name": "stdout",
          "text": [
            "mode: ModeResult(mode=array([33]), count=array([3]))\n"
          ]
        }
      ]
    },
    {
      "cell_type": "markdown",
      "source": [
        "# **Min & Max & Range**"
      ],
      "metadata": {
        "id": "tI4oimoMuxx9"
      }
    },
    {
      "cell_type": "code",
      "source": [
        "#Define the list of data\n",
        "data = [32, 36, 46, 47, 56, 69, 75, 79, 79, 88, 89, 91, 92, 93, 96, 97, 101, 105, 112, 116]"
      ],
      "metadata": {
        "id": "JcK1gazaug8M"
      },
      "execution_count": 7,
      "outputs": []
    },
    {
      "cell_type": "code",
      "source": [
        "#Find the minimum of the data\n",
        "print(\"min:\", np.min(data))"
      ],
      "metadata": {
        "colab": {
          "base_uri": "https://localhost:8080/"
        },
        "id": "7OtlSszqu7Ze",
        "outputId": "f6c53a44-493c-4624-fe00-28dbb21e7f3a"
      },
      "execution_count": 8,
      "outputs": [
        {
          "output_type": "stream",
          "name": "stdout",
          "text": [
            "min: 32\n"
          ]
        }
      ]
    },
    {
      "cell_type": "code",
      "source": [
        "#Find the max of the data\n",
        "print(\"max:\", np.max(data))"
      ],
      "metadata": {
        "colab": {
          "base_uri": "https://localhost:8080/"
        },
        "id": "qhRdRz3zvB-D",
        "outputId": "9e41156c-171f-4d91-f45f-5d391376e663"
      },
      "execution_count": 9,
      "outputs": [
        {
          "output_type": "stream",
          "name": "stdout",
          "text": [
            "max: 116\n"
          ]
        }
      ]
    },
    {
      "cell_type": "code",
      "source": [
        "#Find the range of the data\n",
        "print(\"range:\", np.max(data)-np.min(data))"
      ],
      "metadata": {
        "colab": {
          "base_uri": "https://localhost:8080/"
        },
        "id": "GTwYrXvyvFyl",
        "outputId": "ac188a88-2882-414e-e79d-775a420d1c31"
      },
      "execution_count": 10,
      "outputs": [
        {
          "output_type": "stream",
          "name": "stdout",
          "text": [
            "range: 84\n"
          ]
        }
      ]
    },
    {
      "cell_type": "markdown",
      "source": [
        "# **Q1 & Q2 & Q3 & IQR**"
      ],
      "metadata": {
        "id": "FCGvjBTzvWNs"
      }
    },
    {
      "cell_type": "code",
      "source": [
        "#Define the list of data\n",
        "data = [32, 36, 46, 47, 56, 69, 75, 79, 80, 88, 89]"
      ],
      "metadata": {
        "id": "lKbwrvqLvI92"
      },
      "execution_count": 11,
      "outputs": []
    },
    {
      "cell_type": "code",
      "source": [
        "#First Quartile (Q1)\n",
        "Q1 = np.percentile(data, 25)\n",
        "print(\"Q1:\", Q1)"
      ],
      "metadata": {
        "colab": {
          "base_uri": "https://localhost:8080/"
        },
        "id": "zzh2OO13vd0B",
        "outputId": "be44fb70-bc83-436d-ce82-979c06bfe750"
      },
      "execution_count": 12,
      "outputs": [
        {
          "output_type": "stream",
          "name": "stdout",
          "text": [
            "Q1: 46.5\n"
          ]
        }
      ]
    },
    {
      "cell_type": "code",
      "source": [
        "#Second Quartile (Q2)\n",
        "Q2 = np.percentile(data, 50)\n",
        "print(\"Q2:\", Q2)"
      ],
      "metadata": {
        "colab": {
          "base_uri": "https://localhost:8080/"
        },
        "id": "akM-8vjfwNNf",
        "outputId": "079aff9d-c286-4c1e-e1aa-4af5a8bc7276"
      },
      "execution_count": 13,
      "outputs": [
        {
          "output_type": "stream",
          "name": "stdout",
          "text": [
            "Q2: 69.0\n"
          ]
        }
      ]
    },
    {
      "cell_type": "code",
      "source": [
        "np.median(data)"
      ],
      "metadata": {
        "colab": {
          "base_uri": "https://localhost:8080/"
        },
        "id": "HSVEjAHlwVPo",
        "outputId": "1d1471bc-d4d8-43db-b66d-37ad61585e35"
      },
      "execution_count": 14,
      "outputs": [
        {
          "output_type": "execute_result",
          "data": {
            "text/plain": [
              "69.0"
            ]
          },
          "metadata": {},
          "execution_count": 14
        }
      ]
    },
    {
      "cell_type": "code",
      "source": [
        "#Third Quartile (Q3)\n",
        "Q3 = np.percentile(data, 75)\n",
        "print(\"Q3:\", Q3)"
      ],
      "metadata": {
        "colab": {
          "base_uri": "https://localhost:8080/"
        },
        "id": "bFpoiCeowXqK",
        "outputId": "5f613b18-31a1-4aea-cede-7408d9bd3734"
      },
      "execution_count": 15,
      "outputs": [
        {
          "output_type": "stream",
          "name": "stdout",
          "text": [
            "Q3: 79.5\n"
          ]
        }
      ]
    },
    {
      "cell_type": "code",
      "source": [
        "# Interquaritle range (IQR) \n",
        "IQR = np.percentile(data, 75) - np.percentile(data, 25)\n",
        "\n",
        "print(\"IQR:\", IQR)"
      ],
      "metadata": {
        "colab": {
          "base_uri": "https://localhost:8080/"
        },
        "id": "U1abvE4Qwh9K",
        "outputId": "5f64299c-5cdf-48bd-bb29-e793c0e13a98"
      },
      "execution_count": 16,
      "outputs": [
        {
          "output_type": "stream",
          "name": "stdout",
          "text": [
            "IQR: 33.0\n"
          ]
        }
      ]
    },
    {
      "cell_type": "code",
      "source": [
        "#with scipy stats\n",
        "stats.iqr(data)"
      ],
      "metadata": {
        "colab": {
          "base_uri": "https://localhost:8080/"
        },
        "id": "_1KCRqIqxFmV",
        "outputId": "934614d7-046c-4cfb-aa84-410a791ff2a0"
      },
      "execution_count": 17,
      "outputs": [
        {
          "output_type": "execute_result",
          "data": {
            "text/plain": [
              "33.0"
            ]
          },
          "metadata": {},
          "execution_count": 17
        }
      ]
    },
    {
      "cell_type": "code",
      "source": [
        "#Draw a boxplot\n",
        "import matplotlib.pyplot as plt\n",
        "plt.boxplot(data);"
      ],
      "metadata": {
        "colab": {
          "base_uri": "https://localhost:8080/",
          "height": 265
        },
        "id": "6X0Vg9KHxdhn",
        "outputId": "0ebfe397-2d89-465d-eb74-133b6ce2f811"
      },
      "execution_count": 18,
      "outputs": [
        {
          "output_type": "display_data",
          "data": {
            "text/plain": [
              "<Figure size 432x288 with 1 Axes>"
            ],
            "image/png": "[encoded data removed]"
          },
          "metadata": {
            "needs_background": "light"
          }
        }
      ]
    },
    {
      "cell_type": "code",
      "source": [
        "#Draw a boxplot with an outlier\n",
        "data2 = [32, 36, 46, 47, 56, 69, 75, 79, 80, 88, 89, 145]\n",
        "plt.boxplot(data2);"
      ],
      "metadata": {
        "colab": {
          "base_uri": "https://localhost:8080/",
          "height": 265
        },
        "id": "aiePnBQSx7H7",
        "outputId": "276e3c75-87f8-4bc7-80a4-3a135f964dd2"
      },
      "execution_count": 19,
      "outputs": [
        {
          "output_type": "display_data",
          "data": {
            "text/plain": [
              "<Figure size 432x288 with 1 Axes>"
            ],
            "image/png": "[encoded data removed]"
          },
          "metadata": {
            "needs_background": "light"
          }
        }
      ]
    },
    {
      "cell_type": "markdown",
      "source": [
        "# **Standard Deviation and Variance**"
      ],
      "metadata": {
        "id": "ZJ540m6GxZ6r"
      }
    },
    {
      "cell_type": "code",
      "source": [
        "#Variance of the data\n",
        "var = np.var(data)\n",
        "print(\"Variance:\", var)"
      ],
      "metadata": {
        "colab": {
          "base_uri": "https://localhost:8080/"
        },
        "id": "PRheT7IZxM7S",
        "outputId": "c33629be-650c-4eb2-bb07-84662ebf2bf9"
      },
      "execution_count": 20,
      "outputs": [
        {
          "output_type": "stream",
          "name": "stdout",
          "text": [
            "Variance: 391.68595041322317\n"
          ]
        }
      ]
    },
    {
      "cell_type": "code",
      "source": [
        "#Standard deviation of the data\n",
        "std = np.std(data)\n",
        "print(\"Std Dev:\", std)"
      ],
      "metadata": {
        "colab": {
          "base_uri": "https://localhost:8080/"
        },
        "id": "0y8MI8j2yjdY",
        "outputId": "0c770850-77ac-4145-8b7f-280c607c13d3"
      },
      "execution_count": 21,
      "outputs": [
        {
          "output_type": "stream",
          "name": "stdout",
          "text": [
            "Std Dev: 19.791057334392804\n"
          ]
        }
      ]
    },
    {
      "cell_type": "code",
      "source": [
        "#From the formulation\n",
        "np.sqrt(np.var(data))"
      ],
      "metadata": {
        "colab": {
          "base_uri": "https://localhost:8080/"
        },
        "id": "SEgWrANUym1r",
        "outputId": "a22a3330-ffbf-4adc-e705-a07bdb7e6332"
      },
      "execution_count": 22,
      "outputs": [
        {
          "output_type": "execute_result",
          "data": {
            "text/plain": [
              "19.791057334392804"
            ]
          },
          "metadata": {},
          "execution_count": 22
        }
      ]
    }
  ]
}