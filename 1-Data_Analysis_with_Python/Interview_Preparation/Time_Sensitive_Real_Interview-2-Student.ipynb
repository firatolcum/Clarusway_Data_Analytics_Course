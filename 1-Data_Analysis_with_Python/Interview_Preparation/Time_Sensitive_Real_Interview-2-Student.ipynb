{
 "cells": [
  {
   "cell_type": "code",
   "execution_count": 1,
   "id": "7024a523",
   "metadata": {},
   "outputs": [],
   "source": [
    "import pandas as pd\n",
    "import numpy as np\n",
    "import seaborn as sns\n",
    "import matplotlib.pyplot as plt"
   ]
  },
  {
   "cell_type": "code",
   "execution_count": 322,
   "id": "2459da01",
   "metadata": {},
   "outputs": [],
   "source": [
    "df = pd.read_csv(\"sales_082020.csv\")"
   ]
  },
  {
   "cell_type": "code",
   "execution_count": 323,
   "id": "5db204a7",
   "metadata": {},
   "outputs": [],
   "source": [
    "df2 = pd.read_csv(\"currency_rates_082020_EUR.csv\")"
   ]
  },
  {
   "cell_type": "code",
   "execution_count": 125,
   "id": "f96e066d",
   "metadata": {
    "scrolled": false
   },
   "outputs": [
    {
     "data": {
      "text/html": [
       "<div>\n",
       "<style scoped>\n",
       "    .dataframe tbody tr th:only-of-type {\n",
       "        vertical-align: middle;\n",
       "    }\n",
       "\n",
       "    .dataframe tbody tr th {\n",
       "        vertical-align: top;\n",
       "    }\n",
       "\n",
       "    .dataframe thead th {\n",
       "        text-align: right;\n",
       "    }\n",
       "</style>\n",
       "<table border=\"1\" class=\"dataframe\">\n",
       "  <thead>\n",
       "    <tr style=\"text-align: right;\">\n",
       "      <th></th>\n",
       "      <th>buyer_id</th>\n",
       "      <th>buyer_country</th>\n",
       "      <th>seller_id</th>\n",
       "      <th>seller_country</th>\n",
       "      <th>product_code</th>\n",
       "      <th>category</th>\n",
       "      <th>brand</th>\n",
       "      <th>currency</th>\n",
       "      <th>price</th>\n",
       "      <th>date</th>\n",
       "    </tr>\n",
       "  </thead>\n",
       "  <tbody>\n",
       "    <tr>\n",
       "      <th>0</th>\n",
       "      <td>qzpjsi9t0o</td>\n",
       "      <td>GB</td>\n",
       "      <td>6oufpaot</td>\n",
       "      <td>GB</td>\n",
       "      <td>ydecnydr6obf</td>\n",
       "      <td>Dresses</td>\n",
       "      <td>NaN</td>\n",
       "      <td>GBP</td>\n",
       "      <td>19.11</td>\n",
       "      <td>2020-08-03</td>\n",
       "    </tr>\n",
       "    <tr>\n",
       "      <th>1</th>\n",
       "      <td>o79pns1qwo</td>\n",
       "      <td>GB</td>\n",
       "      <td>50xki2yg</td>\n",
       "      <td>GB</td>\n",
       "      <td>38chj507o6h2</td>\n",
       "      <td>Outerwear</td>\n",
       "      <td>Adidas Originals</td>\n",
       "      <td>GBP</td>\n",
       "      <td>15.92</td>\n",
       "      <td>2020-08-09</td>\n",
       "    </tr>\n",
       "    <tr>\n",
       "      <th>2</th>\n",
       "      <td>sjgbjdkhqx</td>\n",
       "      <td>GB</td>\n",
       "      <td>50xki2yg</td>\n",
       "      <td>GB</td>\n",
       "      <td>i9ynyxj5tdp8</td>\n",
       "      <td>Tops - Mens</td>\n",
       "      <td>NaN</td>\n",
       "      <td>GBP</td>\n",
       "      <td>6.37</td>\n",
       "      <td>2020-08-07</td>\n",
       "    </tr>\n",
       "    <tr>\n",
       "      <th>3</th>\n",
       "      <td>o79pns1qwo</td>\n",
       "      <td>GB</td>\n",
       "      <td>s0p322hh</td>\n",
       "      <td>GB</td>\n",
       "      <td>t50xe7moye8v</td>\n",
       "      <td>Tops - Mens</td>\n",
       "      <td>Berghaus</td>\n",
       "      <td>GBP</td>\n",
       "      <td>25.27</td>\n",
       "      <td>2020-08-09</td>\n",
       "    </tr>\n",
       "    <tr>\n",
       "      <th>4</th>\n",
       "      <td>o79pns1qwo</td>\n",
       "      <td>GB</td>\n",
       "      <td>dpkx192v</td>\n",
       "      <td>GB</td>\n",
       "      <td>hp4r9bjq68af</td>\n",
       "      <td>Bottoms - Womens</td>\n",
       "      <td>NaN</td>\n",
       "      <td>GBP</td>\n",
       "      <td>8.90</td>\n",
       "      <td>2020-08-09</td>\n",
       "    </tr>\n",
       "  </tbody>\n",
       "</table>\n",
       "</div>"
      ],
      "text/plain": [
       "     buyer_id buyer_country seller_id seller_country  product_code  \\\n",
       "0  qzpjsi9t0o            GB  6oufpaot             GB  ydecnydr6obf   \n",
       "1  o79pns1qwo            GB  50xki2yg             GB  38chj507o6h2   \n",
       "2  sjgbjdkhqx            GB  50xki2yg             GB  i9ynyxj5tdp8   \n",
       "3  o79pns1qwo            GB  s0p322hh             GB  t50xe7moye8v   \n",
       "4  o79pns1qwo            GB  dpkx192v             GB  hp4r9bjq68af   \n",
       "\n",
       "           category             brand currency  price        date  \n",
       "0           Dresses               NaN      GBP  19.11  2020-08-03  \n",
       "1         Outerwear  Adidas Originals      GBP  15.92  2020-08-09  \n",
       "2       Tops - Mens               NaN      GBP   6.37  2020-08-07  \n",
       "3       Tops - Mens          Berghaus      GBP  25.27  2020-08-09  \n",
       "4  Bottoms - Womens               NaN      GBP   8.90  2020-08-09  "
      ]
     },
     "execution_count": 125,
     "metadata": {},
     "output_type": "execute_result"
    }
   ],
   "source": [
    "df.head()"
   ]
  },
  {
   "cell_type": "code",
   "execution_count": 126,
   "id": "68866d5a",
   "metadata": {
    "scrolled": true
   },
   "outputs": [
    {
     "name": "stdout",
     "output_type": "stream",
     "text": [
      "<class 'pandas.core.frame.DataFrame'>\n",
      "RangeIndex: 237671 entries, 0 to 237670\n",
      "Data columns (total 10 columns):\n",
      " #   Column          Non-Null Count   Dtype  \n",
      "---  ------          --------------   -----  \n",
      " 0   buyer_id        237671 non-null  object \n",
      " 1   buyer_country   237671 non-null  object \n",
      " 2   seller_id       237671 non-null  object \n",
      " 3   seller_country  237671 non-null  object \n",
      " 4   product_code    237671 non-null  object \n",
      " 5   category        237655 non-null  object \n",
      " 6   brand           119330 non-null  object \n",
      " 7   currency        237671 non-null  object \n",
      " 8   price           237671 non-null  float64\n",
      " 9   date            237671 non-null  object \n",
      "dtypes: float64(1), object(9)\n",
      "memory usage: 18.1+ MB\n"
     ]
    }
   ],
   "source": [
    "df.info()"
   ]
  },
  {
   "cell_type": "code",
   "execution_count": 129,
   "id": "be511e76",
   "metadata": {},
   "outputs": [
    {
     "data": {
      "text/html": [
       "<div>\n",
       "<style scoped>\n",
       "    .dataframe tbody tr th:only-of-type {\n",
       "        vertical-align: middle;\n",
       "    }\n",
       "\n",
       "    .dataframe tbody tr th {\n",
       "        vertical-align: top;\n",
       "    }\n",
       "\n",
       "    .dataframe thead th {\n",
       "        text-align: right;\n",
       "    }\n",
       "</style>\n",
       "<table border=\"1\" class=\"dataframe\">\n",
       "  <thead>\n",
       "    <tr style=\"text-align: right;\">\n",
       "      <th></th>\n",
       "      <th>currency</th>\n",
       "      <th>date</th>\n",
       "      <th>rate</th>\n",
       "    </tr>\n",
       "  </thead>\n",
       "  <tbody>\n",
       "    <tr>\n",
       "      <th>0</th>\n",
       "      <td>EUR</td>\n",
       "      <td>8/1/2020</td>\n",
       "      <td>1.0</td>\n",
       "    </tr>\n",
       "    <tr>\n",
       "      <th>1</th>\n",
       "      <td>EUR</td>\n",
       "      <td>8/2/2020</td>\n",
       "      <td>1.0</td>\n",
       "    </tr>\n",
       "    <tr>\n",
       "      <th>2</th>\n",
       "      <td>EUR</td>\n",
       "      <td>8/3/2020</td>\n",
       "      <td>1.0</td>\n",
       "    </tr>\n",
       "    <tr>\n",
       "      <th>3</th>\n",
       "      <td>EUR</td>\n",
       "      <td>8/4/2020</td>\n",
       "      <td>1.0</td>\n",
       "    </tr>\n",
       "    <tr>\n",
       "      <th>4</th>\n",
       "      <td>EUR</td>\n",
       "      <td>8/5/2020</td>\n",
       "      <td>1.0</td>\n",
       "    </tr>\n",
       "  </tbody>\n",
       "</table>\n",
       "</div>"
      ],
      "text/plain": [
       "  currency      date  rate\n",
       "0      EUR  8/1/2020   1.0\n",
       "1      EUR  8/2/2020   1.0\n",
       "2      EUR  8/3/2020   1.0\n",
       "3      EUR  8/4/2020   1.0\n",
       "4      EUR  8/5/2020   1.0"
      ]
     },
     "execution_count": 129,
     "metadata": {},
     "output_type": "execute_result"
    }
   ],
   "source": [
    "df2.head()"
   ]
  },
  {
   "cell_type": "code",
   "execution_count": 130,
   "id": "ac438896",
   "metadata": {
    "scrolled": true
   },
   "outputs": [
    {
     "name": "stdout",
     "output_type": "stream",
     "text": [
      "<class 'pandas.core.frame.DataFrame'>\n",
      "RangeIndex: 220 entries, 0 to 219\n",
      "Data columns (total 3 columns):\n",
      " #   Column    Non-Null Count  Dtype  \n",
      "---  ------    --------------  -----  \n",
      " 0   currency  220 non-null    object \n",
      " 1   date      220 non-null    object \n",
      " 2   rate      220 non-null    float64\n",
      "dtypes: float64(1), object(2)\n",
      "memory usage: 5.3+ KB\n"
     ]
    }
   ],
   "source": [
    "df2.info()"
   ]
  },
  {
   "cell_type": "code",
   "execution_count": 324,
   "id": "44522c80",
   "metadata": {},
   "outputs": [],
   "source": [
    "df2[\"date\"] = pd.to_datetime(df2[\"date\"])"
   ]
  },
  {
   "cell_type": "code",
   "execution_count": 386,
   "id": "2af77c83",
   "metadata": {},
   "outputs": [
    {
     "data": {
      "text/plain": [
       "dtype('<M8[ns]')"
      ]
     },
     "execution_count": 386,
     "metadata": {},
     "output_type": "execute_result"
    }
   ],
   "source": [
    "df2[\"date\"].dtype"
   ]
  },
  {
   "cell_type": "code",
   "execution_count": 325,
   "id": "ed2d2f93",
   "metadata": {},
   "outputs": [],
   "source": [
    "df[\"date\"] = pd.to_datetime(df[\"date\"])"
   ]
  },
  {
   "cell_type": "code",
   "execution_count": 388,
   "id": "b517df07",
   "metadata": {},
   "outputs": [
    {
     "data": {
      "text/plain": [
       "dtype('<M8[ns]')"
      ]
     },
     "execution_count": 388,
     "metadata": {},
     "output_type": "execute_result"
    }
   ],
   "source": [
    "df[\"date\"].dtype"
   ]
  },
  {
   "cell_type": "code",
   "execution_count": 326,
   "id": "6bf3e766",
   "metadata": {
    "scrolled": true
   },
   "outputs": [],
   "source": [
    "df3 = pd.merge(df, df2, on=['currency','date'])"
   ]
  },
  {
   "cell_type": "code",
   "execution_count": 137,
   "id": "6c83f927",
   "metadata": {
    "scrolled": true
   },
   "outputs": [
    {
     "data": {
      "text/html": [
       "<div>\n",
       "<style scoped>\n",
       "    .dataframe tbody tr th:only-of-type {\n",
       "        vertical-align: middle;\n",
       "    }\n",
       "\n",
       "    .dataframe tbody tr th {\n",
       "        vertical-align: top;\n",
       "    }\n",
       "\n",
       "    .dataframe thead th {\n",
       "        text-align: right;\n",
       "    }\n",
       "</style>\n",
       "<table border=\"1\" class=\"dataframe\">\n",
       "  <thead>\n",
       "    <tr style=\"text-align: right;\">\n",
       "      <th></th>\n",
       "      <th>buyer_id</th>\n",
       "      <th>buyer_country</th>\n",
       "      <th>seller_id</th>\n",
       "      <th>seller_country</th>\n",
       "      <th>product_code</th>\n",
       "      <th>category</th>\n",
       "      <th>brand</th>\n",
       "      <th>currency</th>\n",
       "      <th>price</th>\n",
       "      <th>date</th>\n",
       "      <th>rate</th>\n",
       "    </tr>\n",
       "  </thead>\n",
       "  <tbody>\n",
       "    <tr>\n",
       "      <th>0</th>\n",
       "      <td>qzpjsi9t0o</td>\n",
       "      <td>GB</td>\n",
       "      <td>6oufpaot</td>\n",
       "      <td>GB</td>\n",
       "      <td>ydecnydr6obf</td>\n",
       "      <td>Dresses</td>\n",
       "      <td>NaN</td>\n",
       "      <td>GBP</td>\n",
       "      <td>19.11</td>\n",
       "      <td>2020-08-03</td>\n",
       "      <td>0.89935</td>\n",
       "    </tr>\n",
       "    <tr>\n",
       "      <th>1</th>\n",
       "      <td>rd209r8c7c</td>\n",
       "      <td>GB</td>\n",
       "      <td>9p2ansc9</td>\n",
       "      <td>GB</td>\n",
       "      <td>wpxxf59cq7pc</td>\n",
       "      <td>Outerwear - Mens</td>\n",
       "      <td>Adidas Originals</td>\n",
       "      <td>GBP</td>\n",
       "      <td>24.91</td>\n",
       "      <td>2020-08-03</td>\n",
       "      <td>0.89935</td>\n",
       "    </tr>\n",
       "    <tr>\n",
       "      <th>2</th>\n",
       "      <td>pqbcrl8azx</td>\n",
       "      <td>GB</td>\n",
       "      <td>r9zmzem8</td>\n",
       "      <td>GB</td>\n",
       "      <td>ua9mmn86wsqy</td>\n",
       "      <td>Tops - Womens</td>\n",
       "      <td>NaN</td>\n",
       "      <td>GBP</td>\n",
       "      <td>19.31</td>\n",
       "      <td>2020-08-03</td>\n",
       "      <td>0.89935</td>\n",
       "    </tr>\n",
       "    <tr>\n",
       "      <th>3</th>\n",
       "      <td>j5en1rwmxp</td>\n",
       "      <td>GB</td>\n",
       "      <td>3o2nz88r</td>\n",
       "      <td>GB</td>\n",
       "      <td>tduo2uy8iszl</td>\n",
       "      <td>Bottoms - Womens</td>\n",
       "      <td>Urban Outfitters</td>\n",
       "      <td>GBP</td>\n",
       "      <td>16.98</td>\n",
       "      <td>2020-08-03</td>\n",
       "      <td>0.89935</td>\n",
       "    </tr>\n",
       "    <tr>\n",
       "      <th>4</th>\n",
       "      <td>kjdezxeh1l</td>\n",
       "      <td>GB</td>\n",
       "      <td>7g56ublf</td>\n",
       "      <td>GB</td>\n",
       "      <td>39o00tcu89zq</td>\n",
       "      <td>Other</td>\n",
       "      <td>NaN</td>\n",
       "      <td>GBP</td>\n",
       "      <td>2.85</td>\n",
       "      <td>2020-08-03</td>\n",
       "      <td>0.89935</td>\n",
       "    </tr>\n",
       "  </tbody>\n",
       "</table>\n",
       "</div>"
      ],
      "text/plain": [
       "     buyer_id buyer_country seller_id seller_country  product_code  \\\n",
       "0  qzpjsi9t0o            GB  6oufpaot             GB  ydecnydr6obf   \n",
       "1  rd209r8c7c            GB  9p2ansc9             GB  wpxxf59cq7pc   \n",
       "2  pqbcrl8azx            GB  r9zmzem8             GB  ua9mmn86wsqy   \n",
       "3  j5en1rwmxp            GB  3o2nz88r             GB  tduo2uy8iszl   \n",
       "4  kjdezxeh1l            GB  7g56ublf             GB  39o00tcu89zq   \n",
       "\n",
       "           category             brand currency  price       date     rate  \n",
       "0           Dresses               NaN      GBP  19.11 2020-08-03  0.89935  \n",
       "1  Outerwear - Mens  Adidas Originals      GBP  24.91 2020-08-03  0.89935  \n",
       "2     Tops - Womens               NaN      GBP  19.31 2020-08-03  0.89935  \n",
       "3  Bottoms - Womens  Urban Outfitters      GBP  16.98 2020-08-03  0.89935  \n",
       "4             Other               NaN      GBP   2.85 2020-08-03  0.89935  "
      ]
     },
     "execution_count": 137,
     "metadata": {},
     "output_type": "execute_result"
    }
   ],
   "source": [
    "df3.head()"
   ]
  },
  {
   "cell_type": "code",
   "execution_count": 138,
   "id": "1d2a4512",
   "metadata": {},
   "outputs": [
    {
     "name": "stdout",
     "output_type": "stream",
     "text": [
      "<class 'pandas.core.frame.DataFrame'>\n",
      "Int64Index: 237671 entries, 0 to 237670\n",
      "Data columns (total 11 columns):\n",
      " #   Column          Non-Null Count   Dtype         \n",
      "---  ------          --------------   -----         \n",
      " 0   buyer_id        237671 non-null  object        \n",
      " 1   buyer_country   237671 non-null  object        \n",
      " 2   seller_id       237671 non-null  object        \n",
      " 3   seller_country  237671 non-null  object        \n",
      " 4   product_code    237671 non-null  object        \n",
      " 5   category        237655 non-null  object        \n",
      " 6   brand           119330 non-null  object        \n",
      " 7   currency        237671 non-null  object        \n",
      " 8   price           237671 non-null  float64       \n",
      " 9   date            237671 non-null  datetime64[ns]\n",
      " 10  rate            237671 non-null  float64       \n",
      "dtypes: datetime64[ns](1), float64(2), object(8)\n",
      "memory usage: 21.8+ MB\n"
     ]
    }
   ],
   "source": [
    "df3.info()"
   ]
  },
  {
   "cell_type": "code",
   "execution_count": 332,
   "id": "666fbe17",
   "metadata": {},
   "outputs": [],
   "source": [
    "df3[\"new_price\"] = df3[\"price\"] / df3[\"rate\"]"
   ]
  },
  {
   "cell_type": "code",
   "execution_count": 183,
   "id": "34dd6fd0",
   "metadata": {
    "scrolled": false
   },
   "outputs": [
    {
     "data": {
      "text/html": [
       "<div>\n",
       "<style scoped>\n",
       "    .dataframe tbody tr th:only-of-type {\n",
       "        vertical-align: middle;\n",
       "    }\n",
       "\n",
       "    .dataframe tbody tr th {\n",
       "        vertical-align: top;\n",
       "    }\n",
       "\n",
       "    .dataframe thead th {\n",
       "        text-align: right;\n",
       "    }\n",
       "</style>\n",
       "<table border=\"1\" class=\"dataframe\">\n",
       "  <thead>\n",
       "    <tr style=\"text-align: right;\">\n",
       "      <th></th>\n",
       "      <th>buyer_id</th>\n",
       "      <th>buyer_country</th>\n",
       "      <th>seller_id</th>\n",
       "      <th>seller_country</th>\n",
       "      <th>product_code</th>\n",
       "      <th>category</th>\n",
       "      <th>brand</th>\n",
       "      <th>currency</th>\n",
       "      <th>price</th>\n",
       "      <th>date</th>\n",
       "      <th>rate</th>\n",
       "      <th>new_price</th>\n",
       "    </tr>\n",
       "  </thead>\n",
       "  <tbody>\n",
       "    <tr>\n",
       "      <th>0</th>\n",
       "      <td>qzpjsi9t0o</td>\n",
       "      <td>GB</td>\n",
       "      <td>6oufpaot</td>\n",
       "      <td>GB</td>\n",
       "      <td>ydecnydr6obf</td>\n",
       "      <td>Dresses</td>\n",
       "      <td>NaN</td>\n",
       "      <td>GBP</td>\n",
       "      <td>19.11</td>\n",
       "      <td>2020-08-03</td>\n",
       "      <td>0.89935</td>\n",
       "      <td>21.248680</td>\n",
       "    </tr>\n",
       "    <tr>\n",
       "      <th>1</th>\n",
       "      <td>rd209r8c7c</td>\n",
       "      <td>GB</td>\n",
       "      <td>9p2ansc9</td>\n",
       "      <td>GB</td>\n",
       "      <td>wpxxf59cq7pc</td>\n",
       "      <td>Outerwear - Mens</td>\n",
       "      <td>Adidas Originals</td>\n",
       "      <td>GBP</td>\n",
       "      <td>24.91</td>\n",
       "      <td>2020-08-03</td>\n",
       "      <td>0.89935</td>\n",
       "      <td>27.697782</td>\n",
       "    </tr>\n",
       "    <tr>\n",
       "      <th>2</th>\n",
       "      <td>pqbcrl8azx</td>\n",
       "      <td>GB</td>\n",
       "      <td>r9zmzem8</td>\n",
       "      <td>GB</td>\n",
       "      <td>ua9mmn86wsqy</td>\n",
       "      <td>Tops - Womens</td>\n",
       "      <td>NaN</td>\n",
       "      <td>GBP</td>\n",
       "      <td>19.31</td>\n",
       "      <td>2020-08-03</td>\n",
       "      <td>0.89935</td>\n",
       "      <td>21.471062</td>\n",
       "    </tr>\n",
       "    <tr>\n",
       "      <th>3</th>\n",
       "      <td>j5en1rwmxp</td>\n",
       "      <td>GB</td>\n",
       "      <td>3o2nz88r</td>\n",
       "      <td>GB</td>\n",
       "      <td>tduo2uy8iszl</td>\n",
       "      <td>Bottoms - Womens</td>\n",
       "      <td>Urban Outfitters</td>\n",
       "      <td>GBP</td>\n",
       "      <td>16.98</td>\n",
       "      <td>2020-08-03</td>\n",
       "      <td>0.89935</td>\n",
       "      <td>18.880302</td>\n",
       "    </tr>\n",
       "    <tr>\n",
       "      <th>4</th>\n",
       "      <td>kjdezxeh1l</td>\n",
       "      <td>GB</td>\n",
       "      <td>7g56ublf</td>\n",
       "      <td>GB</td>\n",
       "      <td>39o00tcu89zq</td>\n",
       "      <td>Other</td>\n",
       "      <td>NaN</td>\n",
       "      <td>GBP</td>\n",
       "      <td>2.85</td>\n",
       "      <td>2020-08-03</td>\n",
       "      <td>0.89935</td>\n",
       "      <td>3.168955</td>\n",
       "    </tr>\n",
       "  </tbody>\n",
       "</table>\n",
       "</div>"
      ],
      "text/plain": [
       "     buyer_id buyer_country seller_id seller_country  product_code  \\\n",
       "0  qzpjsi9t0o            GB  6oufpaot             GB  ydecnydr6obf   \n",
       "1  rd209r8c7c            GB  9p2ansc9             GB  wpxxf59cq7pc   \n",
       "2  pqbcrl8azx            GB  r9zmzem8             GB  ua9mmn86wsqy   \n",
       "3  j5en1rwmxp            GB  3o2nz88r             GB  tduo2uy8iszl   \n",
       "4  kjdezxeh1l            GB  7g56ublf             GB  39o00tcu89zq   \n",
       "\n",
       "           category             brand currency  price       date     rate  \\\n",
       "0           Dresses               NaN      GBP  19.11 2020-08-03  0.89935   \n",
       "1  Outerwear - Mens  Adidas Originals      GBP  24.91 2020-08-03  0.89935   \n",
       "2     Tops - Womens               NaN      GBP  19.31 2020-08-03  0.89935   \n",
       "3  Bottoms - Womens  Urban Outfitters      GBP  16.98 2020-08-03  0.89935   \n",
       "4             Other               NaN      GBP   2.85 2020-08-03  0.89935   \n",
       "\n",
       "   new_price  \n",
       "0  21.248680  \n",
       "1  27.697782  \n",
       "2  21.471062  \n",
       "3  18.880302  \n",
       "4   3.168955  "
      ]
     },
     "execution_count": 183,
     "metadata": {},
     "output_type": "execute_result"
    }
   ],
   "source": [
    "df3.head()"
   ]
  },
  {
   "cell_type": "markdown",
   "id": "8cf559f1",
   "metadata": {},
   "source": [
    "##### 1. Which country made the highest percentage of purchases?"
   ]
  },
  {
   "cell_type": "code",
   "execution_count": 363,
   "id": "c360b8a8",
   "metadata": {
    "scrolled": true
   },
   "outputs": [
    {
     "data": {
      "text/plain": [
       "buyer_country\n",
       "AU      3.395831\n",
       "CA      1.028593\n",
       "DE      0.393954\n",
       "FR      0.283688\n",
       "GB     55.300687\n",
       "IE      1.785838\n",
       "IT      2.537846\n",
       "RoW     2.383713\n",
       "US     32.889849\n",
       "Name: new_price, dtype: float64"
      ]
     },
     "execution_count": 363,
     "metadata": {},
     "output_type": "execute_result"
    }
   ],
   "source": [
    "# GB-55.3%\n",
    "df3.groupby(\"buyer_country\")[\"new_price\"].sum() / df3[\"new_price\"].sum() * 100"
   ]
  },
  {
   "cell_type": "code",
   "execution_count": null,
   "id": "8cc856d5",
   "metadata": {},
   "outputs": [],
   "source": []
  },
  {
   "cell_type": "markdown",
   "id": "c8db29a9",
   "metadata": {},
   "source": [
    "##### 2. Which day has the highest value of purchases?"
   ]
  },
  {
   "cell_type": "code",
   "execution_count": 385,
   "id": "90f7c43c",
   "metadata": {
    "scrolled": true
   },
   "outputs": [
    {
     "data": {
      "text/plain": [
       "date\n",
       "2020-08-03    1.005281e+06\n",
       "2020-08-08    9.895082e+05\n",
       "2020-08-07    9.661487e+05\n",
       "2020-08-09    9.467022e+05\n",
       "2020-08-04    9.351293e+05\n",
       "2020-08-06    8.582236e+05\n",
       "2020-08-05    7.705182e+05\n",
       "Name: new_price, dtype: float64"
      ]
     },
     "execution_count": 385,
     "metadata": {},
     "output_type": "execute_result"
    }
   ],
   "source": [
    "# 2020-08-03\n",
    "df3.groupby(\"date\")[\"new_price\"].sum().sort_values(ascending=False)"
   ]
  },
  {
   "cell_type": "code",
   "execution_count": null,
   "id": "8b5d66fe",
   "metadata": {},
   "outputs": [],
   "source": []
  },
  {
   "cell_type": "markdown",
   "id": "81cd864f",
   "metadata": {},
   "source": [
    "##### 3. Which category has 2,324 transactions on 7 August?"
   ]
  },
  {
   "cell_type": "code",
   "execution_count": 379,
   "id": "d625e57a",
   "metadata": {
    "scrolled": false
   },
   "outputs": [
    {
     "data": {
      "text/plain": [
       "Tops - Womens        6798\n",
       "Tops - Mens          4835\n",
       "Bottoms - Womens     4571\n",
       "Shoes                3292\n",
       "Accessories          3090\n",
       "Dresses              3079\n",
       "Jewellery            2324\n",
       "Beauty               1297\n",
       "Other                1014\n",
       "Outerwear             917\n",
       "Bottoms - Mens        826\n",
       "Lingerie              788\n",
       "Outerwear - Mens      552\n",
       "Tech                  539\n",
       "Home                  514\n",
       "Music                 336\n",
       "Art                   333\n",
       "Kids                  317\n",
       "Books & magazines     154\n",
       "Film                   64\n",
       "Sports equipment       63\n",
       "Underwear              24\n",
       "Transportation         16\n",
       "UNSPECIFIED             1\n",
       "Name: category, dtype: int64"
      ]
     },
     "execution_count": 379,
     "metadata": {},
     "output_type": "execute_result"
    }
   ],
   "source": [
    "# Jewellery\n",
    "df3[df3[\"date\"] == \"2020-08-07\"][\"category\"].value_counts()"
   ]
  },
  {
   "cell_type": "code",
   "execution_count": null,
   "id": "a8838095",
   "metadata": {},
   "outputs": [],
   "source": []
  },
  {
   "cell_type": "markdown",
   "id": "341c3052",
   "metadata": {},
   "source": [
    "##### 4. What percentage of global sales value on 4 August came from US sellers?"
   ]
  },
  {
   "cell_type": "code",
   "execution_count": 382,
   "id": "bd347895",
   "metadata": {},
   "outputs": [
    {
     "data": {
      "text/plain": [
       "33.27165931227377"
      ]
     },
     "execution_count": 382,
     "metadata": {},
     "output_type": "execute_result"
    }
   ],
   "source": [
    "#33.27%\n",
    "global_sale = df3[df3[\"date\"] == \"2020-08-04\"][\"new_price\"].sum()\n",
    "usa_sale = df3[(df3[\"date\"] == \"2020-08-04\") & (df3[\"seller_country\"] == \"US\")][\"new_price\"].sum()\n",
    "usa_sale / global_sale * 100"
   ]
  },
  {
   "cell_type": "code",
   "execution_count": null,
   "id": "faa796cf",
   "metadata": {},
   "outputs": [],
   "source": []
  },
  {
   "cell_type": "markdown",
   "id": "7f3beafc",
   "metadata": {},
   "source": [
    "##### 5. How many sellers in US has more than 75 sales?"
   ]
  },
  {
   "cell_type": "code",
   "execution_count": 366,
   "id": "3ea84c5f",
   "metadata": {},
   "outputs": [
    {
     "data": {
      "text/plain": [
       "index        22\n",
       "seller_id    22\n",
       "dtype: int64"
      ]
     },
     "execution_count": 366,
     "metadata": {},
     "output_type": "execute_result"
    }
   ],
   "source": [
    "#22\n",
    "nn = df3[(df3[\"seller_country\"] == \"US\")][\"seller_id\"].value_counts().to_frame().reset_index()\n",
    "nn[nn[\"seller_id\"] > 75].count()"
   ]
  },
  {
   "cell_type": "code",
   "execution_count": null,
   "id": "d8339669",
   "metadata": {},
   "outputs": [],
   "source": []
  },
  {
   "cell_type": "markdown",
   "id": "c970aa13",
   "metadata": {},
   "source": [
    "#####  6. Which seller in the US sold the most in terms of value?"
   ]
  },
  {
   "cell_type": "code",
   "execution_count": 364,
   "id": "76fe4caf",
   "metadata": {},
   "outputs": [
    {
     "data": {
      "text/plain": [
       "seller_id\n",
       "pzsiehl0    20558.868517\n",
       "wd3rgi3q     9005.918599\n",
       "ys8t8gfo     5071.183152\n",
       "k4cbl88u     4913.328483\n",
       "j21w87xy     4728.388678\n",
       "                ...     \n",
       "2ylrpzdc        0.890748\n",
       "zwmoawx5        0.888742\n",
       "lm7s1mb8        0.888742\n",
       "q30kdgu9        0.888742\n",
       "vgpfz2la        0.888742\n",
       "Name: new_price, Length: 34119, dtype: float64"
      ]
     },
     "execution_count": 364,
     "metadata": {},
     "output_type": "execute_result"
    }
   ],
   "source": [
    "#pzsiehl0 --- 20558.87\n",
    "df3[df3[\"seller_country\"] == \"US\"].groupby(\"seller_id\")[\"new_price\"].sum().sort_values(ascending=False)"
   ]
  },
  {
   "cell_type": "code",
   "execution_count": null,
   "id": "c069f413",
   "metadata": {},
   "outputs": [],
   "source": []
  },
  {
   "cell_type": "markdown",
   "id": "b9532d96",
   "metadata": {},
   "source": [
    "##### 7. Which brand had the largest absolute € difference in average transaction value between domestic and international?"
   ]
  },
  {
   "cell_type": "code",
   "execution_count": 373,
   "id": "c8c8e73f",
   "metadata": {
    "scrolled": true
   },
   "outputs": [
    {
     "data": {
      "text/plain": [
       "brand\n",
       "Goyard          408.794985\n",
       "Loewe           379.657343\n",
       "Hermes          210.700192\n",
       "Canada Goose    210.228801\n",
       "Needles         198.880051\n",
       "                   ...    \n",
       "francesca's            NaN\n",
       "kensie                 NaN\n",
       "liquid blue            NaN\n",
       "mixxmix                NaN\n",
       "philosophy             NaN\n",
       "Name: new_price, Length: 1134, dtype: float64"
      ]
     },
     "execution_count": 373,
     "metadata": {},
     "output_type": "execute_result"
    }
   ],
   "source": [
    "# Goyard - 408.8\n",
    "dd = df3[df3[\"buyer_country\"] == df3[\"seller_country\"]].groupby(\"brand\")[\"new_price\"].mean()\n",
    "gg = df3[df3[\"buyer_country\"] != df3[\"seller_country\"]].groupby(\"brand\")[\"new_price\"].mean()\n",
    "abs(dd-gg).sort_values(ascending=False)"
   ]
  },
  {
   "cell_type": "code",
   "execution_count": null,
   "id": "0e7b07ea",
   "metadata": {},
   "outputs": [],
   "source": []
  }
 ],
 "metadata": {
  "kernelspec": {
   "display_name": "Python 3 (ipykernel)",
   "language": "python",
   "name": "python3"
  },
  "language_info": {
   "codemirror_mode": {
    "name": "ipython",
    "version": 3
   },
   "file_extension": ".py",
   "mimetype": "text/x-python",
   "name": "python",
   "nbconvert_exporter": "python",
   "pygments_lexer": "ipython3",
   "version": "3.9.12"
  }
 },
 "nbformat": 4,
 "nbformat_minor": 5
}
