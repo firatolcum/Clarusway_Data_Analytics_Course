{
 "cells": [
  {
   "cell_type": "code",
   "execution_count": 3,
   "id": "e43f304a",
   "metadata": {},
   "outputs": [
    {
     "name": "stdout",
     "output_type": "stream",
     "text": [
      "Backslash: \\\n"
     ]
    }
   ],
   "source": [
    "print(\"Backslash: \\\\\")"
   ]
  },
  {
   "cell_type": "code",
   "execution_count": 6,
   "id": "cc3bbc5c",
   "metadata": {},
   "outputs": [
    {
     "name": "stdout",
     "output_type": "stream",
     "text": [
      "Backslash: \\\\\n"
     ]
    }
   ],
   "source": [
    "print(r\"Backslash: \\\\\")"
   ]
  },
  {
   "cell_type": "code",
   "execution_count": 10,
   "id": "d00b6d2a",
   "metadata": {},
   "outputs": [
    {
     "data": {
      "text/plain": [
       "'78'"
      ]
     },
     "execution_count": 10,
     "metadata": {},
     "output_type": "execute_result"
    }
   ],
   "source": [
    "import re\n",
    "text = \"A78L41K\"\n",
    "num = re.search(\"78\", text)\n",
    "num.group()"
   ]
  },
  {
   "cell_type": "code",
   "execution_count": 13,
   "id": "17482b41",
   "metadata": {},
   "outputs": [
    {
     "data": {
      "text/plain": [
       "'A78'"
      ]
     },
     "execution_count": 13,
     "metadata": {},
     "output_type": "execute_result"
    }
   ],
   "source": [
    "import re\n",
    "text = \"A78L41K\"\n",
    "alpha = re.match(\"\\D\\d\\d\", text)\n",
    "alpha.group()"
   ]
  },
  {
   "cell_type": "code",
   "execution_count": 16,
   "id": "8375ecb3",
   "metadata": {},
   "outputs": [
    {
     "data": {
      "text/plain": [
       "['1', '1', '0', '1', '0', '0', '1', '0', '0', '0', '0', '0']"
      ]
     },
     "execution_count": 16,
     "metadata": {},
     "output_type": "execute_result"
    }
   ],
   "source": [
    "import re\n",
    "text = \"O 1, t 10, o 100. 100000\"\n",
    "re.findall(\"\\d{1}\", text)"
   ]
  },
  {
   "cell_type": "code",
   "execution_count": 17,
   "id": "ff0b4f91",
   "metadata": {},
   "outputs": [
    {
     "data": {
      "text/plain": [
       "['10', '10', '10', '00', '00']"
      ]
     },
     "execution_count": 17,
     "metadata": {},
     "output_type": "execute_result"
    }
   ],
   "source": [
    "re.findall(\"\\d{2}\",text)"
   ]
  },
  {
   "cell_type": "code",
   "execution_count": 18,
   "id": "c690d0f9",
   "metadata": {},
   "outputs": [
    {
     "data": {
      "text/plain": [
       "['100', '100', '000']"
      ]
     },
     "execution_count": 18,
     "metadata": {},
     "output_type": "execute_result"
    }
   ],
   "source": [
    "re.findall(\"\\d{3}\", text)"
   ]
  },
  {
   "cell_type": "code",
   "execution_count": 19,
   "id": "89bcef2c",
   "metadata": {},
   "outputs": [
    {
     "data": {
      "text/plain": [
       "['', '56', '78', '3', '49']"
      ]
     },
     "execution_count": 19,
     "metadata": {},
     "output_type": "execute_result"
    }
   ],
   "source": [
    "text = \"ab56cd78_de fg3hıi49\"\n",
    "re.split(\"\\D+\", text)"
   ]
  },
  {
   "cell_type": "code",
   "execution_count": 20,
   "id": "3a63bb89",
   "metadata": {},
   "outputs": [],
   "source": [
    "import pandas as pd\n",
    "import numpy as np\n"
   ]
  },
  {
   "cell_type": "code",
   "execution_count": 22,
   "id": "f9254950",
   "metadata": {},
   "outputs": [
    {
     "data": {
      "text/plain": [
       "0    a3aa\n",
       "1    b4aa\n",
       "2    c5aa\n",
       "dtype: object"
      ]
     },
     "execution_count": 22,
     "metadata": {},
     "output_type": "execute_result"
    }
   ],
   "source": [
    "s = pd.Series([\"a3aa\", \"b4aa\", \"c5aa\"])\n",
    "s"
   ]
  },
  {
   "cell_type": "code",
   "execution_count": 23,
   "id": "6243766f",
   "metadata": {},
   "outputs": [
    {
     "data": {
      "text/plain": [
       "0    3\n",
       "1    2\n",
       "2    2\n",
       "dtype: int64"
      ]
     },
     "execution_count": 23,
     "metadata": {},
     "output_type": "execute_result"
    }
   ],
   "source": [
    "s.str.count(\"a\")"
   ]
  },
  {
   "cell_type": "code",
   "execution_count": 24,
   "id": "0df9160c",
   "metadata": {},
   "outputs": [
    {
     "data": {
      "text/plain": [
       "0    a3aa\n",
       "1    b4aa\n",
       "2    c5aa\n",
       "dtype: object"
      ]
     },
     "execution_count": 24,
     "metadata": {},
     "output_type": "execute_result"
    }
   ],
   "source": [
    "s"
   ]
  },
  {
   "cell_type": "code",
   "execution_count": 25,
   "id": "b23adbae",
   "metadata": {},
   "outputs": [
    {
     "data": {
      "text/plain": [
       "0    aRaa\n",
       "1    bRaa\n",
       "2    cRaa\n",
       "dtype: object"
      ]
     },
     "execution_count": 25,
     "metadata": {},
     "output_type": "execute_result"
    }
   ],
   "source": [
    "s.str.replace(\"\\d\", \"R\", regex=True)"
   ]
  },
  {
   "cell_type": "code",
   "execution_count": 26,
   "id": "9b3520e8",
   "metadata": {},
   "outputs": [
    {
     "data": {
      "text/plain": [
       "0    a3aa\n",
       "1    b4aa\n",
       "2    c5aa\n",
       "dtype: object"
      ]
     },
     "execution_count": 26,
     "metadata": {},
     "output_type": "execute_result"
    }
   ],
   "source": [
    "s"
   ]
  },
  {
   "cell_type": "code",
   "execution_count": 27,
   "id": "59c57168",
   "metadata": {},
   "outputs": [
    {
     "data": {
      "text/plain": [
       "0    False\n",
       "1     True\n",
       "2    False\n",
       "dtype: bool"
      ]
     },
     "execution_count": 27,
     "metadata": {},
     "output_type": "execute_result"
    }
   ],
   "source": [
    "s.str.contains(\"b\")"
   ]
  },
  {
   "cell_type": "code",
   "execution_count": 28,
   "id": "50739a5a",
   "metadata": {},
   "outputs": [
    {
     "data": {
      "text/plain": [
       "1    b4aa\n",
       "dtype: object"
      ]
     },
     "execution_count": 28,
     "metadata": {},
     "output_type": "execute_result"
    }
   ],
   "source": [
    "s.loc[s.str.contains(\"b\")]"
   ]
  },
  {
   "cell_type": "code",
   "execution_count": 29,
   "id": "d911e534",
   "metadata": {},
   "outputs": [
    {
     "data": {
      "text/plain": [
       "0    a3a8a\n",
       "1    b4a7a\n",
       "2    c5a6a\n",
       "dtype: object"
      ]
     },
     "execution_count": 29,
     "metadata": {},
     "output_type": "execute_result"
    }
   ],
   "source": [
    "s = pd.Series([\"a3a8a\", \"b4a7a\", \"c5a6a\"])\n",
    "s"
   ]
  },
  {
   "cell_type": "code",
   "execution_count": 30,
   "id": "a48485a5",
   "metadata": {},
   "outputs": [
    {
     "data": {
      "text/plain": [
       "0    [3, 8]\n",
       "1    [4, 7]\n",
       "2    [5, 6]\n",
       "dtype: object"
      ]
     },
     "execution_count": 30,
     "metadata": {},
     "output_type": "execute_result"
    }
   ],
   "source": [
    "s.str.findall(\"\\d\")"
   ]
  },
  {
   "cell_type": "code",
   "execution_count": 33,
   "id": "37fc77e4",
   "metadata": {},
   "outputs": [
    {
     "data": {
      "text/plain": [
       "0    &a3a8a\n",
       "1    b4a&7a\n",
       "2     c5a6a\n",
       "dtype: object"
      ]
     },
     "execution_count": 33,
     "metadata": {},
     "output_type": "execute_result"
    }
   ],
   "source": [
    "s = pd.Series([\"&a3a8a\", \"b4a&7a\", \"c5a6a\"])\n",
    "s"
   ]
  },
  {
   "cell_type": "code",
   "execution_count": 34,
   "id": "4976aa03",
   "metadata": {},
   "outputs": [
    {
     "data": {
      "text/plain": [
       "0     True\n",
       "1    False\n",
       "2    False\n",
       "dtype: bool"
      ]
     },
     "execution_count": 34,
     "metadata": {},
     "output_type": "execute_result"
    }
   ],
   "source": [
    "s.str.match(\"&\")"
   ]
  },
  {
   "cell_type": "code",
   "execution_count": 35,
   "id": "73308539",
   "metadata": {},
   "outputs": [
    {
     "data": {
      "text/plain": [
       "0    &a3a8a\n",
       "1    b4a&7a\n",
       "2     c5a6a\n",
       "dtype: object"
      ]
     },
     "execution_count": 35,
     "metadata": {},
     "output_type": "execute_result"
    }
   ],
   "source": [
    "s = pd.Series([\"&a3a8a\", \"b4a&7a\", \"c5a6a\"])\n",
    "s"
   ]
  },
  {
   "cell_type": "code",
   "execution_count": 36,
   "id": "0f85cce4",
   "metadata": {},
   "outputs": [
    {
     "data": {
      "text/plain": [
       "0    [, a3a8a]\n",
       "1    [b4a, 7a]\n",
       "2      [c5a6a]\n",
       "dtype: object"
      ]
     },
     "execution_count": 36,
     "metadata": {},
     "output_type": "execute_result"
    }
   ],
   "source": [
    "s.str.split(\"&\")"
   ]
  },
  {
   "cell_type": "code",
   "execution_count": 43,
   "id": "02a9f912",
   "metadata": {},
   "outputs": [],
   "source": [
    "s = pd.Series([\"&a3a+?8a\", \"b4a&+^7a\", \"_c5a6a\"])"
   ]
  },
  {
   "cell_type": "code",
   "execution_count": 42,
   "id": "a5ebd09f",
   "metadata": {},
   "outputs": [
    {
     "data": {
      "text/html": [
       "<div>\n",
       "<style scoped>\n",
       "    .dataframe tbody tr th:only-of-type {\n",
       "        vertical-align: middle;\n",
       "    }\n",
       "\n",
       "    .dataframe tbody tr th {\n",
       "        vertical-align: top;\n",
       "    }\n",
       "\n",
       "    .dataframe thead th {\n",
       "        text-align: right;\n",
       "    }\n",
       "</style>\n",
       "<table border=\"1\" class=\"dataframe\">\n",
       "  <thead>\n",
       "    <tr style=\"text-align: right;\">\n",
       "      <th></th>\n",
       "      <th>0</th>\n",
       "    </tr>\n",
       "  </thead>\n",
       "  <tbody>\n",
       "    <tr>\n",
       "      <th>0</th>\n",
       "      <td>a3a</td>\n",
       "    </tr>\n",
       "    <tr>\n",
       "      <th>1</th>\n",
       "      <td>b4a</td>\n",
       "    </tr>\n",
       "    <tr>\n",
       "      <th>2</th>\n",
       "      <td>_c5a6a</td>\n",
       "    </tr>\n",
       "  </tbody>\n",
       "</table>\n",
       "</div>"
      ],
      "text/plain": [
       "        0\n",
       "0     a3a\n",
       "1     b4a\n",
       "2  _c5a6a"
      ]
     },
     "execution_count": 42,
     "metadata": {},
     "output_type": "execute_result"
    }
   ],
   "source": [
    "s.str.extract(\"(\\w+)\")"
   ]
  },
  {
   "cell_type": "code",
   "execution_count": 1,
   "id": "dd562384",
   "metadata": {},
   "outputs": [],
   "source": [
    "import numpy as np\n",
    "import pandas as pd\n",
    "import re"
   ]
  },
  {
   "cell_type": "code",
   "execution_count": 7,
   "id": "f3a8fd38",
   "metadata": {},
   "outputs": [
    {
     "data": {
      "text/plain": [
       "<re.Match object; span=(0, 1), match='d'>"
      ]
     },
     "execution_count": 7,
     "metadata": {},
     "output_type": "execute_result"
    }
   ],
   "source": [
    "pattern = re.compile(\"d\")\n",
    "pattern.search(\"dog\")"
   ]
  },
  {
   "cell_type": "code",
   "execution_count": 10,
   "id": "5638cba6",
   "metadata": {},
   "outputs": [
    {
     "data": {
      "text/plain": [
       "<re.Match object; span=(1, 2), match='o'>"
      ]
     },
     "execution_count": 10,
     "metadata": {},
     "output_type": "execute_result"
    }
   ],
   "source": [
    "pattern = re.compile(\"o\")\n",
    "pattern.match(\"dog\", 1)"
   ]
  },
  {
   "cell_type": "code",
   "execution_count": 11,
   "id": "ca08e12c",
   "metadata": {},
   "outputs": [
    {
     "data": {
      "text/plain": [
       "<re.Match object; span=(1, 3), match='og'>"
      ]
     },
     "execution_count": 11,
     "metadata": {},
     "output_type": "execute_result"
    }
   ],
   "source": [
    "pattern = re.compile(\"og\")\n",
    "pattern.match(\"dog\", 1)"
   ]
  },
  {
   "cell_type": "code",
   "execution_count": 15,
   "id": "55a3a8d5",
   "metadata": {},
   "outputs": [
    {
     "data": {
      "text/plain": [
       "<re.Match object; span=(1, 3), match='og'>"
      ]
     },
     "execution_count": 15,
     "metadata": {},
     "output_type": "execute_result"
    }
   ],
   "source": [
    "pattern = re.compile(\"o[gh]\")\n",
    "pattern.fullmatch(\"dog\")\n",
    "pattern.fullmatch(\"ogre\")\n",
    "pattern.fullmatch(\"doggie\", 1, 3)"
   ]
  },
  {
   "cell_type": "code",
   "execution_count": 24,
   "id": "0c97a5b2",
   "metadata": {},
   "outputs": [
    {
     "data": {
      "text/plain": [
       "'Isaac Newton'"
      ]
     },
     "execution_count": 24,
     "metadata": {},
     "output_type": "execute_result"
    }
   ],
   "source": [
    "m = re.match(r\"(\\w+) (\\w+)\", \"Isaac Newton physicist\")\n",
    "m.group()"
   ]
  },
  {
   "cell_type": "code",
   "execution_count": 31,
   "id": "8c61ae6e",
   "metadata": {},
   "outputs": [
    {
     "data": {
      "text/plain": [
       "'Isaac'"
      ]
     },
     "execution_count": 31,
     "metadata": {},
     "output_type": "execute_result"
    }
   ],
   "source": [
    "m[1]"
   ]
  },
  {
   "cell_type": "code",
   "execution_count": 25,
   "id": "779fe132",
   "metadata": {},
   "outputs": [
    {
     "data": {
      "text/plain": [
       "('Isaac', 'Newton')"
      ]
     },
     "execution_count": 25,
     "metadata": {},
     "output_type": "execute_result"
    }
   ],
   "source": [
    "m.group(1, 2)"
   ]
  },
  {
   "cell_type": "code",
   "execution_count": 27,
   "id": "f9272b9b",
   "metadata": {},
   "outputs": [
    {
     "data": {
      "text/plain": [
       "'Isaac Newton'"
      ]
     },
     "execution_count": 27,
     "metadata": {},
     "output_type": "execute_result"
    }
   ],
   "source": [
    "m = re.match(r\"(\\w+) (\\w+)\", \"Isaac Newton, physicist\")\n",
    "m[0]"
   ]
  },
  {
   "cell_type": "code",
   "execution_count": 28,
   "id": "4e89542a",
   "metadata": {},
   "outputs": [
    {
     "data": {
      "text/plain": [
       "'Isaac'"
      ]
     },
     "execution_count": 28,
     "metadata": {},
     "output_type": "execute_result"
    }
   ],
   "source": [
    "m[1]"
   ]
  },
  {
   "cell_type": "code",
   "execution_count": 53,
   "id": "19ed064f",
   "metadata": {},
   "outputs": [
    {
     "data": {
      "text/plain": [
       "('24', '1632')"
      ]
     },
     "execution_count": 53,
     "metadata": {},
     "output_type": "execute_result"
    }
   ],
   "source": [
    "m = re.match(\"(\\d+)\\.(\\d+)\", \"24.1632\")\n",
    "m.groups()"
   ]
  },
  {
   "cell_type": "code",
   "execution_count": 54,
   "id": "5a698bbb",
   "metadata": {},
   "outputs": [
    {
     "data": {
      "text/plain": [
       "'24.1632'"
      ]
     },
     "execution_count": 54,
     "metadata": {},
     "output_type": "execute_result"
    }
   ],
   "source": [
    "m[0]"
   ]
  },
  {
   "cell_type": "code",
   "execution_count": 55,
   "id": "59daf741",
   "metadata": {},
   "outputs": [
    {
     "data": {
      "text/plain": [
       "'24'"
      ]
     },
     "execution_count": 55,
     "metadata": {},
     "output_type": "execute_result"
    }
   ],
   "source": [
    "m[1]"
   ]
  },
  {
   "cell_type": "code",
   "execution_count": 56,
   "id": "9f2fd609",
   "metadata": {},
   "outputs": [
    {
     "data": {
      "text/plain": [
       "'24.1632'"
      ]
     },
     "execution_count": 56,
     "metadata": {},
     "output_type": "execute_result"
    }
   ],
   "source": [
    "m.group()"
   ]
  },
  {
   "cell_type": "code",
   "execution_count": 60,
   "id": "b27dbf43",
   "metadata": {},
   "outputs": [
    {
     "data": {
      "text/plain": [
       "('2', '4')"
      ]
     },
     "execution_count": 60,
     "metadata": {},
     "output_type": "execute_result"
    }
   ],
   "source": [
    "m = re.match(\"(\\d+)\\.?(\\d+)\", \"24\")\n",
    "m.groups()"
   ]
  },
  {
   "cell_type": "code",
   "execution_count": 64,
   "id": "90e3492b",
   "metadata": {},
   "outputs": [
    {
     "data": {
      "text/plain": [
       "'remove_this'"
      ]
     },
     "execution_count": 64,
     "metadata": {},
     "output_type": "execute_result"
    }
   ],
   "source": [
    "email = \"tony@tiremove_thisger.net\"\n",
    "m = re.search(\"remove_this\", email)\n",
    "m.group()"
   ]
  },
  {
   "cell_type": "code",
   "execution_count": 68,
   "id": "96061eb1",
   "metadata": {},
   "outputs": [
    {
     "data": {
      "text/plain": [
       "'remove_this'"
      ]
     },
     "execution_count": 68,
     "metadata": {},
     "output_type": "execute_result"
    }
   ],
   "source": [
    "m[0]"
   ]
  },
  {
   "cell_type": "code",
   "execution_count": 74,
   "id": "d26eea19",
   "metadata": {},
   "outputs": [
    {
     "data": {
      "text/plain": [
       "'Ross McFluff: 834.345.1254 155 Elm Street\\nRonald Heathmore: 892.345.3428 436 Finley Avenue\\nFrank Burger: 925.541.7625 662 South Dogwood Way\\nHeather Albrecht: 548.326.4584 919 Park Place'"
      ]
     },
     "execution_count": 74,
     "metadata": {},
     "output_type": "execute_result"
    }
   ],
   "source": [
    "text = \"\"\"Ross McFluff: 834.345.1254 155 Elm Street\n",
    "Ronald Heathmore: 892.345.3428 436 Finley Avenue\n",
    "Frank Burger: 925.541.7625 662 South Dogwood Way\n",
    "Heather Albrecht: 548.326.4584 919 Park Place\"\"\"\n",
    "text"
   ]
  },
  {
   "cell_type": "code",
   "execution_count": 77,
   "id": "762bbe22",
   "metadata": {},
   "outputs": [
    {
     "data": {
      "text/plain": [
       "['Ross McFluff: 834.345.1254 155 Elm Street',\n",
       " 'Ronald Heathmore: 892.345.3428 436 Finley Avenue',\n",
       " 'Frank Burger: 925.541.7625 662 South Dogwood Way',\n",
       " 'Heather Albrecht: 548.326.4584 919 Park Place']"
      ]
     },
     "execution_count": 77,
     "metadata": {},
     "output_type": "execute_result"
    }
   ],
   "source": [
    "entries = re.split(\"\\n\", text)\n",
    "entries"
   ]
  },
  {
   "cell_type": "code",
   "execution_count": 87,
   "id": "e2570eab",
   "metadata": {},
   "outputs": [
    {
     "data": {
      "text/plain": [
       "[['', 'R', 'o', 's', 's McFluff: 834.345.1254 155 Elm Street'],\n",
       " ['', 'R', 'o', 'n', 'ald Heathmore: 892.345.3428 436 Finley Avenue'],\n",
       " ['', 'F', 'r', 'a', 'nk Burger: 925.541.7625 662 South Dogwood Way'],\n",
       " ['', 'H', 'e', 'a', 'ther Albrecht: 548.326.4584 919 Park Place']]"
      ]
     },
     "execution_count": 87,
     "metadata": {},
     "output_type": "execute_result"
    }
   ],
   "source": [
    "[re.split(\":?\", entry, 4) for entry in entries]"
   ]
  },
  {
   "cell_type": "code",
   "execution_count": 95,
   "id": "2ea59ce7",
   "metadata": {},
   "outputs": [
    {
     "data": {
      "text/plain": [
       "['carefully', 'quickly']"
      ]
     },
     "execution_count": 95,
     "metadata": {},
     "output_type": "execute_result"
    }
   ],
   "source": [
    "text = \"He was carefully disguised but captured quickly by police.\"\n",
    "re.findall(\"\\w+ly\", text)"
   ]
  },
  {
   "cell_type": "code",
   "execution_count": 93,
   "id": "a399c30c",
   "metadata": {},
   "outputs": [
    {
     "data": {
      "text/plain": [
       "['carefully', 'quickly']"
      ]
     },
     "execution_count": 93,
     "metadata": {},
     "output_type": "execute_result"
    }
   ],
   "source": [
    "text = \"He was carefully disguised but captured quickly by police.\"\n",
    "re.findall(r\"\\w+ly\\b\", text)"
   ]
  },
  {
   "cell_type": "code",
   "execution_count": 120,
   "id": "42cd0d37",
   "metadata": {},
   "outputs": [
    {
     "data": {
      "text/plain": [
       "'Cats are smarter than dogs'"
      ]
     },
     "execution_count": 120,
     "metadata": {},
     "output_type": "execute_result"
    }
   ],
   "source": [
    "line = \"Cats are smarter than dogs\"\n",
    "m = re.match(\"(.*) are (.*?) .*\", line)\n",
    "m.group()"
   ]
  },
  {
   "cell_type": "code",
   "execution_count": 117,
   "id": "d4bb5748",
   "metadata": {},
   "outputs": [
    {
     "data": {
      "text/plain": [
       "'Cats'"
      ]
     },
     "execution_count": 117,
     "metadata": {},
     "output_type": "execute_result"
    }
   ],
   "source": [
    "m.group(1)"
   ]
  },
  {
   "cell_type": "code",
   "execution_count": 121,
   "id": "b5e07782",
   "metadata": {},
   "outputs": [
    {
     "data": {
      "text/plain": [
       "'smarter'"
      ]
     },
     "execution_count": 121,
     "metadata": {},
     "output_type": "execute_result"
    }
   ],
   "source": [
    "m.group(2)"
   ]
  },
  {
   "cell_type": "code",
   "execution_count": 123,
   "id": "3903c814",
   "metadata": {},
   "outputs": [
    {
     "data": {
      "text/plain": [
       "'Cats are smarter than dogs'"
      ]
     },
     "execution_count": 123,
     "metadata": {},
     "output_type": "execute_result"
    }
   ],
   "source": [
    "m = re.search(\"(.*) are (.*?) .*\", line)\n",
    "m.group()"
   ]
  },
  {
   "cell_type": "code",
   "execution_count": 124,
   "id": "21e4003a",
   "metadata": {},
   "outputs": [
    {
     "data": {
      "text/plain": [
       "'Cats'"
      ]
     },
     "execution_count": 124,
     "metadata": {},
     "output_type": "execute_result"
    }
   ],
   "source": [
    "m.group(1)"
   ]
  },
  {
   "cell_type": "code",
   "execution_count": 125,
   "id": "01cac0aa",
   "metadata": {},
   "outputs": [
    {
     "data": {
      "text/plain": [
       "'smarter'"
      ]
     },
     "execution_count": 125,
     "metadata": {},
     "output_type": "execute_result"
    }
   ],
   "source": [
    "m.group(2)"
   ]
  },
  {
   "cell_type": "code",
   "execution_count": 128,
   "id": "076e9366",
   "metadata": {},
   "outputs": [
    {
     "ename": "AttributeError",
     "evalue": "'NoneType' object has no attribute 'group'",
     "output_type": "error",
     "traceback": [
      "\u001b[1;31m---------------------------------------------------------------------------\u001b[0m",
      "\u001b[1;31mAttributeError\u001b[0m                            Traceback (most recent call last)",
      "Input \u001b[1;32mIn [128]\u001b[0m, in \u001b[0;36m<cell line: 2>\u001b[1;34m()\u001b[0m\n\u001b[0;32m      1\u001b[0m m \u001b[38;5;241m=\u001b[39m re\u001b[38;5;241m.\u001b[39mmatch(\u001b[38;5;124mr\u001b[39m\u001b[38;5;124m\"\u001b[39m\u001b[38;5;124mdogs\u001b[39m\u001b[38;5;124m\"\u001b[39m, line)\n\u001b[1;32m----> 2\u001b[0m \u001b[43mm\u001b[49m\u001b[38;5;241;43m.\u001b[39;49m\u001b[43mgroup\u001b[49m()\n",
      "\u001b[1;31mAttributeError\u001b[0m: 'NoneType' object has no attribute 'group'"
     ]
    }
   ],
   "source": [
    "m = re.match(r\"dogs\", line)\n",
    "m.group()"
   ]
  },
  {
   "cell_type": "code",
   "execution_count": 129,
   "id": "d50afea5",
   "metadata": {},
   "outputs": [
    {
     "data": {
      "text/plain": [
       "'dogs'"
      ]
     },
     "execution_count": 129,
     "metadata": {},
     "output_type": "execute_result"
    }
   ],
   "source": [
    "m = re.search(r\"dogs\", line)\n",
    "m.group()"
   ]
  },
  {
   "cell_type": "code",
   "execution_count": 139,
   "id": "e9b76b54",
   "metadata": {},
   "outputs": [
    {
     "data": {
      "text/plain": [
       "'2004.959.559'"
      ]
     },
     "execution_count": 139,
     "metadata": {},
     "output_type": "execute_result"
    }
   ],
   "source": [
    "import re\n",
    "phone = \"2004-959-559\"\n",
    "num = re.sub(r\"\\D\", \".\", phone)\n",
    "num"
   ]
  },
  {
   "cell_type": "code",
   "execution_count": 147,
   "id": "273a55cf",
   "metadata": {},
   "outputs": [],
   "source": [
    "import re\n",
    "txt = \"The rain in Spain\"\n",
    "\n"
   ]
  },
  {
   "cell_type": "code",
   "execution_count": 149,
   "id": "dfde0b6b",
   "metadata": {},
   "outputs": [
    {
     "data": {
      "text/plain": [
       "'The rain in Spain'"
      ]
     },
     "execution_count": 149,
     "metadata": {},
     "output_type": "execute_result"
    }
   ],
   "source": [
    "x = re.search(\"^The.*Spain$\", txt)\n",
    "x.group()"
   ]
  },
  {
   "cell_type": "code",
   "execution_count": 152,
   "id": "dea72ca2",
   "metadata": {},
   "outputs": [
    {
     "data": {
      "text/plain": [
       "['h', 'e', 'a', 'i', 'i', 'a', 'i']"
      ]
     },
     "execution_count": 152,
     "metadata": {},
     "output_type": "execute_result"
    }
   ],
   "source": [
    "x = re.findall(\"[a-m]\",txt)\n",
    "x"
   ]
  },
  {
   "cell_type": "code",
   "execution_count": 154,
   "id": "7030b11d",
   "metadata": {},
   "outputs": [
    {
     "data": {
      "text/plain": [
       "[]"
      ]
     },
     "execution_count": 154,
     "metadata": {},
     "output_type": "execute_result"
    }
   ],
   "source": [
    "x = re.findall(\"\\d\", txt)\n",
    "x"
   ]
  },
  {
   "cell_type": "code",
   "execution_count": 163,
   "id": "da61260e",
   "metadata": {},
   "outputs": [
    {
     "data": {
      "text/plain": [
       "[('The', 'rain'), ('in', 'Spain')]"
      ]
     },
     "execution_count": 163,
     "metadata": {},
     "output_type": "execute_result"
    }
   ],
   "source": [
    "x = re.findall(\"(\\w+)\\s(\\w+)\", txt)\n",
    "x"
   ]
  },
  {
   "cell_type": "code",
   "execution_count": 164,
   "id": "11551cf4",
   "metadata": {},
   "outputs": [
    {
     "data": {
      "text/plain": [
       "('in', 'Spain')"
      ]
     },
     "execution_count": 164,
     "metadata": {},
     "output_type": "execute_result"
    }
   ],
   "source": [
    "x[1]"
   ]
  },
  {
   "cell_type": "code",
   "execution_count": 167,
   "id": "3f3df5b5",
   "metadata": {},
   "outputs": [
    {
     "data": {
      "text/plain": [
       "'Spain'"
      ]
     },
     "execution_count": 167,
     "metadata": {},
     "output_type": "execute_result"
    }
   ],
   "source": [
    "x[1][1]"
   ]
  },
  {
   "cell_type": "code",
   "execution_count": 175,
   "id": "bb1b4a75",
   "metadata": {},
   "outputs": [
    {
     "data": {
      "text/plain": [
       "('The', 'rain')"
      ]
     },
     "execution_count": 175,
     "metadata": {},
     "output_type": "execute_result"
    }
   ],
   "source": [
    "x[0]"
   ]
  },
  {
   "cell_type": "code",
   "execution_count": 176,
   "id": "120f1023",
   "metadata": {},
   "outputs": [
    {
     "data": {
      "text/plain": [
       "tuple"
      ]
     },
     "execution_count": 176,
     "metadata": {},
     "output_type": "execute_result"
    }
   ],
   "source": [
    "type(x[0])"
   ]
  },
  {
   "cell_type": "code",
   "execution_count": 183,
   "id": "6a5d902b",
   "metadata": {},
   "outputs": [
    {
     "data": {
      "text/plain": [
       "['hello']"
      ]
     },
     "execution_count": 183,
     "metadata": {},
     "output_type": "execute_result"
    }
   ],
   "source": [
    "txt = \"hello planet heo\"\n",
    "x = re.findall(\"he..o\",txt)\n",
    "x"
   ]
  },
  {
   "cell_type": "code",
   "execution_count": 189,
   "id": "ba29e0de",
   "metadata": {},
   "outputs": [
    {
     "data": {
      "text/plain": [
       "['hello']"
      ]
     },
     "execution_count": 189,
     "metadata": {},
     "output_type": "execute_result"
    }
   ],
   "source": [
    "txt = \"hello planet\"\n",
    "x = re.findall(\"hello\",txt)\n",
    "x"
   ]
  },
  {
   "cell_type": "code",
   "execution_count": 190,
   "id": "2ac7d7f5",
   "metadata": {},
   "outputs": [
    {
     "data": {
      "text/plain": [
       "['planet']"
      ]
     },
     "execution_count": 190,
     "metadata": {},
     "output_type": "execute_result"
    }
   ],
   "source": [
    "txt = \"hello planet\"\n",
    "x = re.findall(\"planet$\", txt)\n",
    "x"
   ]
  },
  {
   "cell_type": "code",
   "execution_count": 194,
   "id": "203f6c57",
   "metadata": {},
   "outputs": [
    {
     "data": {
      "text/plain": [
       "['hello']"
      ]
     },
     "execution_count": 194,
     "metadata": {},
     "output_type": "execute_result"
    }
   ],
   "source": [
    "txt = \"hello planet\"\n",
    "x = re.findall(\"^hello\", txt)\n",
    "x"
   ]
  },
  {
   "cell_type": "code",
   "execution_count": 196,
   "id": "a7053ce5",
   "metadata": {},
   "outputs": [
    {
     "data": {
      "text/plain": [
       "['hello', 'heo', 'hellllo']"
      ]
     },
     "execution_count": 196,
     "metadata": {},
     "output_type": "execute_result"
    }
   ],
   "source": [
    "txt = \"hello planet heo and hellllo\"\n",
    "x = re.findall(\"hel*o\",txt)\n",
    "x"
   ]
  },
  {
   "cell_type": "code",
   "execution_count": 202,
   "id": "1cd05a14",
   "metadata": {},
   "outputs": [
    {
     "data": {
      "text/plain": [
       "['hello']"
      ]
     },
     "execution_count": 202,
     "metadata": {},
     "output_type": "execute_result"
    }
   ],
   "source": [
    "txt = \"hello planet\"\n",
    "x = re.findall(\"he.*o\", txt)\n",
    "x"
   ]
  },
  {
   "cell_type": "code",
   "execution_count": 206,
   "id": "fcabae53",
   "metadata": {},
   "outputs": [
    {
     "data": {
      "text/plain": [
       "['helllo']"
      ]
     },
     "execution_count": 206,
     "metadata": {},
     "output_type": "execute_result"
    }
   ],
   "source": [
    "txt = \"helllo\"\n",
    "x = re.findall(\"he.+\",txt)\n",
    "x"
   ]
  },
  {
   "cell_type": "code",
   "execution_count": 211,
   "id": "cfdbda34",
   "metadata": {},
   "outputs": [
    {
     "data": {
      "text/plain": [
       "['hello']"
      ]
     },
     "execution_count": 211,
     "metadata": {},
     "output_type": "execute_result"
    }
   ],
   "source": [
    "txt = \"hello planet\"\n",
    "x = re.findall(\"he..?o\", txt)\n",
    "x"
   ]
  },
  {
   "cell_type": "code",
   "execution_count": 212,
   "id": "17301a6f",
   "metadata": {},
   "outputs": [
    {
     "name": "stdout",
     "output_type": "stream",
     "text": [
      "This is backslash: \\ and a new line: \\n\n"
     ]
    }
   ],
   "source": [
    "print(r\"This is backslash: \\ and a new line: \\n\")"
   ]
  },
  {
   "cell_type": "code",
   "execution_count": 213,
   "id": "cd5381d5",
   "metadata": {},
   "outputs": [
    {
     "name": "stdout",
     "output_type": "stream",
     "text": [
      "This is backslash: \\ and a new line: \n",
      "\n"
     ]
    }
   ],
   "source": [
    "print(\"This is backslash: \\ and a new line: \\n\")"
   ]
  },
  {
   "cell_type": "code",
   "execution_count": 224,
   "id": "dd40968c",
   "metadata": {},
   "outputs": [
    {
     "name": "stdout",
     "output_type": "stream",
     "text": [
      "Hello\n",
      "World\n"
     ]
    }
   ],
   "source": [
    "my_string = \"Hello\\nWorld\"\n",
    "print(my_string)"
   ]
  },
  {
   "cell_type": "code",
   "execution_count": 222,
   "id": "d7ccec0d",
   "metadata": {},
   "outputs": [
    {
     "name": "stdout",
     "output_type": "stream",
     "text": [
      "Hello\\nWorld\n"
     ]
    }
   ],
   "source": [
    "my_string = r\"Hello\\nWorld\"\n",
    "print(my_string)"
   ]
  },
  {
   "cell_type": "code",
   "execution_count": 226,
   "id": "6b634129",
   "metadata": {},
   "outputs": [
    {
     "name": "stdout",
     "output_type": "stream",
     "text": [
      "xyz\\\\\n"
     ]
    }
   ],
   "source": [
    "raw_str_tree = r\"xyz\\\\\"\n",
    "print(raw_str_tree)"
   ]
  },
  {
   "cell_type": "code",
   "execution_count": 228,
   "id": "9cb48b5e",
   "metadata": {},
   "outputs": [
    {
     "name": "stdout",
     "output_type": "stream",
     "text": [
      "re.compile('[Ee](\\\\+|-)?[0-9]+')\n"
     ]
    }
   ],
   "source": [
    "p = re.compile(r'[Ee](\\+|-)?[0-9]+')\n",
    "print(p)"
   ]
  },
  {
   "cell_type": "code",
   "execution_count": 229,
   "id": "b9451a83",
   "metadata": {},
   "outputs": [
    {
     "data": {
      "text/plain": [
       "['A',\n",
       " 'ASCII',\n",
       " 'DEBUG',\n",
       " 'DOTALL',\n",
       " 'I',\n",
       " 'IGNORECASE',\n",
       " 'L',\n",
       " 'LOCALE',\n",
       " 'M',\n",
       " 'MULTILINE',\n",
       " 'Match',\n",
       " 'Pattern',\n",
       " 'RegexFlag',\n",
       " 'S',\n",
       " 'Scanner',\n",
       " 'T',\n",
       " 'TEMPLATE',\n",
       " 'U',\n",
       " 'UNICODE',\n",
       " 'VERBOSE',\n",
       " 'X',\n",
       " '_MAXCACHE',\n",
       " '__all__',\n",
       " '__builtins__',\n",
       " '__cached__',\n",
       " '__doc__',\n",
       " '__file__',\n",
       " '__loader__',\n",
       " '__name__',\n",
       " '__package__',\n",
       " '__spec__',\n",
       " '__version__',\n",
       " '_cache',\n",
       " '_compile',\n",
       " '_compile_repl',\n",
       " '_expand',\n",
       " '_locale',\n",
       " '_pickle',\n",
       " '_special_chars_map',\n",
       " '_subx',\n",
       " 'compile',\n",
       " 'copyreg',\n",
       " 'enum',\n",
       " 'error',\n",
       " 'escape',\n",
       " 'findall',\n",
       " 'finditer',\n",
       " 'fullmatch',\n",
       " 'functools',\n",
       " 'match',\n",
       " 'purge',\n",
       " 'search',\n",
       " 'split',\n",
       " 'sre_compile',\n",
       " 'sre_parse',\n",
       " 'sub',\n",
       " 'subn',\n",
       " 'template']"
      ]
     },
     "execution_count": 229,
     "metadata": {},
     "output_type": "execute_result"
    }
   ],
   "source": [
    "dir(re)"
   ]
  },
  {
   "cell_type": "code",
   "execution_count": 230,
   "id": "20ade9c8",
   "metadata": {},
   "outputs": [
    {
     "name": "stdout",
     "output_type": "stream",
     "text": [
      "Help on function match in module re:\n",
      "\n",
      "match(pattern, string, flags=0)\n",
      "    Try to apply the pattern at the start of the string, returning\n",
      "    a Match object, or None if no match was found.\n",
      "\n"
     ]
    }
   ],
   "source": [
    "help(re.match)"
   ]
  },
  {
   "cell_type": "code",
   "execution_count": null,
   "id": "a8c64cdf",
   "metadata": {},
   "outputs": [],
   "source": [
    "re.search()"
   ]
  },
  {
   "cell_type": "code",
   "execution_count": 231,
   "id": "250e8a0e",
   "metadata": {},
   "outputs": [
    {
     "data": {
      "text/plain": [
       "['y', 't', 'h', 'o', 'n', 'i', 's', 'a', 'w', 'e', 's', 'o', 'm', 'e']"
      ]
     },
     "execution_count": 231,
     "metadata": {},
     "output_type": "execute_result"
    }
   ],
   "source": [
    "s = \"Python is awesome\"\n",
    "re.findall(\"[a-z]\", s)"
   ]
  },
  {
   "cell_type": "code",
   "execution_count": 233,
   "id": "80190196",
   "metadata": {},
   "outputs": [
    {
     "data": {
      "text/plain": [
       "17"
      ]
     },
     "execution_count": 233,
     "metadata": {},
     "output_type": "execute_result"
    }
   ],
   "source": [
    "len(s)"
   ]
  },
  {
   "cell_type": "code",
   "execution_count": 234,
   "id": "5ae9661a",
   "metadata": {},
   "outputs": [
    {
     "data": {
      "text/plain": [
       "14"
      ]
     },
     "execution_count": 234,
     "metadata": {},
     "output_type": "execute_result"
    }
   ],
   "source": [
    "len(re.findall(\"[a-z]\",s))"
   ]
  },
  {
   "cell_type": "code",
   "execution_count": 235,
   "id": "b9d419dc",
   "metadata": {},
   "outputs": [
    {
     "data": {
      "text/plain": [
       "['P', 'y', 't', 'h', 'o', 'n', 'i', 's', 'a', 'w', 'e', 's', 'o', 'm', 'e']"
      ]
     },
     "execution_count": 235,
     "metadata": {},
     "output_type": "execute_result"
    }
   ],
   "source": [
    "re.findall(\"[a-z]\", s, re.I)"
   ]
  },
  {
   "cell_type": "code",
   "execution_count": 236,
   "id": "26bfceee",
   "metadata": {},
   "outputs": [],
   "source": [
    "s = \"\"\"Regex\n",
    "Flags\"\"\""
   ]
  },
  {
   "cell_type": "code",
   "execution_count": 239,
   "id": "9942fb72",
   "metadata": {},
   "outputs": [
    {
     "data": {
      "text/plain": [
       "['Regex']"
      ]
     },
     "execution_count": 239,
     "metadata": {},
     "output_type": "execute_result"
    }
   ],
   "source": [
    "re.findall(\"^\\w+\", s)"
   ]
  },
  {
   "cell_type": "code",
   "execution_count": 240,
   "id": "2ef7611e",
   "metadata": {},
   "outputs": [
    {
     "data": {
      "text/plain": [
       "['Regex', 'Flags']"
      ]
     },
     "execution_count": 240,
     "metadata": {},
     "output_type": "execute_result"
    }
   ],
   "source": [
    "re.findall(\"\\w+\", s)"
   ]
  },
  {
   "cell_type": "code",
   "execution_count": 241,
   "id": "103d168b",
   "metadata": {},
   "outputs": [
    {
     "data": {
      "text/plain": [
       "['Flags']"
      ]
     },
     "execution_count": 241,
     "metadata": {},
     "output_type": "execute_result"
    }
   ],
   "source": [
    "re.findall(\"\\w+$\", s)"
   ]
  },
  {
   "cell_type": "code",
   "execution_count": 243,
   "id": "a1539870",
   "metadata": {},
   "outputs": [
    {
     "data": {
      "text/plain": [
       "['Regex', 'Flags']"
      ]
     },
     "execution_count": 243,
     "metadata": {},
     "output_type": "execute_result"
    }
   ],
   "source": [
    "s = \"\"\"Regex\n",
    "Flags\"\"\"\n",
    "re.findall(\"^\\w+\", s, re.MULTILINE)"
   ]
  },
  {
   "cell_type": "code",
   "execution_count": 244,
   "id": "e9cbc0d9",
   "metadata": {},
   "outputs": [
    {
     "data": {
      "text/plain": [
       "['Regex', 'Flags']"
      ]
     },
     "execution_count": 244,
     "metadata": {},
     "output_type": "execute_result"
    }
   ],
   "source": [
    "re.findall(\".+\", s)"
   ]
  },
  {
   "cell_type": "code",
   "execution_count": 245,
   "id": "570a55bf",
   "metadata": {},
   "outputs": [
    {
     "data": {
      "text/plain": [
       "['Regex\\nFlags']"
      ]
     },
     "execution_count": 245,
     "metadata": {},
     "output_type": "execute_result"
    }
   ],
   "source": [
    "re.findall(\".+\", s, re.DOTALL)"
   ]
  },
  {
   "cell_type": "code",
   "execution_count": 249,
   "id": "07c988ed",
   "metadata": {},
   "outputs": [
    {
     "data": {
      "text/plain": [
       "['作法', 'is', 'in']"
      ]
     },
     "execution_count": 249,
     "metadata": {},
     "output_type": "execute_result"
    }
   ],
   "source": [
    "s = '作法 is Pythonic in Japanese'\n",
    "re.findall(r\"\\b\\w{2}\\b\",s)"
   ]
  },
  {
   "cell_type": "code",
   "execution_count": 254,
   "id": "5cac9f30",
   "metadata": {},
   "outputs": [
    {
     "data": {
      "text/plain": [
       "<re.Match object; span=(1, 3), match='78'>"
      ]
     },
     "execution_count": 254,
     "metadata": {},
     "output_type": "execute_result"
    }
   ],
   "source": [
    "text = \"A78L41K\"\n",
    "re.search(\"78\",text)\n"
   ]
  },
  {
   "cell_type": "code",
   "execution_count": 256,
   "id": "e4f131a6",
   "metadata": {},
   "outputs": [
    {
     "data": {
      "text/plain": [
       "'A78L41K'"
      ]
     },
     "execution_count": 256,
     "metadata": {},
     "output_type": "execute_result"
    }
   ],
   "source": [
    "text"
   ]
  },
  {
   "cell_type": "code",
   "execution_count": 278,
   "id": "76fcba79",
   "metadata": {},
   "outputs": [
    {
     "data": {
      "text/plain": [
       "<re.Match object; span=(1, 3), match='78'>"
      ]
     },
     "execution_count": 278,
     "metadata": {},
     "output_type": "execute_result"
    }
   ],
   "source": [
    "re.search((\"\\d\\d\"), text)"
   ]
  },
  {
   "cell_type": "code",
   "execution_count": 270,
   "id": "2846a369",
   "metadata": {},
   "outputs": [
    {
     "data": {
      "text/plain": [
       "<re.Match object; span=(1, 3), match='78'>"
      ]
     },
     "execution_count": 270,
     "metadata": {},
     "output_type": "execute_result"
    }
   ],
   "source": [
    "comp = re.compile(\"\\d\\d\")\n",
    "comp.search(text)"
   ]
  },
  {
   "cell_type": "code",
   "execution_count": 275,
   "id": "582ce2d6",
   "metadata": {},
   "outputs": [
    {
     "data": {
      "text/plain": [
       "<re.Match object; span=(0, 2), match='he'>"
      ]
     },
     "execution_count": 275,
     "metadata": {},
     "output_type": "execute_result"
    }
   ],
   "source": [
    "comp = re.compile(\"\\D\\D\")\n",
    "comp.search(txt)"
   ]
  },
  {
   "cell_type": "code",
   "execution_count": 274,
   "id": "527b05fd",
   "metadata": {},
   "outputs": [
    {
     "data": {
      "text/plain": [
       "'hello planet'"
      ]
     },
     "execution_count": 274,
     "metadata": {},
     "output_type": "execute_result"
    }
   ],
   "source": [
    "txt"
   ]
  },
  {
   "cell_type": "code",
   "execution_count": 280,
   "id": "7ae525b4",
   "metadata": {},
   "outputs": [
    {
     "data": {
      "text/plain": [
       "'A78L41K'"
      ]
     },
     "execution_count": 280,
     "metadata": {},
     "output_type": "execute_result"
    }
   ],
   "source": [
    "text"
   ]
  },
  {
   "cell_type": "code",
   "execution_count": 279,
   "id": "0230928c",
   "metadata": {},
   "outputs": [
    {
     "data": {
      "text/plain": [
       "1"
      ]
     },
     "execution_count": 279,
     "metadata": {},
     "output_type": "execute_result"
    }
   ],
   "source": [
    "re.search((\"\\d\\d\"), text).start()"
   ]
  },
  {
   "cell_type": "code",
   "execution_count": 281,
   "id": "b061ad13",
   "metadata": {},
   "outputs": [
    {
     "data": {
      "text/plain": [
       "3"
      ]
     },
     "execution_count": 281,
     "metadata": {},
     "output_type": "execute_result"
    }
   ],
   "source": [
    "re.search((\"\\d\\d\"), text).end()"
   ]
  },
  {
   "cell_type": "code",
   "execution_count": 282,
   "id": "ec0c8464",
   "metadata": {},
   "outputs": [
    {
     "data": {
      "text/plain": [
       "'78'"
      ]
     },
     "execution_count": 282,
     "metadata": {},
     "output_type": "execute_result"
    }
   ],
   "source": [
    "re.search((\"\\d\\d\"), text).group()"
   ]
  },
  {
   "cell_type": "code",
   "execution_count": 287,
   "id": "66af28f4",
   "metadata": {},
   "outputs": [
    {
     "data": {
      "text/plain": [
       "(1, 3)"
      ]
     },
     "execution_count": 287,
     "metadata": {},
     "output_type": "execute_result"
    }
   ],
   "source": [
    "re.search((\"\\d\\d\"), text).span()"
   ]
  },
  {
   "cell_type": "code",
   "execution_count": 288,
   "id": "76a7eb44",
   "metadata": {},
   "outputs": [
    {
     "data": {
      "text/plain": [
       "'PM'"
      ]
     },
     "execution_count": 288,
     "metadata": {},
     "output_type": "execute_result"
    }
   ],
   "source": [
    "text = \"8PM19MIN\"\n",
    "re.search(\"\\D\\D\",text).group()"
   ]
  },
  {
   "cell_type": "code",
   "execution_count": 290,
   "id": "209ee5e9",
   "metadata": {},
   "outputs": [
    {
     "data": {
      "text/plain": [
       "'PM'"
      ]
     },
     "execution_count": 290,
     "metadata": {},
     "output_type": "execute_result"
    }
   ],
   "source": [
    "re.search(\"\\D+\", text).group()"
   ]
  },
  {
   "cell_type": "code",
   "execution_count": 293,
   "id": "6ce9712d",
   "metadata": {},
   "outputs": [
    {
     "data": {
      "text/plain": [
       "'1234567890'"
      ]
     },
     "execution_count": 293,
     "metadata": {},
     "output_type": "execute_result"
    }
   ],
   "source": [
    "text = 'My phone number is 1234567890'\n",
    "re.search(\"\\d+\", text).group()"
   ]
  },
  {
   "cell_type": "code",
   "execution_count": 295,
   "id": "94bb3e49",
   "metadata": {},
   "outputs": [
    {
     "data": {
      "text/plain": [
       "'123-456-7890'"
      ]
     },
     "execution_count": 295,
     "metadata": {},
     "output_type": "execute_result"
    }
   ],
   "source": [
    "text = 'My phone number is 123-456-7890'\n",
    "re.search(\"\\d+-\\d+-\\d+\", text).group()\n"
   ]
  },
  {
   "cell_type": "code",
   "execution_count": 310,
   "id": "060110d2",
   "metadata": {},
   "outputs": [
    {
     "data": {
      "text/plain": [
       "'123-456-7890'"
      ]
     },
     "execution_count": 310,
     "metadata": {},
     "output_type": "execute_result"
    }
   ],
   "source": [
    "re.search(\"\\d\"*3 + \"-\" + \"\\d\"*3 + \"-\" + \"\\d\"*4, text).group()"
   ]
  },
  {
   "cell_type": "code",
   "execution_count": 318,
   "id": "9f863460",
   "metadata": {},
   "outputs": [],
   "source": [
    "telno = re.search(\"(\\d+)-(\\d+)-(\\d+)\", text)"
   ]
  },
  {
   "cell_type": "code",
   "execution_count": 319,
   "id": "bccb846a",
   "metadata": {},
   "outputs": [
    {
     "data": {
      "text/plain": [
       "'123-456-7890'"
      ]
     },
     "execution_count": 319,
     "metadata": {},
     "output_type": "execute_result"
    }
   ],
   "source": [
    "telno.group()"
   ]
  },
  {
   "cell_type": "code",
   "execution_count": 320,
   "id": "ac4cdbb6",
   "metadata": {},
   "outputs": [
    {
     "data": {
      "text/plain": [
       "(19, 31)"
      ]
     },
     "execution_count": 320,
     "metadata": {},
     "output_type": "execute_result"
    }
   ],
   "source": [
    "telno.span()"
   ]
  },
  {
   "cell_type": "code",
   "execution_count": 321,
   "id": "d00bce43",
   "metadata": {},
   "outputs": [
    {
     "data": {
      "text/plain": [
       "19"
      ]
     },
     "execution_count": 321,
     "metadata": {},
     "output_type": "execute_result"
    }
   ],
   "source": [
    "telno.start()"
   ]
  },
  {
   "cell_type": "code",
   "execution_count": 325,
   "id": "4efb7bba",
   "metadata": {},
   "outputs": [
    {
     "data": {
      "text/plain": [
       "'123-456-7890'"
      ]
     },
     "execution_count": 325,
     "metadata": {},
     "output_type": "execute_result"
    }
   ],
   "source": [
    "telno.group()"
   ]
  },
  {
   "cell_type": "code",
   "execution_count": 327,
   "id": "c5a1e6b3",
   "metadata": {},
   "outputs": [
    {
     "data": {
      "text/plain": [
       "'7890'"
      ]
     },
     "execution_count": 327,
     "metadata": {},
     "output_type": "execute_result"
    }
   ],
   "source": [
    "telno.group(3)"
   ]
  },
  {
   "cell_type": "code",
   "execution_count": 328,
   "id": "a9d1e03c",
   "metadata": {},
   "outputs": [],
   "source": [
    "text = \"A78L41K\"\n",
    "re.match(\"\\d\\d\", text)"
   ]
  },
  {
   "cell_type": "code",
   "execution_count": 330,
   "id": "fbc48d42",
   "metadata": {},
   "outputs": [
    {
     "data": {
      "text/plain": [
       "'A78'"
      ]
     },
     "execution_count": 330,
     "metadata": {},
     "output_type": "execute_result"
    }
   ],
   "source": [
    "re.match(\".\\d\\d\", text).group()"
   ]
  },
  {
   "cell_type": "code",
   "execution_count": 333,
   "id": "69ca65af",
   "metadata": {},
   "outputs": [
    {
     "data": {
      "text/plain": [
       "'A78'"
      ]
     },
     "execution_count": 333,
     "metadata": {},
     "output_type": "execute_result"
    }
   ],
   "source": [
    "re.match(\"\\D(\\d\\d)\", text).group()"
   ]
  },
  {
   "cell_type": "code",
   "execution_count": 339,
   "id": "abf8db59",
   "metadata": {},
   "outputs": [
    {
     "data": {
      "text/plain": [
       "'A78L41K'"
      ]
     },
     "execution_count": 339,
     "metadata": {},
     "output_type": "execute_result"
    }
   ],
   "source": [
    "text = \"A78L41K\"\n",
    "re.fullmatch(\"\\D\\d+\\D\\d+\\D\", text).group()"
   ]
  },
  {
   "cell_type": "code",
   "execution_count": 341,
   "id": "c21df4c4",
   "metadata": {},
   "outputs": [
    {
     "data": {
      "text/plain": [
       "['1', '1', '0', '1', '0', '0', '1', '0', '0', '0', '0', '0']"
      ]
     },
     "execution_count": 341,
     "metadata": {},
     "output_type": "execute_result"
    }
   ],
   "source": [
    "text = \"O 1, t 10, o 100. 100000\"\n",
    "re.findall(\"\\d\",text)"
   ]
  },
  {
   "cell_type": "code",
   "execution_count": 343,
   "id": "47401fc2",
   "metadata": {},
   "outputs": [
    {
     "data": {
      "text/plain": [
       "['1', '10', '100', '100000']"
      ]
     },
     "execution_count": 343,
     "metadata": {},
     "output_type": "execute_result"
    }
   ],
   "source": [
    "re.findall(\"\\d+\", text)"
   ]
  },
  {
   "cell_type": "code",
   "execution_count": 345,
   "id": "f4bce2b1",
   "metadata": {},
   "outputs": [
    {
     "data": {
      "text/plain": [
       "['10', '10', '10', '00', '00']"
      ]
     },
     "execution_count": 345,
     "metadata": {},
     "output_type": "execute_result"
    }
   ],
   "source": [
    "re.findall(\"\\d\\d\", text)"
   ]
  },
  {
   "cell_type": "code",
   "execution_count": 346,
   "id": "71911f41",
   "metadata": {},
   "outputs": [
    {
     "data": {
      "text/plain": [
       "['1000']"
      ]
     },
     "execution_count": 346,
     "metadata": {},
     "output_type": "execute_result"
    }
   ],
   "source": [
    "re.findall(\"\\d{4}\", text)"
   ]
  },
  {
   "cell_type": "code",
   "execution_count": 348,
   "id": "38d2a3f2",
   "metadata": {},
   "outputs": [
    {
     "data": {
      "text/plain": [
       "['1', '10', '100', '1000', '00']"
      ]
     },
     "execution_count": 348,
     "metadata": {},
     "output_type": "execute_result"
    }
   ],
   "source": [
    "re.findall(\"\\d{1,4}\", text)"
   ]
  },
  {
   "cell_type": "code",
   "execution_count": 349,
   "id": "05309e12",
   "metadata": {},
   "outputs": [
    {
     "data": {
      "text/plain": [
       "['1', '10', '100', '10000', '0']"
      ]
     },
     "execution_count": 349,
     "metadata": {},
     "output_type": "execute_result"
    }
   ],
   "source": [
    "re.findall(\"\\d{1,5}\", text)"
   ]
  },
  {
   "cell_type": "code",
   "execution_count": 350,
   "id": "55d87f7f",
   "metadata": {},
   "outputs": [
    {
     "data": {
      "text/plain": [
       "['1', '10', '100', '100000']"
      ]
     },
     "execution_count": 350,
     "metadata": {},
     "output_type": "execute_result"
    }
   ],
   "source": [
    "re.findall(\"\\d{1,6}\", text)"
   ]
  },
  {
   "cell_type": "code",
   "execution_count": 355,
   "id": "7f0daac4",
   "metadata": {},
   "outputs": [
    {
     "data": {
      "text/plain": [
       "['foot', 'fell', 'fastest', 'f']"
      ]
     },
     "execution_count": 355,
     "metadata": {},
     "output_type": "execute_result"
    }
   ],
   "source": [
    "text = \"which foot or hand fell fastest f\" \n",
    "re.findall(\"f[a-z]*\", text)"
   ]
  },
  {
   "cell_type": "code",
   "execution_count": 356,
   "id": "21d5d058",
   "metadata": {},
   "outputs": [
    {
     "data": {
      "text/plain": [
       "['foot', 'fell', 'fastest']"
      ]
     },
     "execution_count": 356,
     "metadata": {},
     "output_type": "execute_result"
    }
   ],
   "source": [
    "text = \"which foot or hand fell fastest f\" \n",
    "re.findall(\"f[a-z]+\", text)"
   ]
  },
  {
   "cell_type": "code",
   "execution_count": 360,
   "id": "3d317c65",
   "metadata": {},
   "outputs": [],
   "source": [
    "text = 'set width=20 and height=10'"
   ]
  },
  {
   "cell_type": "code",
   "execution_count": 361,
   "id": "63528d63",
   "metadata": {},
   "outputs": [
    {
     "data": {
      "text/plain": [
       "['width=20', 'height=10']"
      ]
     },
     "execution_count": 361,
     "metadata": {},
     "output_type": "execute_result"
    }
   ],
   "source": [
    "re.findall(\"\\w+=\\d+\", text)"
   ]
  },
  {
   "cell_type": "code",
   "execution_count": 362,
   "id": "46f28d4c",
   "metadata": {},
   "outputs": [
    {
     "data": {
      "text/plain": [
       "[('width', '20'), ('height', '10')]"
      ]
     },
     "execution_count": 362,
     "metadata": {},
     "output_type": "execute_result"
    }
   ],
   "source": [
    "re.findall(\"(\\w+)=(\\d+)\", text)"
   ]
  },
  {
   "cell_type": "code",
   "execution_count": 368,
   "id": "11705b3d",
   "metadata": {},
   "outputs": [
    {
     "data": {
      "text/plain": [
       "['hello']"
      ]
     },
     "execution_count": 368,
     "metadata": {},
     "output_type": "execute_result"
    }
   ],
   "source": [
    "text = \"hello hello world\"\n",
    "re.findall(\"^hello\", text)"
   ]
  },
  {
   "cell_type": "code",
   "execution_count": 369,
   "id": "5c18e065",
   "metadata": {},
   "outputs": [
    {
     "data": {
      "text/plain": [
       "['world']"
      ]
     },
     "execution_count": 369,
     "metadata": {},
     "output_type": "execute_result"
    }
   ],
   "source": [
    "re.findall(\"world$\", text)"
   ]
  },
  {
   "cell_type": "code",
   "execution_count": 371,
   "id": "7a070141",
   "metadata": {},
   "outputs": [
    {
     "data": {
      "text/plain": [
       "'2004959559'"
      ]
     },
     "execution_count": 371,
     "metadata": {},
     "output_type": "execute_result"
    }
   ],
   "source": [
    "text = \"2004-959-559 # This is Phone Number\"\n",
    "re.sub(\"\\D\",\"\", text)"
   ]
  },
  {
   "cell_type": "code",
   "execution_count": 372,
   "id": "1442c463",
   "metadata": {},
   "outputs": [
    {
     "data": {
      "text/plain": [
       "'....-...-... # This is Phone Number'"
      ]
     },
     "execution_count": 372,
     "metadata": {},
     "output_type": "execute_result"
    }
   ],
   "source": [
    "re.sub(\"\\d\",\".\",text)"
   ]
  },
  {
   "cell_type": "code",
   "execution_count": 373,
   "id": "2d0df08d",
   "metadata": {},
   "outputs": [
    {
     "data": {
      "text/plain": [
       "'2004-959-559 # This is Phone Number'"
      ]
     },
     "execution_count": 373,
     "metadata": {},
     "output_type": "execute_result"
    }
   ],
   "source": [
    "text"
   ]
  },
  {
   "cell_type": "code",
   "execution_count": 378,
   "id": "79ccef11",
   "metadata": {},
   "outputs": [
    {
     "data": {
      "text/plain": [
       "0    -- # This is Phone Number\n",
       "dtype: object"
      ]
     },
     "execution_count": 378,
     "metadata": {},
     "output_type": "execute_result"
    }
   ],
   "source": [
    "pd.Series(text).str.replace(\"\\d\", \"\", regex=True)"
   ]
  },
  {
   "cell_type": "code",
   "execution_count": 379,
   "id": "c1a10980",
   "metadata": {},
   "outputs": [],
   "source": [
    "text = \"ab56cd78_de fg3hıi49\""
   ]
  },
  {
   "cell_type": "code",
   "execution_count": 381,
   "id": "97ff2ae2",
   "metadata": {},
   "outputs": [
    {
     "data": {
      "text/plain": [
       "['', '56', '78', '3', '49']"
      ]
     },
     "execution_count": 381,
     "metadata": {},
     "output_type": "execute_result"
    }
   ],
   "source": [
    "re.split(\"\\D+\",text)"
   ]
  },
  {
   "cell_type": "code",
   "execution_count": 385,
   "id": "e29332b5",
   "metadata": {},
   "outputs": [
    {
     "data": {
      "text/plain": [
       "['', '56', '78_de fg3hıi49']"
      ]
     },
     "execution_count": 385,
     "metadata": {},
     "output_type": "execute_result"
    }
   ],
   "source": [
    "re.split(\"\\D+\",text, maxsplit=2)"
   ]
  },
  {
   "cell_type": "code",
   "execution_count": 386,
   "id": "5bef90bf",
   "metadata": {},
   "outputs": [
    {
     "data": {
      "text/plain": [
       "['', '56', '78', '3hıi49']"
      ]
     },
     "execution_count": 386,
     "metadata": {},
     "output_type": "execute_result"
    }
   ],
   "source": [
    "re.split(\"\\D+\",text, maxsplit=3)"
   ]
  },
  {
   "cell_type": "code",
   "execution_count": 387,
   "id": "6ee0102e",
   "metadata": {},
   "outputs": [
    {
     "data": {
      "text/plain": [
       "['56', '78', '3', '49']"
      ]
     },
     "execution_count": 387,
     "metadata": {},
     "output_type": "execute_result"
    }
   ],
   "source": [
    "re.findall(\"\\d+\", text)"
   ]
  },
  {
   "cell_type": "code",
   "execution_count": 388,
   "id": "1dfa73a7",
   "metadata": {},
   "outputs": [
    {
     "data": {
      "text/html": [
       "<div>\n",
       "<style scoped>\n",
       "    .dataframe tbody tr th:only-of-type {\n",
       "        vertical-align: middle;\n",
       "    }\n",
       "\n",
       "    .dataframe tbody tr th {\n",
       "        vertical-align: top;\n",
       "    }\n",
       "\n",
       "    .dataframe thead th {\n",
       "        text-align: right;\n",
       "    }\n",
       "</style>\n",
       "<table border=\"1\" class=\"dataframe\">\n",
       "  <thead>\n",
       "    <tr style=\"text-align: right;\">\n",
       "      <th></th>\n",
       "      <th>name</th>\n",
       "      <th>bloom</th>\n",
       "    </tr>\n",
       "  </thead>\n",
       "  <tbody>\n",
       "    <tr>\n",
       "      <th>0</th>\n",
       "      <td>Evert van Dijk</td>\n",
       "      <td>Carmine-pink, salmon-pink streaks, stripes, fl...</td>\n",
       "    </tr>\n",
       "    <tr>\n",
       "      <th>1</th>\n",
       "      <td>Every Good Gift</td>\n",
       "      <td>Red.  Flowers velvety red.  #079463895689# Mod...</td>\n",
       "    </tr>\n",
       "    <tr>\n",
       "      <th>2</th>\n",
       "      <td>Evghenya</td>\n",
       "      <td>Orange-pink.  75 petals.  Large, very double #...</td>\n",
       "    </tr>\n",
       "    <tr>\n",
       "      <th>3</th>\n",
       "      <td>Evita</td>\n",
       "      <td>White or white blend.  None to mild fragrance....</td>\n",
       "    </tr>\n",
       "    <tr>\n",
       "      <th>4</th>\n",
       "      <td>Evrathin</td>\n",
       "      <td>Light pink. [Deep pink.]  Outer petals white. ...</td>\n",
       "    </tr>\n",
       "    <tr>\n",
       "      <th>5</th>\n",
       "      <td>Evita 2</td>\n",
       "      <td>White, blush shading.  Mild, wild rose fragran...</td>\n",
       "    </tr>\n",
       "  </tbody>\n",
       "</table>\n",
       "</div>"
      ],
      "text/plain": [
       "              name                                              bloom\n",
       "0   Evert van Dijk  Carmine-pink, salmon-pink streaks, stripes, fl...\n",
       "1  Every Good Gift  Red.  Flowers velvety red.  #079463895689# Mod...\n",
       "2         Evghenya  Orange-pink.  75 petals.  Large, very double #...\n",
       "3            Evita  White or white blend.  None to mild fragrance....\n",
       "4         Evrathin  Light pink. [Deep pink.]  Outer petals white. ...\n",
       "5          Evita 2  White, blush shading.  Mild, wild rose fragran..."
      ]
     },
     "execution_count": 388,
     "metadata": {},
     "output_type": "execute_result"
    }
   ],
   "source": [
    "data = [['Evert van Dijk', 'Carmine-pink, salmon-pink streaks, stripes, flecks. #94569# Warm pink, clear carmine pink, rose pink shaded salmon.  Mild fragrance.  Large, very double, in small clusters, high-centered bloom form.  Blooms in flushes throughout the season.'],\n",
    "        ['Every Good Gift', 'Red.  Flowers velvety red.  #079463895689# Moderate fragrance.  Average diameter 4\".  Medium-large, full (26-40 petals), borne mostly solitary bloom form.  Blooms in flushes throughout the season.'], \n",
    "        ['Evghenya', 'Orange-pink.  75 petals.  Large, very double #68345_686# bloom form.  Blooms in flushes throughout the season.'], \n",
    "        ['Evita', 'White or white blend.  None to mild fragrance.  35 petals #9897#.  Large, full (26-40 petals), high-centered bloom form.  Blooms in flushes throughout the season.'],\n",
    "        ['Evrathin', 'Light pink. [Deep pink.]  Outer petals white. Expand rarely #679754YH89#.  Mild fragrance.  35 to 40 petals.  Average diameter 2.5\".  Medium, double (17-25 petals), full (26-40 petals), cluster-flowered, in small clusters bloom form.  Prolific, once-blooming spring or summer.  Glandular sepals, leafy sepals, long sepals buds.'],\n",
    "        ['Evita 2', 'White, blush shading.  Mild, wild rose fragrance #AGHJS876IOP#.  20 to 25 petals.  Average diameter 1.25\".  Small, very double, cluster-flowered bloom form.  Blooms in flushes throughout the season.']]\n",
    "  \n",
    "df = pd.DataFrame(data, columns = ['name', 'bloom']) \n",
    "df "
   ]
  },
  {
   "cell_type": "code",
   "execution_count": 390,
   "id": "8fbc38ce",
   "metadata": {},
   "outputs": [
    {
     "data": {
      "text/plain": [
       "'Carmine-pink, salmon-pink streaks, stripes, flecks. #94569# Warm pink, clear carmine pink, rose pink shaded salmon.  Mild fragrance.  Large, very double, in small clusters, high-centered bloom form.  Blooms in flushes throughout the season.'"
      ]
     },
     "execution_count": 390,
     "metadata": {},
     "output_type": "execute_result"
    }
   ],
   "source": [
    "df.bloom[0]"
   ]
  },
  {
   "cell_type": "code",
   "execution_count": 391,
   "id": "5f18634e",
   "metadata": {},
   "outputs": [
    {
     "data": {
      "text/plain": [
       "'Red.  Flowers velvety red.  #079463895689# Moderate fragrance.  Average diameter 4\".  Medium-large, full (26-40 petals), borne mostly solitary bloom form.  Blooms in flushes throughout the season.'"
      ]
     },
     "execution_count": 391,
     "metadata": {},
     "output_type": "execute_result"
    }
   ],
   "source": [
    "df.bloom[1]"
   ]
  },
  {
   "cell_type": "code",
   "execution_count": 392,
   "id": "20e20f0e",
   "metadata": {},
   "outputs": [
    {
     "data": {
      "text/plain": [
       "dtype('O')"
      ]
     },
     "execution_count": 392,
     "metadata": {},
     "output_type": "execute_result"
    }
   ],
   "source": [
    "df.bloom.dtype"
   ]
  },
  {
   "cell_type": "code",
   "execution_count": 393,
   "id": "f4b1b3af",
   "metadata": {},
   "outputs": [
    {
     "data": {
      "text/plain": [
       "0     1\n",
       "1     4\n",
       "2     3\n",
       "3     4\n",
       "4    10\n",
       "5     5\n",
       "Name: bloom, dtype: int64"
      ]
     },
     "execution_count": 393,
     "metadata": {},
     "output_type": "execute_result"
    }
   ],
   "source": [
    "df.bloom.str.count(\"\\d+\")"
   ]
  },
  {
   "cell_type": "code",
   "execution_count": 394,
   "id": "a88969f1",
   "metadata": {},
   "outputs": [
    {
     "data": {
      "text/plain": [
       "0    240\n",
       "1    196\n",
       "2    110\n",
       "3    162\n",
       "4    327\n",
       "5    198\n",
       "Name: bloom, dtype: int64"
      ]
     },
     "execution_count": 394,
     "metadata": {},
     "output_type": "execute_result"
    }
   ],
   "source": [
    "df.bloom.apply(len)"
   ]
  },
  {
   "cell_type": "code",
   "execution_count": 395,
   "id": "711ca23e",
   "metadata": {},
   "outputs": [
    {
     "data": {
      "text/plain": [
       "0    240\n",
       "1    196\n",
       "2    110\n",
       "3    162\n",
       "4    327\n",
       "5    198\n",
       "Name: bloom, dtype: int64"
      ]
     },
     "execution_count": 395,
     "metadata": {},
     "output_type": "execute_result"
    }
   ],
   "source": [
    "df.bloom.str.count(\".\")"
   ]
  },
  {
   "cell_type": "code",
   "execution_count": 397,
   "id": "bc1eaa6b",
   "metadata": {},
   "outputs": [
    {
     "data": {
      "text/plain": [
       "0     5\n",
       "1     6\n",
       "2     4\n",
       "3     5\n",
       "4    11\n",
       "5     7\n",
       "Name: bloom, dtype: int64"
      ]
     },
     "execution_count": 397,
     "metadata": {},
     "output_type": "execute_result"
    }
   ],
   "source": [
    "df.bloom.str.count(\"\\.\")"
   ]
  },
  {
   "cell_type": "code",
   "execution_count": 406,
   "id": "2107bd77",
   "metadata": {},
   "outputs": [
    {
     "data": {
      "text/plain": [
       "'Carmine-pink, salmon-pink streaks, stripes, flecks. #94569# Warm pink, clear carmine pink, rose pink shaded salmon.  Mild fragrance.  Large, very double, in small clusters, high-centered bloom form.  Blooms in flushes throughout the season.'"
      ]
     },
     "execution_count": 406,
     "metadata": {},
     "output_type": "execute_result"
    }
   ],
   "source": [
    "df.bloom[0]"
   ]
  },
  {
   "cell_type": "code",
   "execution_count": 407,
   "id": "2794a20e",
   "metadata": {},
   "outputs": [],
   "source": [
    "df.bloom = df.bloom.str.replace(\"#\\S+#\", \"\", regex=True)"
   ]
  },
  {
   "cell_type": "code",
   "execution_count": 410,
   "id": "e61ceade",
   "metadata": {},
   "outputs": [
    {
     "data": {
      "text/plain": [
       "'Carmine-pink, salmon-pink streaks, stripes, flecks.  Warm pink, clear carmine pink, rose pink shaded salmon.  Mild fragrance.  Large, very double, in small clusters, high-centered bloom form.  Blooms in flushes throughout the season.'"
      ]
     },
     "execution_count": 410,
     "metadata": {},
     "output_type": "execute_result"
    }
   ],
   "source": [
    "df.bloom[0]"
   ]
  },
  {
   "cell_type": "code",
   "execution_count": 411,
   "id": "d205a7ae",
   "metadata": {},
   "outputs": [
    {
     "data": {
      "text/plain": [
       "0    0\n",
       "1    0\n",
       "2    0\n",
       "3    0\n",
       "4    0\n",
       "5    0\n",
       "Name: bloom, dtype: int64"
      ]
     },
     "execution_count": 411,
     "metadata": {},
     "output_type": "execute_result"
    }
   ],
   "source": [
    "df.bloom.str.count(\"#\\S+#\")"
   ]
  },
  {
   "cell_type": "code",
   "execution_count": 412,
   "id": "2a9ef433",
   "metadata": {},
   "outputs": [
    {
     "data": {
      "text/plain": [
       "'Red.  Flowers velvety red.   Moderate fragrance.  Average diameter 4\".  Medium-large, full (26-40 petals), borne mostly solitary bloom form.  Blooms in flushes throughout the season.'"
      ]
     },
     "execution_count": 412,
     "metadata": {},
     "output_type": "execute_result"
    }
   ],
   "source": [
    "df.bloom[1]"
   ]
  },
  {
   "cell_type": "code",
   "execution_count": 413,
   "id": "e1b08a33",
   "metadata": {},
   "outputs": [
    {
     "data": {
      "text/plain": [
       "'Carmine-pink, salmon-pink streaks, stripes, flecks.  Warm pink, clear carmine pink, rose pink shaded salmon.  Mild fragrance.  Large, very double, in small clusters, high-centered bloom form.  Blooms in flushes throughout the season.'"
      ]
     },
     "execution_count": 413,
     "metadata": {},
     "output_type": "execute_result"
    }
   ],
   "source": [
    "df.bloom[0]"
   ]
  },
  {
   "cell_type": "code",
   "execution_count": 414,
   "id": "a3efffff",
   "metadata": {},
   "outputs": [
    {
     "data": {
      "text/plain": [
       "'Orange-pink.  75 petals.  Large, very double  bloom form.  Blooms in flushes throughout the season.'"
      ]
     },
     "execution_count": 414,
     "metadata": {},
     "output_type": "execute_result"
    }
   ],
   "source": [
    "df.bloom[2]"
   ]
  },
  {
   "cell_type": "code",
   "execution_count": 416,
   "id": "32587783",
   "metadata": {},
   "outputs": [
    {
     "data": {
      "text/plain": [
       "'Light pink. [Deep pink.]  Outer petals white. Expand rarely .  Mild fragrance.  35 to 40 petals.  Average diameter 2.5\".  Medium, double (17-25 petals), full (26-40 petals), cluster-flowered, in small clusters bloom form.  Prolific, once-blooming spring or summer.  Glandular sepals, leafy sepals, long sepals buds.'"
      ]
     },
     "execution_count": 416,
     "metadata": {},
     "output_type": "execute_result"
    }
   ],
   "source": [
    "df.bloom[4]"
   ]
  },
  {
   "cell_type": "code",
   "execution_count": 417,
   "id": "e8b4eb73",
   "metadata": {},
   "outputs": [
    {
     "data": {
      "text/plain": [
       "0    False\n",
       "1     True\n",
       "2    False\n",
       "3    False\n",
       "4     True\n",
       "5     True\n",
       "Name: bloom, dtype: bool"
      ]
     },
     "execution_count": 417,
     "metadata": {},
     "output_type": "execute_result"
    }
   ],
   "source": [
    "df.bloom.str.contains(\"diameter\")"
   ]
  },
  {
   "cell_type": "code",
   "execution_count": 418,
   "id": "964e83fe",
   "metadata": {},
   "outputs": [
    {
     "data": {
      "text/plain": [
       "0    False\n",
       "1     True\n",
       "2    False\n",
       "3    False\n",
       "4     True\n",
       "5     True\n",
       "Name: bloom, dtype: bool"
      ]
     },
     "execution_count": 418,
     "metadata": {},
     "output_type": "execute_result"
    }
   ],
   "source": [
    "df.bloom.str.contains('\\d+\"')"
   ]
  },
  {
   "cell_type": "code",
   "execution_count": 419,
   "id": "7a3012de",
   "metadata": {},
   "outputs": [
    {
     "data": {
      "text/html": [
       "<div>\n",
       "<style scoped>\n",
       "    .dataframe tbody tr th:only-of-type {\n",
       "        vertical-align: middle;\n",
       "    }\n",
       "\n",
       "    .dataframe tbody tr th {\n",
       "        vertical-align: top;\n",
       "    }\n",
       "\n",
       "    .dataframe thead th {\n",
       "        text-align: right;\n",
       "    }\n",
       "</style>\n",
       "<table border=\"1\" class=\"dataframe\">\n",
       "  <thead>\n",
       "    <tr style=\"text-align: right;\">\n",
       "      <th></th>\n",
       "      <th>name</th>\n",
       "      <th>bloom</th>\n",
       "    </tr>\n",
       "  </thead>\n",
       "  <tbody>\n",
       "    <tr>\n",
       "      <th>1</th>\n",
       "      <td>Every Good Gift</td>\n",
       "      <td>Red.  Flowers velvety red.   Moderate fragranc...</td>\n",
       "    </tr>\n",
       "    <tr>\n",
       "      <th>4</th>\n",
       "      <td>Evrathin</td>\n",
       "      <td>Light pink. [Deep pink.]  Outer petals white. ...</td>\n",
       "    </tr>\n",
       "    <tr>\n",
       "      <th>5</th>\n",
       "      <td>Evita 2</td>\n",
       "      <td>White, blush shading.  Mild, wild rose fragran...</td>\n",
       "    </tr>\n",
       "  </tbody>\n",
       "</table>\n",
       "</div>"
      ],
      "text/plain": [
       "              name                                              bloom\n",
       "1  Every Good Gift  Red.  Flowers velvety red.   Moderate fragranc...\n",
       "4         Evrathin  Light pink. [Deep pink.]  Outer petals white. ...\n",
       "5          Evita 2  White, blush shading.  Mild, wild rose fragran..."
      ]
     },
     "execution_count": 419,
     "metadata": {},
     "output_type": "execute_result"
    }
   ],
   "source": [
    "df.loc[df.bloom.str.contains('\\d+\"')]"
   ]
  },
  {
   "cell_type": "code",
   "execution_count": 420,
   "id": "e8db3660",
   "metadata": {},
   "outputs": [
    {
     "data": {
      "text/html": [
       "<div>\n",
       "<style scoped>\n",
       "    .dataframe tbody tr th:only-of-type {\n",
       "        vertical-align: middle;\n",
       "    }\n",
       "\n",
       "    .dataframe tbody tr th {\n",
       "        vertical-align: top;\n",
       "    }\n",
       "\n",
       "    .dataframe thead th {\n",
       "        text-align: right;\n",
       "    }\n",
       "</style>\n",
       "<table border=\"1\" class=\"dataframe\">\n",
       "  <thead>\n",
       "    <tr style=\"text-align: right;\">\n",
       "      <th></th>\n",
       "      <th>name</th>\n",
       "      <th>bloom</th>\n",
       "    </tr>\n",
       "  </thead>\n",
       "  <tbody>\n",
       "    <tr>\n",
       "      <th>0</th>\n",
       "      <td>Evert van Dijk</td>\n",
       "      <td>Carmine-pink, salmon-pink streaks, stripes, fl...</td>\n",
       "    </tr>\n",
       "    <tr>\n",
       "      <th>1</th>\n",
       "      <td>Every Good Gift</td>\n",
       "      <td>Red.  Flowers velvety red.   Moderate fragranc...</td>\n",
       "    </tr>\n",
       "    <tr>\n",
       "      <th>2</th>\n",
       "      <td>Evghenya</td>\n",
       "      <td>Orange-pink.  75 petals.  Large, very double  ...</td>\n",
       "    </tr>\n",
       "    <tr>\n",
       "      <th>3</th>\n",
       "      <td>Evita</td>\n",
       "      <td>White or white blend.  None to mild fragrance....</td>\n",
       "    </tr>\n",
       "    <tr>\n",
       "      <th>4</th>\n",
       "      <td>Evrathin</td>\n",
       "      <td>Light pink. [Deep pink.]  Outer petals white. ...</td>\n",
       "    </tr>\n",
       "  </tbody>\n",
       "</table>\n",
       "</div>"
      ],
      "text/plain": [
       "              name                                              bloom\n",
       "0   Evert van Dijk  Carmine-pink, salmon-pink streaks, stripes, fl...\n",
       "1  Every Good Gift  Red.  Flowers velvety red.   Moderate fragranc...\n",
       "2         Evghenya  Orange-pink.  75 petals.  Large, very double  ...\n",
       "3            Evita  White or white blend.  None to mild fragrance....\n",
       "4         Evrathin  Light pink. [Deep pink.]  Outer petals white. ..."
      ]
     },
     "execution_count": 420,
     "metadata": {},
     "output_type": "execute_result"
    }
   ],
   "source": [
    "df.head()"
   ]
  },
  {
   "cell_type": "code",
   "execution_count": 421,
   "id": "430328a0",
   "metadata": {},
   "outputs": [
    {
     "data": {
      "text/plain": [
       "0     []\n",
       "1     []\n",
       "2     []\n",
       "3     []\n",
       "4     []\n",
       "5    [2]\n",
       "Name: name, dtype: object"
      ]
     },
     "execution_count": 421,
     "metadata": {},
     "output_type": "execute_result"
    }
   ],
   "source": [
    "df.name.str.findall(\"\\d+\")"
   ]
  },
  {
   "cell_type": "code",
   "execution_count": 422,
   "id": "370ca893",
   "metadata": {},
   "outputs": [
    {
     "data": {
      "text/plain": [
       "0                                []\n",
       "1                       [4, 26, 40]\n",
       "2                              [75]\n",
       "3                      [35, 26, 40]\n",
       "4    [35, 40, 2, 5, 17, 25, 26, 40]\n",
       "5                   [20, 25, 1, 25]\n",
       "Name: bloom, dtype: object"
      ]
     },
     "execution_count": 422,
     "metadata": {},
     "output_type": "execute_result"
    }
   ],
   "source": [
    "df.bloom.str.findall(\"\\d+\")"
   ]
  },
  {
   "cell_type": "code",
   "execution_count": 423,
   "id": "d80df7b8",
   "metadata": {},
   "outputs": [
    {
     "data": {
      "text/plain": [
       "0         []\n",
       "1       [4\"]\n",
       "2         []\n",
       "3         []\n",
       "4     [2.5\"]\n",
       "5    [1.25\"]\n",
       "Name: bloom, dtype: object"
      ]
     },
     "execution_count": 423,
     "metadata": {},
     "output_type": "execute_result"
    }
   ],
   "source": [
    "df.bloom.str.findall('\\d+\"|\\d+\\.\\d+\"') # GÜZEEEL"
   ]
  },
  {
   "cell_type": "code",
   "execution_count": 428,
   "id": "a3ebb5f9",
   "metadata": {},
   "outputs": [
    {
     "data": {
      "text/plain": [
       "0         []\n",
       "1       [4\"]\n",
       "2         []\n",
       "3         []\n",
       "4     [2.5\"]\n",
       "5    [1.25\"]\n",
       "Name: bloom, dtype: object"
      ]
     },
     "execution_count": 428,
     "metadata": {},
     "output_type": "execute_result"
    }
   ],
   "source": [
    "df.bloom.str.findall('\\d+\"|\\d+\\.\\d+\"')"
   ]
  },
  {
   "cell_type": "code",
   "execution_count": 429,
   "id": "51f41589",
   "metadata": {},
   "outputs": [
    {
     "data": {
      "text/plain": [
       "0    Carmine-pink, salmon-pink streaks, stripes, fl...\n",
       "1    Red.  Flowers velvety red.   Moderate fragranc...\n",
       "2    Orange-pink.  75 petals.  Large, very double  ...\n",
       "3    White or white blend.  None to mild fragrance....\n",
       "4    Light pink. [Deep pink.]  Outer petals white. ...\n",
       "5    White, blush shading.  Mild, wild rose fragran...\n",
       "Name: bloom, dtype: object"
      ]
     },
     "execution_count": 429,
     "metadata": {},
     "output_type": "execute_result"
    }
   ],
   "source": [
    "df.bloom"
   ]
  },
  {
   "cell_type": "code",
   "execution_count": 430,
   "id": "becb3f35",
   "metadata": {},
   "outputs": [
    {
     "data": {
      "text/plain": [
       "0     True\n",
       "1    False\n",
       "2     True\n",
       "3    False\n",
       "4     True\n",
       "5    False\n",
       "Name: bloom, dtype: bool"
      ]
     },
     "execution_count": 430,
     "metadata": {},
     "output_type": "execute_result"
    }
   ],
   "source": [
    "df.bloom.str.match(\"pink|\\w+-pink|\\w+ pink\")"
   ]
  },
  {
   "cell_type": "code",
   "execution_count": 432,
   "id": "70bcec76",
   "metadata": {},
   "outputs": [
    {
     "data": {
      "text/html": [
       "<div>\n",
       "<style scoped>\n",
       "    .dataframe tbody tr th:only-of-type {\n",
       "        vertical-align: middle;\n",
       "    }\n",
       "\n",
       "    .dataframe tbody tr th {\n",
       "        vertical-align: top;\n",
       "    }\n",
       "\n",
       "    .dataframe thead th {\n",
       "        text-align: right;\n",
       "    }\n",
       "</style>\n",
       "<table border=\"1\" class=\"dataframe\">\n",
       "  <thead>\n",
       "    <tr style=\"text-align: right;\">\n",
       "      <th></th>\n",
       "      <th>bloom</th>\n",
       "    </tr>\n",
       "  </thead>\n",
       "  <tbody>\n",
       "    <tr>\n",
       "      <th>0</th>\n",
       "      <td>Carmine-pink, salmon-pink streaks, stripes, fl...</td>\n",
       "    </tr>\n",
       "    <tr>\n",
       "      <th>2</th>\n",
       "      <td>Orange-pink.  75 petals.  Large, very double  ...</td>\n",
       "    </tr>\n",
       "    <tr>\n",
       "      <th>4</th>\n",
       "      <td>Light pink. [Deep pink.]  Outer petals white. ...</td>\n",
       "    </tr>\n",
       "  </tbody>\n",
       "</table>\n",
       "</div>"
      ],
      "text/plain": [
       "                                               bloom\n",
       "0  Carmine-pink, salmon-pink streaks, stripes, fl...\n",
       "2  Orange-pink.  75 petals.  Large, very double  ...\n",
       "4  Light pink. [Deep pink.]  Outer petals white. ..."
      ]
     },
     "execution_count": 432,
     "metadata": {},
     "output_type": "execute_result"
    }
   ],
   "source": [
    "df.loc[df.bloom.str.match(\"pink|\\w+-pink|\\w+ pink\"), [\"bloom\"]]"
   ]
  },
  {
   "cell_type": "code",
   "execution_count": 433,
   "id": "597809a3",
   "metadata": {},
   "outputs": [
    {
     "data": {
      "text/plain": [
       "0     True\n",
       "1    False\n",
       "2     True\n",
       "3    False\n",
       "4     True\n",
       "5    False\n",
       "Name: bloom, dtype: bool"
      ]
     },
     "execution_count": 433,
     "metadata": {},
     "output_type": "execute_result"
    }
   ],
   "source": [
    "df.bloom.str.match(\"pink|\\w+[- ]?pink\")"
   ]
  },
  {
   "cell_type": "code",
   "execution_count": 434,
   "id": "11a3221b",
   "metadata": {},
   "outputs": [
    {
     "data": {
      "text/html": [
       "<div>\n",
       "<style scoped>\n",
       "    .dataframe tbody tr th:only-of-type {\n",
       "        vertical-align: middle;\n",
       "    }\n",
       "\n",
       "    .dataframe tbody tr th {\n",
       "        vertical-align: top;\n",
       "    }\n",
       "\n",
       "    .dataframe thead th {\n",
       "        text-align: right;\n",
       "    }\n",
       "</style>\n",
       "<table border=\"1\" class=\"dataframe\">\n",
       "  <thead>\n",
       "    <tr style=\"text-align: right;\">\n",
       "      <th></th>\n",
       "      <th>bloom</th>\n",
       "    </tr>\n",
       "  </thead>\n",
       "  <tbody>\n",
       "    <tr>\n",
       "      <th>0</th>\n",
       "      <td>Carmine-pink, salmon-pink streaks, stripes, fl...</td>\n",
       "    </tr>\n",
       "    <tr>\n",
       "      <th>2</th>\n",
       "      <td>Orange-pink.  75 petals.  Large, very double  ...</td>\n",
       "    </tr>\n",
       "    <tr>\n",
       "      <th>4</th>\n",
       "      <td>Light pink. [Deep pink.]  Outer petals white. ...</td>\n",
       "    </tr>\n",
       "  </tbody>\n",
       "</table>\n",
       "</div>"
      ],
      "text/plain": [
       "                                               bloom\n",
       "0  Carmine-pink, salmon-pink streaks, stripes, fl...\n",
       "2  Orange-pink.  75 petals.  Large, very double  ...\n",
       "4  Light pink. [Deep pink.]  Outer petals white. ..."
      ]
     },
     "execution_count": 434,
     "metadata": {},
     "output_type": "execute_result"
    }
   ],
   "source": [
    "df.loc[df.bloom.str.match(\"pink|\\w+[- ]?pink\"), [\"bloom\"]]"
   ]
  },
  {
   "cell_type": "code",
   "execution_count": 435,
   "id": "045d9ea7",
   "metadata": {},
   "outputs": [
    {
     "data": {
      "text/plain": [
       "0     True\n",
       "1    False\n",
       "2     True\n",
       "3    False\n",
       "4     True\n",
       "5    False\n",
       "Name: bloom, dtype: bool"
      ]
     },
     "execution_count": 435,
     "metadata": {},
     "output_type": "execute_result"
    }
   ],
   "source": [
    "df.bloom.str.match(\".+pink\")"
   ]
  },
  {
   "cell_type": "code",
   "execution_count": 436,
   "id": "ca42bbf0",
   "metadata": {},
   "outputs": [
    {
     "data": {
      "text/html": [
       "<div>\n",
       "<style scoped>\n",
       "    .dataframe tbody tr th:only-of-type {\n",
       "        vertical-align: middle;\n",
       "    }\n",
       "\n",
       "    .dataframe tbody tr th {\n",
       "        vertical-align: top;\n",
       "    }\n",
       "\n",
       "    .dataframe thead th {\n",
       "        text-align: right;\n",
       "    }\n",
       "</style>\n",
       "<table border=\"1\" class=\"dataframe\">\n",
       "  <thead>\n",
       "    <tr style=\"text-align: right;\">\n",
       "      <th></th>\n",
       "      <th>bloom</th>\n",
       "    </tr>\n",
       "  </thead>\n",
       "  <tbody>\n",
       "    <tr>\n",
       "      <th>0</th>\n",
       "      <td>Carmine-pink, salmon-pink streaks, stripes, fl...</td>\n",
       "    </tr>\n",
       "    <tr>\n",
       "      <th>2</th>\n",
       "      <td>Orange-pink.  75 petals.  Large, very double  ...</td>\n",
       "    </tr>\n",
       "    <tr>\n",
       "      <th>4</th>\n",
       "      <td>Light pink. [Deep pink.]  Outer petals white. ...</td>\n",
       "    </tr>\n",
       "  </tbody>\n",
       "</table>\n",
       "</div>"
      ],
      "text/plain": [
       "                                               bloom\n",
       "0  Carmine-pink, salmon-pink streaks, stripes, fl...\n",
       "2  Orange-pink.  75 petals.  Large, very double  ...\n",
       "4  Light pink. [Deep pink.]  Outer petals white. ..."
      ]
     },
     "execution_count": 436,
     "metadata": {},
     "output_type": "execute_result"
    }
   ],
   "source": [
    "df.loc[df.bloom.str.match(\".+pink\"),[\"bloom\"]]"
   ]
  },
  {
   "cell_type": "code",
   "execution_count": 437,
   "id": "985525a4",
   "metadata": {},
   "outputs": [
    {
     "data": {
      "text/plain": [
       "'Carmine-pink, salmon-pink streaks, stripes, flecks.  Warm pink, clear carmine pink, rose pink shaded salmon.  Mild fragrance.  Large, very double, in small clusters, high-centered bloom form.  Blooms in flushes throughout the season.'"
      ]
     },
     "execution_count": 437,
     "metadata": {},
     "output_type": "execute_result"
    }
   ],
   "source": [
    "df.bloom[0]"
   ]
  },
  {
   "cell_type": "code",
   "execution_count": 438,
   "id": "1050853e",
   "metadata": {},
   "outputs": [
    {
     "data": {
      "text/plain": [
       "0    [Carmine-pink, salmon-pink streaks, stripes, f...\n",
       "1    [Red,   Flowers velvety red,    Moderate fragr...\n",
       "2    [Orange-pink,   75 petals,   Large, very doubl...\n",
       "3    [White or white blend,   None to mild fragranc...\n",
       "4    [Light pink,  [Deep pink, ]  Outer petals whit...\n",
       "5    [White, blush shading,   Mild, wild rose fragr...\n",
       "Name: bloom, dtype: object"
      ]
     },
     "execution_count": 438,
     "metadata": {},
     "output_type": "execute_result"
    }
   ],
   "source": [
    "df.bloom.str.split(\"\\.\")"
   ]
  },
  {
   "cell_type": "code",
   "execution_count": 439,
   "id": "9332421a",
   "metadata": {},
   "outputs": [
    {
     "data": {
      "text/plain": [
       "['Carmine-pink, salmon-pink streaks, stripes, flecks',\n",
       " '  Warm pink, clear carmine pink, rose pink shaded salmon',\n",
       " '  Mild fragrance',\n",
       " '  Large, very double, in small clusters, high-centered bloom form',\n",
       " '  Blooms in flushes throughout the season',\n",
       " '']"
      ]
     },
     "execution_count": 439,
     "metadata": {},
     "output_type": "execute_result"
    }
   ],
   "source": [
    "df.bloom.str.split(\"\\.\")[0]"
   ]
  },
  {
   "cell_type": "code",
   "execution_count": 440,
   "id": "24369607",
   "metadata": {},
   "outputs": [
    {
     "data": {
      "text/html": [
       "<div>\n",
       "<style scoped>\n",
       "    .dataframe tbody tr th:only-of-type {\n",
       "        vertical-align: middle;\n",
       "    }\n",
       "\n",
       "    .dataframe tbody tr th {\n",
       "        vertical-align: top;\n",
       "    }\n",
       "\n",
       "    .dataframe thead th {\n",
       "        text-align: right;\n",
       "    }\n",
       "</style>\n",
       "<table border=\"1\" class=\"dataframe\">\n",
       "  <thead>\n",
       "    <tr style=\"text-align: right;\">\n",
       "      <th></th>\n",
       "      <th>0</th>\n",
       "      <th>1</th>\n",
       "      <th>2</th>\n",
       "      <th>3</th>\n",
       "      <th>4</th>\n",
       "      <th>5</th>\n",
       "      <th>6</th>\n",
       "      <th>7</th>\n",
       "      <th>8</th>\n",
       "      <th>9</th>\n",
       "      <th>10</th>\n",
       "      <th>11</th>\n",
       "    </tr>\n",
       "  </thead>\n",
       "  <tbody>\n",
       "    <tr>\n",
       "      <th>0</th>\n",
       "      <td>Carmine-pink, salmon-pink streaks, stripes, fl...</td>\n",
       "      <td>Warm pink, clear carmine pink, rose pink sha...</td>\n",
       "      <td>Mild fragrance</td>\n",
       "      <td>Large, very double, in small clusters, high-...</td>\n",
       "      <td>Blooms in flushes throughout the season</td>\n",
       "      <td></td>\n",
       "      <td>None</td>\n",
       "      <td>None</td>\n",
       "      <td>None</td>\n",
       "      <td>None</td>\n",
       "      <td>None</td>\n",
       "      <td>None</td>\n",
       "    </tr>\n",
       "    <tr>\n",
       "      <th>1</th>\n",
       "      <td>Red</td>\n",
       "      <td>Flowers velvety red</td>\n",
       "      <td>Moderate fragrance</td>\n",
       "      <td>Average diameter 4\"</td>\n",
       "      <td>Medium-large, full (26-40 petals), borne mos...</td>\n",
       "      <td>Blooms in flushes throughout the season</td>\n",
       "      <td></td>\n",
       "      <td>None</td>\n",
       "      <td>None</td>\n",
       "      <td>None</td>\n",
       "      <td>None</td>\n",
       "      <td>None</td>\n",
       "    </tr>\n",
       "    <tr>\n",
       "      <th>2</th>\n",
       "      <td>Orange-pink</td>\n",
       "      <td>75 petals</td>\n",
       "      <td>Large, very double  bloom form</td>\n",
       "      <td>Blooms in flushes throughout the season</td>\n",
       "      <td></td>\n",
       "      <td>None</td>\n",
       "      <td>None</td>\n",
       "      <td>None</td>\n",
       "      <td>None</td>\n",
       "      <td>None</td>\n",
       "      <td>None</td>\n",
       "      <td>None</td>\n",
       "    </tr>\n",
       "    <tr>\n",
       "      <th>3</th>\n",
       "      <td>White or white blend</td>\n",
       "      <td>None to mild fragrance</td>\n",
       "      <td>35 petals</td>\n",
       "      <td>Large, full (26-40 petals), high-centered bl...</td>\n",
       "      <td>Blooms in flushes throughout the season</td>\n",
       "      <td></td>\n",
       "      <td>None</td>\n",
       "      <td>None</td>\n",
       "      <td>None</td>\n",
       "      <td>None</td>\n",
       "      <td>None</td>\n",
       "      <td>None</td>\n",
       "    </tr>\n",
       "    <tr>\n",
       "      <th>4</th>\n",
       "      <td>Light pink</td>\n",
       "      <td>[Deep pink</td>\n",
       "      <td>]  Outer petals white</td>\n",
       "      <td>Expand rarely</td>\n",
       "      <td>Mild fragrance</td>\n",
       "      <td>35 to 40 petals</td>\n",
       "      <td>Average diameter 2</td>\n",
       "      <td>5\"</td>\n",
       "      <td>Medium, double (17-25 petals), full (26-40 p...</td>\n",
       "      <td>Prolific, once-blooming spring or summer</td>\n",
       "      <td>Glandular sepals, leafy sepals, long sepals ...</td>\n",
       "      <td></td>\n",
       "    </tr>\n",
       "    <tr>\n",
       "      <th>5</th>\n",
       "      <td>White, blush shading</td>\n",
       "      <td>Mild, wild rose fragrance</td>\n",
       "      <td>20 to 25 petals</td>\n",
       "      <td>Average diameter 1</td>\n",
       "      <td>25\"</td>\n",
       "      <td>Small, very double, cluster-flowered bloom form</td>\n",
       "      <td>Blooms in flushes throughout the season</td>\n",
       "      <td></td>\n",
       "      <td>None</td>\n",
       "      <td>None</td>\n",
       "      <td>None</td>\n",
       "      <td>None</td>\n",
       "    </tr>\n",
       "  </tbody>\n",
       "</table>\n",
       "</div>"
      ],
      "text/plain": [
       "                                                  0   \\\n",
       "0  Carmine-pink, salmon-pink streaks, stripes, fl...   \n",
       "1                                                Red   \n",
       "2                                        Orange-pink   \n",
       "3                               White or white blend   \n",
       "4                                         Light pink   \n",
       "5                               White, blush shading   \n",
       "\n",
       "                                                  1   \\\n",
       "0    Warm pink, clear carmine pink, rose pink sha...   \n",
       "1                                Flowers velvety red   \n",
       "2                                          75 petals   \n",
       "3                             None to mild fragrance   \n",
       "4                                         [Deep pink   \n",
       "5                         Mild, wild rose fragrance    \n",
       "\n",
       "                                 2   \\\n",
       "0                    Mild fragrance   \n",
       "1                Moderate fragrance   \n",
       "2    Large, very double  bloom form   \n",
       "3                        35 petals    \n",
       "4             ]  Outer petals white   \n",
       "5                   20 to 25 petals   \n",
       "\n",
       "                                                  3   \\\n",
       "0    Large, very double, in small clusters, high-...   \n",
       "1                                Average diameter 4\"   \n",
       "2            Blooms in flushes throughout the season   \n",
       "3    Large, full (26-40 petals), high-centered bl...   \n",
       "4                                     Expand rarely    \n",
       "5                                 Average diameter 1   \n",
       "\n",
       "                                                  4   \\\n",
       "0            Blooms in flushes throughout the season   \n",
       "1    Medium-large, full (26-40 petals), borne mos...   \n",
       "2                                                      \n",
       "3            Blooms in flushes throughout the season   \n",
       "4                                     Mild fragrance   \n",
       "5                                                25\"   \n",
       "\n",
       "                                                  5   \\\n",
       "0                                                      \n",
       "1            Blooms in flushes throughout the season   \n",
       "2                                               None   \n",
       "3                                                      \n",
       "4                                    35 to 40 petals   \n",
       "5    Small, very double, cluster-flowered bloom form   \n",
       "\n",
       "                                          6     7   \\\n",
       "0                                       None  None   \n",
       "1                                             None   \n",
       "2                                       None  None   \n",
       "3                                       None  None   \n",
       "4                         Average diameter 2    5\"   \n",
       "5    Blooms in flushes throughout the season         \n",
       "\n",
       "                                                  8   \\\n",
       "0                                               None   \n",
       "1                                               None   \n",
       "2                                               None   \n",
       "3                                               None   \n",
       "4    Medium, double (17-25 petals), full (26-40 p...   \n",
       "5                                               None   \n",
       "\n",
       "                                           9   \\\n",
       "0                                        None   \n",
       "1                                        None   \n",
       "2                                        None   \n",
       "3                                        None   \n",
       "4    Prolific, once-blooming spring or summer   \n",
       "5                                        None   \n",
       "\n",
       "                                                  10    11  \n",
       "0                                               None  None  \n",
       "1                                               None  None  \n",
       "2                                               None  None  \n",
       "3                                               None  None  \n",
       "4    Glandular sepals, leafy sepals, long sepals ...        \n",
       "5                                               None  None  "
      ]
     },
     "execution_count": 440,
     "metadata": {},
     "output_type": "execute_result"
    }
   ],
   "source": [
    "df.bloom.str.split(\"\\.\", expand=True)"
   ]
  },
  {
   "cell_type": "code",
   "execution_count": 441,
   "id": "a7bdef40",
   "metadata": {},
   "outputs": [
    {
     "data": {
      "text/plain": [
       "0    id:345, age:25, salary:1200\n",
       "1    id:346, age:32, salary:1500\n",
       "2    id:347, age:28, salary:1400\n",
       "dtype: object"
      ]
     },
     "execution_count": 441,
     "metadata": {},
     "output_type": "execute_result"
    }
   ],
   "source": [
    "info = [\"id:345, age:25, salary:1200\", \"id:346, age:32, salary:1500\", \"id:347, age:28, salary:1400\"]\n",
    "s = pd.Series(info)\n",
    "s"
   ]
  },
  {
   "cell_type": "code",
   "execution_count": 456,
   "id": "caaa1c44",
   "metadata": {},
   "outputs": [
    {
     "data": {
      "text/html": [
       "<div>\n",
       "<style scoped>\n",
       "    .dataframe tbody tr th:only-of-type {\n",
       "        vertical-align: middle;\n",
       "    }\n",
       "\n",
       "    .dataframe tbody tr th {\n",
       "        vertical-align: top;\n",
       "    }\n",
       "\n",
       "    .dataframe thead th {\n",
       "        text-align: right;\n",
       "    }\n",
       "</style>\n",
       "<table border=\"1\" class=\"dataframe\">\n",
       "  <thead>\n",
       "    <tr style=\"text-align: right;\">\n",
       "      <th></th>\n",
       "      <th>1</th>\n",
       "      <th>2</th>\n",
       "      <th>3</th>\n",
       "    </tr>\n",
       "  </thead>\n",
       "  <tbody>\n",
       "    <tr>\n",
       "      <th>0</th>\n",
       "      <td>345</td>\n",
       "      <td>25</td>\n",
       "      <td>1200</td>\n",
       "    </tr>\n",
       "    <tr>\n",
       "      <th>1</th>\n",
       "      <td>346</td>\n",
       "      <td>32</td>\n",
       "      <td>1500</td>\n",
       "    </tr>\n",
       "    <tr>\n",
       "      <th>2</th>\n",
       "      <td>347</td>\n",
       "      <td>28</td>\n",
       "      <td>1400</td>\n",
       "    </tr>\n",
       "  </tbody>\n",
       "</table>\n",
       "</div>"
      ],
      "text/plain": [
       "     1   2     3\n",
       "0  345  25  1200\n",
       "1  346  32  1500\n",
       "2  347  28  1400"
      ]
     },
     "execution_count": 456,
     "metadata": {},
     "output_type": "execute_result"
    }
   ],
   "source": [
    "df = s.str.split(\"\\D+\", expand=True).iloc[:,1:]\n",
    "df\n"
   ]
  },
  {
   "cell_type": "code",
   "execution_count": 457,
   "id": "ebefd9f5",
   "metadata": {},
   "outputs": [
    {
     "data": {
      "text/html": [
       "<div>\n",
       "<style scoped>\n",
       "    .dataframe tbody tr th:only-of-type {\n",
       "        vertical-align: middle;\n",
       "    }\n",
       "\n",
       "    .dataframe tbody tr th {\n",
       "        vertical-align: top;\n",
       "    }\n",
       "\n",
       "    .dataframe thead th {\n",
       "        text-align: right;\n",
       "    }\n",
       "</style>\n",
       "<table border=\"1\" class=\"dataframe\">\n",
       "  <thead>\n",
       "    <tr style=\"text-align: right;\">\n",
       "      <th></th>\n",
       "      <th>id</th>\n",
       "      <th>age</th>\n",
       "      <th>salary</th>\n",
       "    </tr>\n",
       "  </thead>\n",
       "  <tbody>\n",
       "    <tr>\n",
       "      <th>0</th>\n",
       "      <td>345</td>\n",
       "      <td>25</td>\n",
       "      <td>1200</td>\n",
       "    </tr>\n",
       "    <tr>\n",
       "      <th>1</th>\n",
       "      <td>346</td>\n",
       "      <td>32</td>\n",
       "      <td>1500</td>\n",
       "    </tr>\n",
       "    <tr>\n",
       "      <th>2</th>\n",
       "      <td>347</td>\n",
       "      <td>28</td>\n",
       "      <td>1400</td>\n",
       "    </tr>\n",
       "  </tbody>\n",
       "</table>\n",
       "</div>"
      ],
      "text/plain": [
       "    id age salary\n",
       "0  345  25   1200\n",
       "1  346  32   1500\n",
       "2  347  28   1400"
      ]
     },
     "execution_count": 457,
     "metadata": {},
     "output_type": "execute_result"
    }
   ],
   "source": [
    "df.columns = [\"id\", \"age\", \"salary\"]\n",
    "df"
   ]
  },
  {
   "cell_type": "code",
   "execution_count": 1,
   "id": "b6ddf448",
   "metadata": {},
   "outputs": [],
   "source": [
    "import numpy as np\n",
    "import pandas as pd\n",
    "import re"
   ]
  },
  {
   "cell_type": "code",
   "execution_count": 2,
   "id": "edc50cc6",
   "metadata": {},
   "outputs": [
    {
     "data": {
      "text/plain": [
       "0    a3aa\n",
       "1    b4aa\n",
       "2    c5aa\n",
       "dtype: object"
      ]
     },
     "execution_count": 2,
     "metadata": {},
     "output_type": "execute_result"
    }
   ],
   "source": [
    "s = pd.Series(['a3aa', 'b4aa', 'c5aa'])\n",
    "s"
   ]
  },
  {
   "cell_type": "code",
   "execution_count": 3,
   "id": "bbd1ac0c",
   "metadata": {},
   "outputs": [
    {
     "data": {
      "text/html": [
       "<div>\n",
       "<style scoped>\n",
       "    .dataframe tbody tr th:only-of-type {\n",
       "        vertical-align: middle;\n",
       "    }\n",
       "\n",
       "    .dataframe tbody tr th {\n",
       "        vertical-align: top;\n",
       "    }\n",
       "\n",
       "    .dataframe thead th {\n",
       "        text-align: right;\n",
       "    }\n",
       "</style>\n",
       "<table border=\"1\" class=\"dataframe\">\n",
       "  <thead>\n",
       "    <tr style=\"text-align: right;\">\n",
       "      <th></th>\n",
       "      <th>0</th>\n",
       "    </tr>\n",
       "  </thead>\n",
       "  <tbody>\n",
       "    <tr>\n",
       "      <th>0</th>\n",
       "      <td>3</td>\n",
       "    </tr>\n",
       "    <tr>\n",
       "      <th>1</th>\n",
       "      <td>4</td>\n",
       "    </tr>\n",
       "    <tr>\n",
       "      <th>2</th>\n",
       "      <td>5</td>\n",
       "    </tr>\n",
       "  </tbody>\n",
       "</table>\n",
       "</div>"
      ],
      "text/plain": [
       "   0\n",
       "0  3\n",
       "1  4\n",
       "2  5"
      ]
     },
     "execution_count": 3,
     "metadata": {},
     "output_type": "execute_result"
    }
   ],
   "source": [
    "s.str.extract(\"(\\d+)\")"
   ]
  },
  {
   "cell_type": "code",
   "execution_count": 4,
   "id": "5f067e14",
   "metadata": {},
   "outputs": [
    {
     "data": {
      "text/html": [
       "<div>\n",
       "<style scoped>\n",
       "    .dataframe tbody tr th:only-of-type {\n",
       "        vertical-align: middle;\n",
       "    }\n",
       "\n",
       "    .dataframe tbody tr th {\n",
       "        vertical-align: top;\n",
       "    }\n",
       "\n",
       "    .dataframe thead th {\n",
       "        text-align: right;\n",
       "    }\n",
       "</style>\n",
       "<table border=\"1\" class=\"dataframe\">\n",
       "  <thead>\n",
       "    <tr style=\"text-align: right;\">\n",
       "      <th></th>\n",
       "      <th>0</th>\n",
       "      <th>1</th>\n",
       "    </tr>\n",
       "  </thead>\n",
       "  <tbody>\n",
       "    <tr>\n",
       "      <th>0</th>\n",
       "      <td>a</td>\n",
       "      <td>aa</td>\n",
       "    </tr>\n",
       "    <tr>\n",
       "      <th>1</th>\n",
       "      <td>b</td>\n",
       "      <td>aa</td>\n",
       "    </tr>\n",
       "    <tr>\n",
       "      <th>2</th>\n",
       "      <td>c</td>\n",
       "      <td>aa</td>\n",
       "    </tr>\n",
       "  </tbody>\n",
       "</table>\n",
       "</div>"
      ],
      "text/plain": [
       "   0   1\n",
       "0  a  aa\n",
       "1  b  aa\n",
       "2  c  aa"
      ]
     },
     "execution_count": 4,
     "metadata": {},
     "output_type": "execute_result"
    }
   ],
   "source": [
    "s.str.extract(\"(\\D)\\d(\\D+)\")"
   ]
  },
  {
   "cell_type": "code",
   "execution_count": 5,
   "id": "94f8bd95",
   "metadata": {},
   "outputs": [
    {
     "data": {
      "text/plain": [
       "0    id:345, age:25, salary:1200\n",
       "1    id:346, age:32, salary:1500\n",
       "2    id:347, age:28, salary:1400\n",
       "dtype: object"
      ]
     },
     "execution_count": 5,
     "metadata": {},
     "output_type": "execute_result"
    }
   ],
   "source": [
    "info = [\"id:345, age:25, salary:1200\", \"id:346, age:32, salary:1500\", \"id:347, age:28, salary:1400\"]\n",
    "s = pd.Series(info)\n",
    "s"
   ]
  },
  {
   "cell_type": "code",
   "execution_count": 7,
   "id": "be654838",
   "metadata": {},
   "outputs": [
    {
     "data": {
      "text/html": [
       "<div>\n",
       "<style scoped>\n",
       "    .dataframe tbody tr th:only-of-type {\n",
       "        vertical-align: middle;\n",
       "    }\n",
       "\n",
       "    .dataframe tbody tr th {\n",
       "        vertical-align: top;\n",
       "    }\n",
       "\n",
       "    .dataframe thead th {\n",
       "        text-align: right;\n",
       "    }\n",
       "</style>\n",
       "<table border=\"1\" class=\"dataframe\">\n",
       "  <thead>\n",
       "    <tr style=\"text-align: right;\">\n",
       "      <th></th>\n",
       "      <th>0</th>\n",
       "      <th>1</th>\n",
       "      <th>2</th>\n",
       "    </tr>\n",
       "  </thead>\n",
       "  <tbody>\n",
       "    <tr>\n",
       "      <th>0</th>\n",
       "      <td>345</td>\n",
       "      <td>25</td>\n",
       "      <td>1200</td>\n",
       "    </tr>\n",
       "    <tr>\n",
       "      <th>1</th>\n",
       "      <td>346</td>\n",
       "      <td>32</td>\n",
       "      <td>1500</td>\n",
       "    </tr>\n",
       "    <tr>\n",
       "      <th>2</th>\n",
       "      <td>347</td>\n",
       "      <td>28</td>\n",
       "      <td>1400</td>\n",
       "    </tr>\n",
       "  </tbody>\n",
       "</table>\n",
       "</div>"
      ],
      "text/plain": [
       "     0   1     2\n",
       "0  345  25  1200\n",
       "1  346  32  1500\n",
       "2  347  28  1400"
      ]
     },
     "execution_count": 7,
     "metadata": {},
     "output_type": "execute_result"
    }
   ],
   "source": [
    "df = s.str.extract(\"(\\d+)\\D+(\\d+)\\D+(\\d+)\")\n",
    "df"
   ]
  },
  {
   "cell_type": "code",
   "execution_count": 8,
   "id": "a9dfd78d",
   "metadata": {},
   "outputs": [
    {
     "data": {
      "text/html": [
       "<div>\n",
       "<style scoped>\n",
       "    .dataframe tbody tr th:only-of-type {\n",
       "        vertical-align: middle;\n",
       "    }\n",
       "\n",
       "    .dataframe tbody tr th {\n",
       "        vertical-align: top;\n",
       "    }\n",
       "\n",
       "    .dataframe thead th {\n",
       "        text-align: right;\n",
       "    }\n",
       "</style>\n",
       "<table border=\"1\" class=\"dataframe\">\n",
       "  <thead>\n",
       "    <tr style=\"text-align: right;\">\n",
       "      <th></th>\n",
       "      <th>id</th>\n",
       "      <th>age</th>\n",
       "      <th>salary</th>\n",
       "    </tr>\n",
       "  </thead>\n",
       "  <tbody>\n",
       "    <tr>\n",
       "      <th>0</th>\n",
       "      <td>345</td>\n",
       "      <td>25</td>\n",
       "      <td>1200</td>\n",
       "    </tr>\n",
       "    <tr>\n",
       "      <th>1</th>\n",
       "      <td>346</td>\n",
       "      <td>32</td>\n",
       "      <td>1500</td>\n",
       "    </tr>\n",
       "    <tr>\n",
       "      <th>2</th>\n",
       "      <td>347</td>\n",
       "      <td>28</td>\n",
       "      <td>1400</td>\n",
       "    </tr>\n",
       "  </tbody>\n",
       "</table>\n",
       "</div>"
      ],
      "text/plain": [
       "    id age salary\n",
       "0  345  25   1200\n",
       "1  346  32   1500\n",
       "2  347  28   1400"
      ]
     },
     "execution_count": 8,
     "metadata": {},
     "output_type": "execute_result"
    }
   ],
   "source": [
    "df.columns = [\"id\", \"age\", \"salary\"]\n",
    "df"
   ]
  },
  {
   "cell_type": "code",
   "execution_count": 9,
   "id": "bce27a52",
   "metadata": {},
   "outputs": [
    {
     "data": {
      "text/plain": [
       "0       40 l/100 km (comb)\n",
       "1       38 l/100 km (comb)\n",
       "2      6.4 l/100 km (comb)\n",
       "3     8.3 kg/100 km (comb)\n",
       "4     5.1 kg/100 km (comb)\n",
       "5      5.4 l/100 km (comb)\n",
       "6      6.7 l/100 km (comb)\n",
       "7      6.2 l/100 km (comb)\n",
       "8      7.3 l/100 km (comb)\n",
       "9      6.3 l/100 km (comb)\n",
       "10     5.7 l/100 km (comb)\n",
       "11     6.1 l/100 km (comb)\n",
       "12     6.8 l/100 km (comb)\n",
       "13     7.5 l/100 km (comb)\n",
       "14     7.4 l/100 km (comb)\n",
       "15    3.6 kg/100 km (comb)\n",
       "16       0 l/100 km (comb)\n",
       "17     7.8 l/100 km (comb)\n",
       "dtype: object"
      ]
     },
     "execution_count": 9,
     "metadata": {},
     "output_type": "execute_result"
    }
   ],
   "source": [
    "s= pd.Series(['40 l/100 km (comb)', \n",
    "        '38 l/100 km (comb)', '6.4 l/100 km (comb)',\n",
    "       '8.3 kg/100 km (comb)', '5.1 kg/100 km (comb)',\n",
    "       '5.4 l/100 km (comb)', '6.7 l/100 km (comb)',\n",
    "       '6.2 l/100 km (comb)', '7.3 l/100 km (comb)',\n",
    "       '6.3 l/100 km (comb)', '5.7 l/100 km (comb)',\n",
    "       '6.1 l/100 km (comb)', '6.8 l/100 km (comb)',\n",
    "       '7.5 l/100 km (comb)', '7.4 l/100 km (comb)',\n",
    "       '3.6 kg/100 km (comb)', '0 l/100 km (comb)', \n",
    "       '7.8 l/100 km (comb)'])\n",
    "s"
   ]
  },
  {
   "cell_type": "code",
   "execution_count": 25,
   "id": "7a3cfbce",
   "metadata": {},
   "outputs": [
    {
     "data": {
      "text/html": [
       "<div>\n",
       "<style scoped>\n",
       "    .dataframe tbody tr th:only-of-type {\n",
       "        vertical-align: middle;\n",
       "    }\n",
       "\n",
       "    .dataframe tbody tr th {\n",
       "        vertical-align: top;\n",
       "    }\n",
       "\n",
       "    .dataframe thead th {\n",
       "        text-align: right;\n",
       "    }\n",
       "</style>\n",
       "<table border=\"1\" class=\"dataframe\">\n",
       "  <thead>\n",
       "    <tr style=\"text-align: right;\">\n",
       "      <th></th>\n",
       "      <th>0</th>\n",
       "    </tr>\n",
       "  </thead>\n",
       "  <tbody>\n",
       "    <tr>\n",
       "      <th>0</th>\n",
       "      <td>40</td>\n",
       "    </tr>\n",
       "    <tr>\n",
       "      <th>1</th>\n",
       "      <td>38</td>\n",
       "    </tr>\n",
       "    <tr>\n",
       "      <th>2</th>\n",
       "      <td>6</td>\n",
       "    </tr>\n",
       "    <tr>\n",
       "      <th>3</th>\n",
       "      <td>8</td>\n",
       "    </tr>\n",
       "    <tr>\n",
       "      <th>4</th>\n",
       "      <td>5</td>\n",
       "    </tr>\n",
       "    <tr>\n",
       "      <th>5</th>\n",
       "      <td>5</td>\n",
       "    </tr>\n",
       "    <tr>\n",
       "      <th>6</th>\n",
       "      <td>6</td>\n",
       "    </tr>\n",
       "    <tr>\n",
       "      <th>7</th>\n",
       "      <td>6</td>\n",
       "    </tr>\n",
       "    <tr>\n",
       "      <th>8</th>\n",
       "      <td>7</td>\n",
       "    </tr>\n",
       "    <tr>\n",
       "      <th>9</th>\n",
       "      <td>6</td>\n",
       "    </tr>\n",
       "    <tr>\n",
       "      <th>10</th>\n",
       "      <td>5</td>\n",
       "    </tr>\n",
       "    <tr>\n",
       "      <th>11</th>\n",
       "      <td>6</td>\n",
       "    </tr>\n",
       "    <tr>\n",
       "      <th>12</th>\n",
       "      <td>6</td>\n",
       "    </tr>\n",
       "    <tr>\n",
       "      <th>13</th>\n",
       "      <td>7</td>\n",
       "    </tr>\n",
       "    <tr>\n",
       "      <th>14</th>\n",
       "      <td>7</td>\n",
       "    </tr>\n",
       "    <tr>\n",
       "      <th>15</th>\n",
       "      <td>3</td>\n",
       "    </tr>\n",
       "    <tr>\n",
       "      <th>16</th>\n",
       "      <td>0</td>\n",
       "    </tr>\n",
       "    <tr>\n",
       "      <th>17</th>\n",
       "      <td>7</td>\n",
       "    </tr>\n",
       "  </tbody>\n",
       "</table>\n",
       "</div>"
      ],
      "text/plain": [
       "     0\n",
       "0   40\n",
       "1   38\n",
       "2    6\n",
       "3    8\n",
       "4    5\n",
       "5    5\n",
       "6    6\n",
       "7    6\n",
       "8    7\n",
       "9    6\n",
       "10   5\n",
       "11   6\n",
       "12   6\n",
       "13   7\n",
       "14   7\n",
       "15   3\n",
       "16   0\n",
       "17   7"
      ]
     },
     "execution_count": 25,
     "metadata": {},
     "output_type": "execute_result"
    }
   ],
   "source": [
    "s.str.extract(\"(\\d+|\\d+\\.\\d+)\")"
   ]
  },
  {
   "cell_type": "code",
   "execution_count": 26,
   "id": "6a891aff",
   "metadata": {},
   "outputs": [
    {
     "data": {
      "text/html": [
       "<div>\n",
       "<style scoped>\n",
       "    .dataframe tbody tr th:only-of-type {\n",
       "        vertical-align: middle;\n",
       "    }\n",
       "\n",
       "    .dataframe tbody tr th {\n",
       "        vertical-align: top;\n",
       "    }\n",
       "\n",
       "    .dataframe thead th {\n",
       "        text-align: right;\n",
       "    }\n",
       "</style>\n",
       "<table border=\"1\" class=\"dataframe\">\n",
       "  <thead>\n",
       "    <tr style=\"text-align: right;\">\n",
       "      <th></th>\n",
       "      <th>0</th>\n",
       "    </tr>\n",
       "  </thead>\n",
       "  <tbody>\n",
       "    <tr>\n",
       "      <th>0</th>\n",
       "      <td>40</td>\n",
       "    </tr>\n",
       "    <tr>\n",
       "      <th>1</th>\n",
       "      <td>38</td>\n",
       "    </tr>\n",
       "    <tr>\n",
       "      <th>2</th>\n",
       "      <td>6.4</td>\n",
       "    </tr>\n",
       "    <tr>\n",
       "      <th>3</th>\n",
       "      <td>8.3</td>\n",
       "    </tr>\n",
       "    <tr>\n",
       "      <th>4</th>\n",
       "      <td>5.1</td>\n",
       "    </tr>\n",
       "    <tr>\n",
       "      <th>5</th>\n",
       "      <td>5.4</td>\n",
       "    </tr>\n",
       "    <tr>\n",
       "      <th>6</th>\n",
       "      <td>6.7</td>\n",
       "    </tr>\n",
       "    <tr>\n",
       "      <th>7</th>\n",
       "      <td>6.2</td>\n",
       "    </tr>\n",
       "    <tr>\n",
       "      <th>8</th>\n",
       "      <td>7.3</td>\n",
       "    </tr>\n",
       "    <tr>\n",
       "      <th>9</th>\n",
       "      <td>6.3</td>\n",
       "    </tr>\n",
       "    <tr>\n",
       "      <th>10</th>\n",
       "      <td>5.7</td>\n",
       "    </tr>\n",
       "    <tr>\n",
       "      <th>11</th>\n",
       "      <td>6.1</td>\n",
       "    </tr>\n",
       "    <tr>\n",
       "      <th>12</th>\n",
       "      <td>6.8</td>\n",
       "    </tr>\n",
       "    <tr>\n",
       "      <th>13</th>\n",
       "      <td>7.5</td>\n",
       "    </tr>\n",
       "    <tr>\n",
       "      <th>14</th>\n",
       "      <td>7.4</td>\n",
       "    </tr>\n",
       "    <tr>\n",
       "      <th>15</th>\n",
       "      <td>3.6</td>\n",
       "    </tr>\n",
       "    <tr>\n",
       "      <th>16</th>\n",
       "      <td>0</td>\n",
       "    </tr>\n",
       "    <tr>\n",
       "      <th>17</th>\n",
       "      <td>7.8</td>\n",
       "    </tr>\n",
       "  </tbody>\n",
       "</table>\n",
       "</div>"
      ],
      "text/plain": [
       "      0\n",
       "0    40\n",
       "1    38\n",
       "2   6.4\n",
       "3   8.3\n",
       "4   5.1\n",
       "5   5.4\n",
       "6   6.7\n",
       "7   6.2\n",
       "8   7.3\n",
       "9   6.3\n",
       "10  5.7\n",
       "11  6.1\n",
       "12  6.8\n",
       "13  7.5\n",
       "14  7.4\n",
       "15  3.6\n",
       "16    0\n",
       "17  7.8"
      ]
     },
     "execution_count": 26,
     "metadata": {},
     "output_type": "execute_result"
    }
   ],
   "source": [
    "s.str.extract(\"(\\d+\\.\\d+|\\d+)\")"
   ]
  },
  {
   "cell_type": "code",
   "execution_count": 27,
   "id": "c64623b4",
   "metadata": {},
   "outputs": [
    {
     "data": {
      "text/html": [
       "<div>\n",
       "<style scoped>\n",
       "    .dataframe tbody tr th:only-of-type {\n",
       "        vertical-align: middle;\n",
       "    }\n",
       "\n",
       "    .dataframe tbody tr th {\n",
       "        vertical-align: top;\n",
       "    }\n",
       "\n",
       "    .dataframe thead th {\n",
       "        text-align: right;\n",
       "    }\n",
       "</style>\n",
       "<table border=\"1\" class=\"dataframe\">\n",
       "  <thead>\n",
       "    <tr style=\"text-align: right;\">\n",
       "      <th></th>\n",
       "      <th>0</th>\n",
       "    </tr>\n",
       "  </thead>\n",
       "  <tbody>\n",
       "    <tr>\n",
       "      <th>0</th>\n",
       "      <td>40</td>\n",
       "    </tr>\n",
       "    <tr>\n",
       "      <th>1</th>\n",
       "      <td>38</td>\n",
       "    </tr>\n",
       "    <tr>\n",
       "      <th>2</th>\n",
       "      <td>6.4</td>\n",
       "    </tr>\n",
       "    <tr>\n",
       "      <th>3</th>\n",
       "      <td>8.3</td>\n",
       "    </tr>\n",
       "    <tr>\n",
       "      <th>4</th>\n",
       "      <td>5.1</td>\n",
       "    </tr>\n",
       "    <tr>\n",
       "      <th>5</th>\n",
       "      <td>5.4</td>\n",
       "    </tr>\n",
       "    <tr>\n",
       "      <th>6</th>\n",
       "      <td>6.7</td>\n",
       "    </tr>\n",
       "    <tr>\n",
       "      <th>7</th>\n",
       "      <td>6.2</td>\n",
       "    </tr>\n",
       "    <tr>\n",
       "      <th>8</th>\n",
       "      <td>7.3</td>\n",
       "    </tr>\n",
       "    <tr>\n",
       "      <th>9</th>\n",
       "      <td>6.3</td>\n",
       "    </tr>\n",
       "    <tr>\n",
       "      <th>10</th>\n",
       "      <td>5.7</td>\n",
       "    </tr>\n",
       "    <tr>\n",
       "      <th>11</th>\n",
       "      <td>6.1</td>\n",
       "    </tr>\n",
       "    <tr>\n",
       "      <th>12</th>\n",
       "      <td>6.8</td>\n",
       "    </tr>\n",
       "    <tr>\n",
       "      <th>13</th>\n",
       "      <td>7.5</td>\n",
       "    </tr>\n",
       "    <tr>\n",
       "      <th>14</th>\n",
       "      <td>7.4</td>\n",
       "    </tr>\n",
       "    <tr>\n",
       "      <th>15</th>\n",
       "      <td>3.6</td>\n",
       "    </tr>\n",
       "    <tr>\n",
       "      <th>16</th>\n",
       "      <td>0</td>\n",
       "    </tr>\n",
       "    <tr>\n",
       "      <th>17</th>\n",
       "      <td>7.8</td>\n",
       "    </tr>\n",
       "  </tbody>\n",
       "</table>\n",
       "</div>"
      ],
      "text/plain": [
       "      0\n",
       "0    40\n",
       "1    38\n",
       "2   6.4\n",
       "3   8.3\n",
       "4   5.1\n",
       "5   5.4\n",
       "6   6.7\n",
       "7   6.2\n",
       "8   7.3\n",
       "9   6.3\n",
       "10  5.7\n",
       "11  6.1\n",
       "12  6.8\n",
       "13  7.5\n",
       "14  7.4\n",
       "15  3.6\n",
       "16    0\n",
       "17  7.8"
      ]
     },
     "execution_count": 27,
     "metadata": {},
     "output_type": "execute_result"
    }
   ],
   "source": [
    "s.str.extract(\"(\\d*\\.?\\d*)\")"
   ]
  },
  {
   "cell_type": "code",
   "execution_count": 29,
   "id": "c778f633",
   "metadata": {},
   "outputs": [
    {
     "data": {
      "text/html": [
       "<div>\n",
       "<style scoped>\n",
       "    .dataframe tbody tr th:only-of-type {\n",
       "        vertical-align: middle;\n",
       "    }\n",
       "\n",
       "    .dataframe tbody tr th {\n",
       "        vertical-align: top;\n",
       "    }\n",
       "\n",
       "    .dataframe thead th {\n",
       "        text-align: right;\n",
       "    }\n",
       "</style>\n",
       "<table border=\"1\" class=\"dataframe\">\n",
       "  <thead>\n",
       "    <tr style=\"text-align: right;\">\n",
       "      <th></th>\n",
       "      <th>0</th>\n",
       "    </tr>\n",
       "  </thead>\n",
       "  <tbody>\n",
       "    <tr>\n",
       "      <th>0</th>\n",
       "      <td>40</td>\n",
       "    </tr>\n",
       "    <tr>\n",
       "      <th>1</th>\n",
       "      <td>38</td>\n",
       "    </tr>\n",
       "    <tr>\n",
       "      <th>2</th>\n",
       "      <td>6.4</td>\n",
       "    </tr>\n",
       "    <tr>\n",
       "      <th>3</th>\n",
       "      <td>8.3</td>\n",
       "    </tr>\n",
       "    <tr>\n",
       "      <th>4</th>\n",
       "      <td>5.1</td>\n",
       "    </tr>\n",
       "    <tr>\n",
       "      <th>5</th>\n",
       "      <td>5.4</td>\n",
       "    </tr>\n",
       "    <tr>\n",
       "      <th>6</th>\n",
       "      <td>6.7</td>\n",
       "    </tr>\n",
       "    <tr>\n",
       "      <th>7</th>\n",
       "      <td>6.2</td>\n",
       "    </tr>\n",
       "    <tr>\n",
       "      <th>8</th>\n",
       "      <td>7.3</td>\n",
       "    </tr>\n",
       "    <tr>\n",
       "      <th>9</th>\n",
       "      <td>6.3</td>\n",
       "    </tr>\n",
       "    <tr>\n",
       "      <th>10</th>\n",
       "      <td>5.7</td>\n",
       "    </tr>\n",
       "    <tr>\n",
       "      <th>11</th>\n",
       "      <td>6.1</td>\n",
       "    </tr>\n",
       "    <tr>\n",
       "      <th>12</th>\n",
       "      <td>6.8</td>\n",
       "    </tr>\n",
       "    <tr>\n",
       "      <th>13</th>\n",
       "      <td>7.5</td>\n",
       "    </tr>\n",
       "    <tr>\n",
       "      <th>14</th>\n",
       "      <td>7.4</td>\n",
       "    </tr>\n",
       "    <tr>\n",
       "      <th>15</th>\n",
       "      <td>3.6</td>\n",
       "    </tr>\n",
       "    <tr>\n",
       "      <th>16</th>\n",
       "      <td>0</td>\n",
       "    </tr>\n",
       "    <tr>\n",
       "      <th>17</th>\n",
       "      <td>7.8</td>\n",
       "    </tr>\n",
       "  </tbody>\n",
       "</table>\n",
       "</div>"
      ],
      "text/plain": [
       "      0\n",
       "0    40\n",
       "1    38\n",
       "2   6.4\n",
       "3   8.3\n",
       "4   5.1\n",
       "5   5.4\n",
       "6   6.7\n",
       "7   6.2\n",
       "8   7.3\n",
       "9   6.3\n",
       "10  5.7\n",
       "11  6.1\n",
       "12  6.8\n",
       "13  7.5\n",
       "14  7.4\n",
       "15  3.6\n",
       "16    0\n",
       "17  7.8"
      ]
     },
     "execution_count": 29,
     "metadata": {},
     "output_type": "execute_result"
    }
   ],
   "source": [
    "s.str.extract(\"(\\S+)\")"
   ]
  },
  {
   "cell_type": "code",
   "execution_count": 30,
   "id": "e6157730",
   "metadata": {},
   "outputs": [
    {
     "data": {
      "text/plain": [
       "0       40 l/100 km (comb)\n",
       "1       38 l/100 km (comb)\n",
       "2      6.4 l/100 km (comb)\n",
       "3     8.3 kg/100 km (comb)\n",
       "4     5.1 kg/100 km (comb)\n",
       "5      5.4 l/100 km (comb)\n",
       "6      6.7 l/100 km (comb)\n",
       "7      6.2 l/100 km (comb)\n",
       "8      7.3 l/100 km (comb)\n",
       "9      6.3 l/100 km (comb)\n",
       "10     5.7 l/100 km (comb)\n",
       "11     6.1 l/100 km (comb)\n",
       "12     6.8 l/100 km (comb)\n",
       "13     7.5 l/100 km (comb)\n",
       "14     7.4 l/100 km (comb)\n",
       "15    3.6 kg/100 km (comb)\n",
       "16       0 l/100 km (comb)\n",
       "17     7.8 l/100 km (comb)\n",
       "dtype: object"
      ]
     },
     "execution_count": 30,
     "metadata": {},
     "output_type": "execute_result"
    }
   ],
   "source": [
    "s"
   ]
  },
  {
   "cell_type": "code",
   "execution_count": 38,
   "id": "c861647f",
   "metadata": {},
   "outputs": [
    {
     "data": {
      "text/html": [
       "<div>\n",
       "<style scoped>\n",
       "    .dataframe tbody tr th:only-of-type {\n",
       "        vertical-align: middle;\n",
       "    }\n",
       "\n",
       "    .dataframe tbody tr th {\n",
       "        vertical-align: top;\n",
       "    }\n",
       "\n",
       "    .dataframe thead th {\n",
       "        text-align: right;\n",
       "    }\n",
       "</style>\n",
       "<table border=\"1\" class=\"dataframe\">\n",
       "  <thead>\n",
       "    <tr style=\"text-align: right;\">\n",
       "      <th></th>\n",
       "      <th>0</th>\n",
       "      <th>1</th>\n",
       "    </tr>\n",
       "  </thead>\n",
       "  <tbody>\n",
       "    <tr>\n",
       "      <th>0</th>\n",
       "      <td>40</td>\n",
       "      <td>100</td>\n",
       "    </tr>\n",
       "    <tr>\n",
       "      <th>1</th>\n",
       "      <td>38</td>\n",
       "      <td>100</td>\n",
       "    </tr>\n",
       "    <tr>\n",
       "      <th>2</th>\n",
       "      <td>6.4</td>\n",
       "      <td>100</td>\n",
       "    </tr>\n",
       "    <tr>\n",
       "      <th>3</th>\n",
       "      <td>8.3</td>\n",
       "      <td>100</td>\n",
       "    </tr>\n",
       "    <tr>\n",
       "      <th>4</th>\n",
       "      <td>5.1</td>\n",
       "      <td>100</td>\n",
       "    </tr>\n",
       "    <tr>\n",
       "      <th>5</th>\n",
       "      <td>5.4</td>\n",
       "      <td>100</td>\n",
       "    </tr>\n",
       "    <tr>\n",
       "      <th>6</th>\n",
       "      <td>6.7</td>\n",
       "      <td>100</td>\n",
       "    </tr>\n",
       "    <tr>\n",
       "      <th>7</th>\n",
       "      <td>6.2</td>\n",
       "      <td>100</td>\n",
       "    </tr>\n",
       "    <tr>\n",
       "      <th>8</th>\n",
       "      <td>7.3</td>\n",
       "      <td>100</td>\n",
       "    </tr>\n",
       "    <tr>\n",
       "      <th>9</th>\n",
       "      <td>6.3</td>\n",
       "      <td>100</td>\n",
       "    </tr>\n",
       "    <tr>\n",
       "      <th>10</th>\n",
       "      <td>5.7</td>\n",
       "      <td>100</td>\n",
       "    </tr>\n",
       "    <tr>\n",
       "      <th>11</th>\n",
       "      <td>6.1</td>\n",
       "      <td>100</td>\n",
       "    </tr>\n",
       "    <tr>\n",
       "      <th>12</th>\n",
       "      <td>6.8</td>\n",
       "      <td>100</td>\n",
       "    </tr>\n",
       "    <tr>\n",
       "      <th>13</th>\n",
       "      <td>7.5</td>\n",
       "      <td>100</td>\n",
       "    </tr>\n",
       "    <tr>\n",
       "      <th>14</th>\n",
       "      <td>7.4</td>\n",
       "      <td>100</td>\n",
       "    </tr>\n",
       "    <tr>\n",
       "      <th>15</th>\n",
       "      <td>3.6</td>\n",
       "      <td>100</td>\n",
       "    </tr>\n",
       "    <tr>\n",
       "      <th>16</th>\n",
       "      <td>0</td>\n",
       "      <td>100</td>\n",
       "    </tr>\n",
       "    <tr>\n",
       "      <th>17</th>\n",
       "      <td>7.8</td>\n",
       "      <td>100</td>\n",
       "    </tr>\n",
       "  </tbody>\n",
       "</table>\n",
       "</div>"
      ],
      "text/plain": [
       "      0    1\n",
       "0    40  100\n",
       "1    38  100\n",
       "2   6.4  100\n",
       "3   8.3  100\n",
       "4   5.1  100\n",
       "5   5.4  100\n",
       "6   6.7  100\n",
       "7   6.2  100\n",
       "8   7.3  100\n",
       "9   6.3  100\n",
       "10  5.7  100\n",
       "11  6.1  100\n",
       "12  6.8  100\n",
       "13  7.5  100\n",
       "14  7.4  100\n",
       "15  3.6  100\n",
       "16    0  100\n",
       "17  7.8  100"
      ]
     },
     "execution_count": 38,
     "metadata": {},
     "output_type": "execute_result"
    }
   ],
   "source": [
    "s.str.extract(\"(\\S+)\\D+(\\d+)\")"
   ]
  },
  {
   "cell_type": "code",
   "execution_count": 39,
   "id": "2297f5cb",
   "metadata": {},
   "outputs": [
    {
     "data": {
      "text/plain": [
       "0     06/2020\\n\\n4.9 l/100 km (comb)\n",
       "1     11/2020\\n\\n166 g CO2/km (comb)\n",
       "2     10/2019\\n\\n5.3 l/100 km (comb)\n",
       "3     05/2022\\n\\n6.3 l/100 km (comb)\n",
       "4     07/2019\\n\\n128 g CO2/km (comb)\n",
       "5     06/2022\\n\\n112 g CO2/km (comb)\n",
       "6     01/2022\\n\\n5.8 l/100 km (comb)\n",
       "7     11/2020\\n\\n106 g CO2/km (comb)\n",
       "8     04/2019\\n\\n105 g CO2/km (comb)\n",
       "9     08/2020\\n\\n133 g CO2/km (comb)\n",
       "10    04/2022\\n\\n133 g CO2/km (comb)\n",
       "dtype: object"
      ]
     },
     "execution_count": 39,
     "metadata": {},
     "output_type": "execute_result"
    }
   ],
   "source": [
    "s = pd.Series(['06/2020\\n\\n4.9 l/100 km (comb)',\n",
    "'11/2020\\n\\n166 g CO2/km (comb)',                                 \n",
    "'10/2019\\n\\n5.3 l/100 km (comb)',\n",
    "'05/2022\\n\\n6.3 l/100 km (comb)',\n",
    "'07/2019\\n\\n128 g CO2/km (comb)',\n",
    "'06/2022\\n\\n112 g CO2/km (comb)',                                                 \n",
    "'01/2022\\n\\n5.8 l/100 km (comb)',\n",
    "'11/2020\\n\\n106 g CO2/km (comb)',\n",
    "'04/2019\\n\\n105 g CO2/km (comb)',\n",
    "'08/2020\\n\\n133 g CO2/km (comb)',\n",
    "'04/2022\\n\\n133 g CO2/km (comb)'])\n",
    "s"
   ]
  },
  {
   "cell_type": "code",
   "execution_count": 40,
   "id": "a9c30f38",
   "metadata": {},
   "outputs": [
    {
     "data": {
      "text/html": [
       "<div>\n",
       "<style scoped>\n",
       "    .dataframe tbody tr th:only-of-type {\n",
       "        vertical-align: middle;\n",
       "    }\n",
       "\n",
       "    .dataframe tbody tr th {\n",
       "        vertical-align: top;\n",
       "    }\n",
       "\n",
       "    .dataframe thead th {\n",
       "        text-align: right;\n",
       "    }\n",
       "</style>\n",
       "<table border=\"1\" class=\"dataframe\">\n",
       "  <thead>\n",
       "    <tr style=\"text-align: right;\">\n",
       "      <th></th>\n",
       "      <th>0</th>\n",
       "      <th>1</th>\n",
       "    </tr>\n",
       "  </thead>\n",
       "  <tbody>\n",
       "    <tr>\n",
       "      <th>0</th>\n",
       "      <td>06</td>\n",
       "      <td>2020</td>\n",
       "    </tr>\n",
       "    <tr>\n",
       "      <th>1</th>\n",
       "      <td>11</td>\n",
       "      <td>2020</td>\n",
       "    </tr>\n",
       "    <tr>\n",
       "      <th>2</th>\n",
       "      <td>10</td>\n",
       "      <td>2019</td>\n",
       "    </tr>\n",
       "    <tr>\n",
       "      <th>3</th>\n",
       "      <td>05</td>\n",
       "      <td>2022</td>\n",
       "    </tr>\n",
       "    <tr>\n",
       "      <th>4</th>\n",
       "      <td>07</td>\n",
       "      <td>2019</td>\n",
       "    </tr>\n",
       "    <tr>\n",
       "      <th>5</th>\n",
       "      <td>06</td>\n",
       "      <td>2022</td>\n",
       "    </tr>\n",
       "    <tr>\n",
       "      <th>6</th>\n",
       "      <td>01</td>\n",
       "      <td>2022</td>\n",
       "    </tr>\n",
       "    <tr>\n",
       "      <th>7</th>\n",
       "      <td>11</td>\n",
       "      <td>2020</td>\n",
       "    </tr>\n",
       "    <tr>\n",
       "      <th>8</th>\n",
       "      <td>04</td>\n",
       "      <td>2019</td>\n",
       "    </tr>\n",
       "    <tr>\n",
       "      <th>9</th>\n",
       "      <td>08</td>\n",
       "      <td>2020</td>\n",
       "    </tr>\n",
       "    <tr>\n",
       "      <th>10</th>\n",
       "      <td>04</td>\n",
       "      <td>2022</td>\n",
       "    </tr>\n",
       "  </tbody>\n",
       "</table>\n",
       "</div>"
      ],
      "text/plain": [
       "     0     1\n",
       "0   06  2020\n",
       "1   11  2020\n",
       "2   10  2019\n",
       "3   05  2022\n",
       "4   07  2019\n",
       "5   06  2022\n",
       "6   01  2022\n",
       "7   11  2020\n",
       "8   04  2019\n",
       "9   08  2020\n",
       "10  04  2022"
      ]
     },
     "execution_count": 40,
     "metadata": {},
     "output_type": "execute_result"
    }
   ],
   "source": [
    "s.str.extract(\"(\\d+)/(\\d+)\")"
   ]
  },
  {
   "cell_type": "code",
   "execution_count": 41,
   "id": "8e8d58f0",
   "metadata": {},
   "outputs": [
    {
     "data": {
      "text/html": [
       "<div>\n",
       "<style scoped>\n",
       "    .dataframe tbody tr th:only-of-type {\n",
       "        vertical-align: middle;\n",
       "    }\n",
       "\n",
       "    .dataframe tbody tr th {\n",
       "        vertical-align: top;\n",
       "    }\n",
       "\n",
       "    .dataframe thead th {\n",
       "        text-align: right;\n",
       "    }\n",
       "</style>\n",
       "<table border=\"1\" class=\"dataframe\">\n",
       "  <thead>\n",
       "    <tr style=\"text-align: right;\">\n",
       "      <th></th>\n",
       "      <th>0</th>\n",
       "      <th>1</th>\n",
       "    </tr>\n",
       "  </thead>\n",
       "  <tbody>\n",
       "    <tr>\n",
       "      <th>0</th>\n",
       "      <td>06</td>\n",
       "      <td>2020</td>\n",
       "    </tr>\n",
       "    <tr>\n",
       "      <th>1</th>\n",
       "      <td>11</td>\n",
       "      <td>2020</td>\n",
       "    </tr>\n",
       "    <tr>\n",
       "      <th>2</th>\n",
       "      <td>10</td>\n",
       "      <td>2019</td>\n",
       "    </tr>\n",
       "    <tr>\n",
       "      <th>3</th>\n",
       "      <td>05</td>\n",
       "      <td>2022</td>\n",
       "    </tr>\n",
       "    <tr>\n",
       "      <th>4</th>\n",
       "      <td>07</td>\n",
       "      <td>2019</td>\n",
       "    </tr>\n",
       "    <tr>\n",
       "      <th>5</th>\n",
       "      <td>06</td>\n",
       "      <td>2022</td>\n",
       "    </tr>\n",
       "    <tr>\n",
       "      <th>6</th>\n",
       "      <td>01</td>\n",
       "      <td>2022</td>\n",
       "    </tr>\n",
       "    <tr>\n",
       "      <th>7</th>\n",
       "      <td>11</td>\n",
       "      <td>2020</td>\n",
       "    </tr>\n",
       "    <tr>\n",
       "      <th>8</th>\n",
       "      <td>04</td>\n",
       "      <td>2019</td>\n",
       "    </tr>\n",
       "    <tr>\n",
       "      <th>9</th>\n",
       "      <td>08</td>\n",
       "      <td>2020</td>\n",
       "    </tr>\n",
       "    <tr>\n",
       "      <th>10</th>\n",
       "      <td>04</td>\n",
       "      <td>2022</td>\n",
       "    </tr>\n",
       "  </tbody>\n",
       "</table>\n",
       "</div>"
      ],
      "text/plain": [
       "     0     1\n",
       "0   06  2020\n",
       "1   11  2020\n",
       "2   10  2019\n",
       "3   05  2022\n",
       "4   07  2019\n",
       "5   06  2022\n",
       "6   01  2022\n",
       "7   11  2020\n",
       "8   04  2019\n",
       "9   08  2020\n",
       "10  04  2022"
      ]
     },
     "execution_count": 41,
     "metadata": {},
     "output_type": "execute_result"
    }
   ],
   "source": [
    "df = s.str.extract(\"(\\d+)/(\\d+)\")\n",
    "df"
   ]
  },
  {
   "cell_type": "code",
   "execution_count": 42,
   "id": "d31e8eab",
   "metadata": {},
   "outputs": [
    {
     "data": {
      "text/html": [
       "<div>\n",
       "<style scoped>\n",
       "    .dataframe tbody tr th:only-of-type {\n",
       "        vertical-align: middle;\n",
       "    }\n",
       "\n",
       "    .dataframe tbody tr th {\n",
       "        vertical-align: top;\n",
       "    }\n",
       "\n",
       "    .dataframe thead th {\n",
       "        text-align: right;\n",
       "    }\n",
       "</style>\n",
       "<table border=\"1\" class=\"dataframe\">\n",
       "  <thead>\n",
       "    <tr style=\"text-align: right;\">\n",
       "      <th></th>\n",
       "      <th>month</th>\n",
       "      <th>year</th>\n",
       "    </tr>\n",
       "  </thead>\n",
       "  <tbody>\n",
       "    <tr>\n",
       "      <th>0</th>\n",
       "      <td>06</td>\n",
       "      <td>2020</td>\n",
       "    </tr>\n",
       "    <tr>\n",
       "      <th>1</th>\n",
       "      <td>11</td>\n",
       "      <td>2020</td>\n",
       "    </tr>\n",
       "    <tr>\n",
       "      <th>2</th>\n",
       "      <td>10</td>\n",
       "      <td>2019</td>\n",
       "    </tr>\n",
       "    <tr>\n",
       "      <th>3</th>\n",
       "      <td>05</td>\n",
       "      <td>2022</td>\n",
       "    </tr>\n",
       "    <tr>\n",
       "      <th>4</th>\n",
       "      <td>07</td>\n",
       "      <td>2019</td>\n",
       "    </tr>\n",
       "    <tr>\n",
       "      <th>5</th>\n",
       "      <td>06</td>\n",
       "      <td>2022</td>\n",
       "    </tr>\n",
       "    <tr>\n",
       "      <th>6</th>\n",
       "      <td>01</td>\n",
       "      <td>2022</td>\n",
       "    </tr>\n",
       "    <tr>\n",
       "      <th>7</th>\n",
       "      <td>11</td>\n",
       "      <td>2020</td>\n",
       "    </tr>\n",
       "    <tr>\n",
       "      <th>8</th>\n",
       "      <td>04</td>\n",
       "      <td>2019</td>\n",
       "    </tr>\n",
       "    <tr>\n",
       "      <th>9</th>\n",
       "      <td>08</td>\n",
       "      <td>2020</td>\n",
       "    </tr>\n",
       "    <tr>\n",
       "      <th>10</th>\n",
       "      <td>04</td>\n",
       "      <td>2022</td>\n",
       "    </tr>\n",
       "  </tbody>\n",
       "</table>\n",
       "</div>"
      ],
      "text/plain": [
       "   month  year\n",
       "0     06  2020\n",
       "1     11  2020\n",
       "2     10  2019\n",
       "3     05  2022\n",
       "4     07  2019\n",
       "5     06  2022\n",
       "6     01  2022\n",
       "7     11  2020\n",
       "8     04  2019\n",
       "9     08  2020\n",
       "10    04  2022"
      ]
     },
     "execution_count": 42,
     "metadata": {},
     "output_type": "execute_result"
    }
   ],
   "source": [
    "df.columns = [\"month\", \"year\"]\n",
    "df"
   ]
  },
  {
   "cell_type": "code",
   "execution_count": 43,
   "id": "0c103fa3",
   "metadata": {},
   "outputs": [
    {
     "data": {
      "text/plain": [
       "0     06/2020\\n\\n4.9 l/100 km (comb)\n",
       "1     11/2020\\n\\n166 g CO2/km (comb)\n",
       "2     10/2019\\n\\n5.3 l/100 km (comb)\n",
       "3     05/2022\\n\\n6.3 l/100 km (comb)\n",
       "4     07/2019\\n\\n128 g CO2/km (comb)\n",
       "5     06/2022\\n\\n112 g CO2/km (comb)\n",
       "6     01/2022\\n\\n5.8 l/100 km (comb)\n",
       "7     11/2020\\n\\n106 g CO2/km (comb)\n",
       "8     04/2019\\n\\n105 g CO2/km (comb)\n",
       "9     08/2020\\n\\n133 g CO2/km (comb)\n",
       "10    04/2022\\n\\n133 g CO2/km (comb)\n",
       "dtype: object"
      ]
     },
     "execution_count": 43,
     "metadata": {},
     "output_type": "execute_result"
    }
   ],
   "source": [
    "s"
   ]
  },
  {
   "cell_type": "code",
   "execution_count": 45,
   "id": "52f919a4",
   "metadata": {},
   "outputs": [
    {
     "data": {
      "text/html": [
       "<div>\n",
       "<style scoped>\n",
       "    .dataframe tbody tr th:only-of-type {\n",
       "        vertical-align: middle;\n",
       "    }\n",
       "\n",
       "    .dataframe tbody tr th {\n",
       "        vertical-align: top;\n",
       "    }\n",
       "\n",
       "    .dataframe thead th {\n",
       "        text-align: right;\n",
       "    }\n",
       "</style>\n",
       "<table border=\"1\" class=\"dataframe\">\n",
       "  <thead>\n",
       "    <tr style=\"text-align: right;\">\n",
       "      <th></th>\n",
       "      <th>0</th>\n",
       "      <th>1</th>\n",
       "    </tr>\n",
       "  </thead>\n",
       "  <tbody>\n",
       "    <tr>\n",
       "      <th>0</th>\n",
       "      <td>06/2020</td>\n",
       "      <td>4</td>\n",
       "    </tr>\n",
       "    <tr>\n",
       "      <th>1</th>\n",
       "      <td>11/2020</td>\n",
       "      <td>166</td>\n",
       "    </tr>\n",
       "    <tr>\n",
       "      <th>2</th>\n",
       "      <td>10/2019</td>\n",
       "      <td>5</td>\n",
       "    </tr>\n",
       "    <tr>\n",
       "      <th>3</th>\n",
       "      <td>05/2022</td>\n",
       "      <td>6</td>\n",
       "    </tr>\n",
       "    <tr>\n",
       "      <th>4</th>\n",
       "      <td>07/2019</td>\n",
       "      <td>128</td>\n",
       "    </tr>\n",
       "    <tr>\n",
       "      <th>5</th>\n",
       "      <td>06/2022</td>\n",
       "      <td>112</td>\n",
       "    </tr>\n",
       "    <tr>\n",
       "      <th>6</th>\n",
       "      <td>01/2022</td>\n",
       "      <td>5</td>\n",
       "    </tr>\n",
       "    <tr>\n",
       "      <th>7</th>\n",
       "      <td>11/2020</td>\n",
       "      <td>106</td>\n",
       "    </tr>\n",
       "    <tr>\n",
       "      <th>8</th>\n",
       "      <td>04/2019</td>\n",
       "      <td>105</td>\n",
       "    </tr>\n",
       "    <tr>\n",
       "      <th>9</th>\n",
       "      <td>08/2020</td>\n",
       "      <td>133</td>\n",
       "    </tr>\n",
       "    <tr>\n",
       "      <th>10</th>\n",
       "      <td>04/2022</td>\n",
       "      <td>133</td>\n",
       "    </tr>\n",
       "  </tbody>\n",
       "</table>\n",
       "</div>"
      ],
      "text/plain": [
       "          0    1\n",
       "0   06/2020    4\n",
       "1   11/2020  166\n",
       "2   10/2019    5\n",
       "3   05/2022    6\n",
       "4   07/2019  128\n",
       "5   06/2022  112\n",
       "6   01/2022    5\n",
       "7   11/2020  106\n",
       "8   04/2019  105\n",
       "9   08/2020  133\n",
       "10  04/2022  133"
      ]
     },
     "execution_count": 45,
     "metadata": {},
     "output_type": "execute_result"
    }
   ],
   "source": [
    "s.str.extract(\"(.+)\\n\\n(\\d+|\\d.\\d)\")"
   ]
  },
  {
   "cell_type": "code",
   "execution_count": 47,
   "id": "c257ee24",
   "metadata": {},
   "outputs": [
    {
     "data": {
      "text/html": [
       "<div>\n",
       "<style scoped>\n",
       "    .dataframe tbody tr th:only-of-type {\n",
       "        vertical-align: middle;\n",
       "    }\n",
       "\n",
       "    .dataframe tbody tr th {\n",
       "        vertical-align: top;\n",
       "    }\n",
       "\n",
       "    .dataframe thead th {\n",
       "        text-align: right;\n",
       "    }\n",
       "</style>\n",
       "<table border=\"1\" class=\"dataframe\">\n",
       "  <thead>\n",
       "    <tr style=\"text-align: right;\">\n",
       "      <th></th>\n",
       "      <th>0</th>\n",
       "      <th>1</th>\n",
       "    </tr>\n",
       "  </thead>\n",
       "  <tbody>\n",
       "    <tr>\n",
       "      <th>0</th>\n",
       "      <td>06/2020</td>\n",
       "      <td>4.9</td>\n",
       "    </tr>\n",
       "    <tr>\n",
       "      <th>1</th>\n",
       "      <td>11/2020</td>\n",
       "      <td>166</td>\n",
       "    </tr>\n",
       "    <tr>\n",
       "      <th>2</th>\n",
       "      <td>10/2019</td>\n",
       "      <td>5.3</td>\n",
       "    </tr>\n",
       "    <tr>\n",
       "      <th>3</th>\n",
       "      <td>05/2022</td>\n",
       "      <td>6.3</td>\n",
       "    </tr>\n",
       "    <tr>\n",
       "      <th>4</th>\n",
       "      <td>07/2019</td>\n",
       "      <td>128</td>\n",
       "    </tr>\n",
       "    <tr>\n",
       "      <th>5</th>\n",
       "      <td>06/2022</td>\n",
       "      <td>112</td>\n",
       "    </tr>\n",
       "    <tr>\n",
       "      <th>6</th>\n",
       "      <td>01/2022</td>\n",
       "      <td>5.8</td>\n",
       "    </tr>\n",
       "    <tr>\n",
       "      <th>7</th>\n",
       "      <td>11/2020</td>\n",
       "      <td>106</td>\n",
       "    </tr>\n",
       "    <tr>\n",
       "      <th>8</th>\n",
       "      <td>04/2019</td>\n",
       "      <td>105</td>\n",
       "    </tr>\n",
       "    <tr>\n",
       "      <th>9</th>\n",
       "      <td>08/2020</td>\n",
       "      <td>133</td>\n",
       "    </tr>\n",
       "    <tr>\n",
       "      <th>10</th>\n",
       "      <td>04/2022</td>\n",
       "      <td>133</td>\n",
       "    </tr>\n",
       "  </tbody>\n",
       "</table>\n",
       "</div>"
      ],
      "text/plain": [
       "          0    1\n",
       "0   06/2020  4.9\n",
       "1   11/2020  166\n",
       "2   10/2019  5.3\n",
       "3   05/2022  6.3\n",
       "4   07/2019  128\n",
       "5   06/2022  112\n",
       "6   01/2022  5.8\n",
       "7   11/2020  106\n",
       "8   04/2019  105\n",
       "9   08/2020  133\n",
       "10  04/2022  133"
      ]
     },
     "execution_count": 47,
     "metadata": {},
     "output_type": "execute_result"
    }
   ],
   "source": [
    "s.str.extract(\"(.+)\\n\\n(\\d+.\\d+|\\d+)\")"
   ]
  },
  {
   "cell_type": "code",
   "execution_count": 48,
   "id": "70456f44",
   "metadata": {},
   "outputs": [
    {
     "data": {
      "text/plain": [
       "0    \\n\\n4.9 06/2020 l/100 km (comb)\n",
       "1    \\n\\n166 11/2020 g CO2/km (comb)\n",
       "2    \\n\\n5.3 10/2019 l/100 km (comb)\n",
       "3    \\n\\n6.3 05/2022 l/100 km (comb)\n",
       "4    \\n\\n128 07/2019 g CO2/km (comb)\n",
       "5    \\n\\n112 06/2022 g CO2/km (comb)\n",
       "6    \\n\\n5.8 01/2022 l/100 km (comb)\n",
       "dtype: object"
      ]
     },
     "execution_count": 48,
     "metadata": {},
     "output_type": "execute_result"
    }
   ],
   "source": [
    "s = pd.Series(['\\n\\n4.9 06/2020 l/100 km (comb)',\n",
    "'\\n\\n166 11/2020 g CO2/km (comb)',                                 \n",
    "'\\n\\n5.3 10/2019 l/100 km (comb)',\n",
    "'\\n\\n6.3 05/2022 l/100 km (comb)',\n",
    "'\\n\\n128 07/2019 g CO2/km (comb)',\n",
    "'\\n\\n112 06/2022 g CO2/km (comb)',                                                 \n",
    "'\\n\\n5.8 01/2022 l/100 km (comb)'])\n",
    "s"
   ]
  },
  {
   "cell_type": "code",
   "execution_count": 49,
   "id": "b171bc2c",
   "metadata": {},
   "outputs": [
    {
     "data": {
      "text/html": [
       "<div>\n",
       "<style scoped>\n",
       "    .dataframe tbody tr th:only-of-type {\n",
       "        vertical-align: middle;\n",
       "    }\n",
       "\n",
       "    .dataframe tbody tr th {\n",
       "        vertical-align: top;\n",
       "    }\n",
       "\n",
       "    .dataframe thead th {\n",
       "        text-align: right;\n",
       "    }\n",
       "</style>\n",
       "<table border=\"1\" class=\"dataframe\">\n",
       "  <thead>\n",
       "    <tr style=\"text-align: right;\">\n",
       "      <th></th>\n",
       "      <th>0</th>\n",
       "    </tr>\n",
       "  </thead>\n",
       "  <tbody>\n",
       "    <tr>\n",
       "      <th>0</th>\n",
       "      <td>4</td>\n",
       "    </tr>\n",
       "    <tr>\n",
       "      <th>1</th>\n",
       "      <td>166</td>\n",
       "    </tr>\n",
       "    <tr>\n",
       "      <th>2</th>\n",
       "      <td>5</td>\n",
       "    </tr>\n",
       "    <tr>\n",
       "      <th>3</th>\n",
       "      <td>6</td>\n",
       "    </tr>\n",
       "    <tr>\n",
       "      <th>4</th>\n",
       "      <td>128</td>\n",
       "    </tr>\n",
       "    <tr>\n",
       "      <th>5</th>\n",
       "      <td>112</td>\n",
       "    </tr>\n",
       "    <tr>\n",
       "      <th>6</th>\n",
       "      <td>5</td>\n",
       "    </tr>\n",
       "  </tbody>\n",
       "</table>\n",
       "</div>"
      ],
      "text/plain": [
       "     0\n",
       "0    4\n",
       "1  166\n",
       "2    5\n",
       "3    6\n",
       "4  128\n",
       "5  112\n",
       "6    5"
      ]
     },
     "execution_count": 49,
     "metadata": {},
     "output_type": "execute_result"
    }
   ],
   "source": [
    "s.str.extract(\"(\\d+|\\d+.\\d+)\")"
   ]
  },
  {
   "cell_type": "code",
   "execution_count": 67,
   "id": "5bc7a318",
   "metadata": {},
   "outputs": [
    {
     "data": {
      "text/html": [
       "<div>\n",
       "<style scoped>\n",
       "    .dataframe tbody tr th:only-of-type {\n",
       "        vertical-align: middle;\n",
       "    }\n",
       "\n",
       "    .dataframe tbody tr th {\n",
       "        vertical-align: top;\n",
       "    }\n",
       "\n",
       "    .dataframe thead th {\n",
       "        text-align: right;\n",
       "    }\n",
       "</style>\n",
       "<table border=\"1\" class=\"dataframe\">\n",
       "  <thead>\n",
       "    <tr style=\"text-align: right;\">\n",
       "      <th></th>\n",
       "      <th>0</th>\n",
       "      <th>1</th>\n",
       "    </tr>\n",
       "  </thead>\n",
       "  <tbody>\n",
       "    <tr>\n",
       "      <th>0</th>\n",
       "      <td>4.9</td>\n",
       "      <td>06/2020</td>\n",
       "    </tr>\n",
       "    <tr>\n",
       "      <th>1</th>\n",
       "      <td>166</td>\n",
       "      <td>11/2020</td>\n",
       "    </tr>\n",
       "    <tr>\n",
       "      <th>2</th>\n",
       "      <td>5.3</td>\n",
       "      <td>10/2019</td>\n",
       "    </tr>\n",
       "    <tr>\n",
       "      <th>3</th>\n",
       "      <td>6.3</td>\n",
       "      <td>05/2022</td>\n",
       "    </tr>\n",
       "    <tr>\n",
       "      <th>4</th>\n",
       "      <td>128</td>\n",
       "      <td>07/2019</td>\n",
       "    </tr>\n",
       "    <tr>\n",
       "      <th>5</th>\n",
       "      <td>112</td>\n",
       "      <td>06/2022</td>\n",
       "    </tr>\n",
       "    <tr>\n",
       "      <th>6</th>\n",
       "      <td>5.8</td>\n",
       "      <td>01/2022</td>\n",
       "    </tr>\n",
       "  </tbody>\n",
       "</table>\n",
       "</div>"
      ],
      "text/plain": [
       "     0        1\n",
       "0  4.9  06/2020\n",
       "1  166  11/2020\n",
       "2  5.3  10/2019\n",
       "3  6.3  05/2022\n",
       "4  128  07/2019\n",
       "5  112  06/2022\n",
       "6  5.8  01/2022"
      ]
     },
     "execution_count": 67,
     "metadata": {},
     "output_type": "execute_result"
    }
   ],
   "source": [
    "s.str.extract(\"(\\d+.\\d+|\\d+)\\s(\\d+\\D\\d+)\")"
   ]
  },
  {
   "cell_type": "code",
   "execution_count": 68,
   "id": "474c33c8",
   "metadata": {},
   "outputs": [
    {
     "data": {
      "text/plain": [
       "True"
      ]
     },
     "execution_count": 68,
     "metadata": {},
     "output_type": "execute_result"
    }
   ],
   "source": [
    "import webbrowser\n",
    "webbrowser.open_new(\"https://regex101.com/\")"
   ]
  },
  {
   "cell_type": "code",
   "execution_count": null,
   "id": "6efb059e",
   "metadata": {},
   "outputs": [],
   "source": []
  },
  {
   "cell_type": "code",
   "execution_count": null,
   "id": "dab1eda7",
   "metadata": {},
   "outputs": [],
   "source": []
  },
  {
   "cell_type": "code",
   "execution_count": null,
   "id": "c34ab978",
   "metadata": {},
   "outputs": [],
   "source": []
  },
  {
   "cell_type": "code",
   "execution_count": null,
   "id": "3dfd4dd3",
   "metadata": {},
   "outputs": [],
   "source": []
  },
  {
   "cell_type": "code",
   "execution_count": null,
   "id": "7f60e8c0",
   "metadata": {},
   "outputs": [],
   "source": []
  },
  {
   "cell_type": "code",
   "execution_count": null,
   "id": "ce73b611",
   "metadata": {},
   "outputs": [],
   "source": []
  },
  {
   "cell_type": "code",
   "execution_count": null,
   "id": "8b1ee1f1",
   "metadata": {},
   "outputs": [],
   "source": []
  },
  {
   "cell_type": "code",
   "execution_count": null,
   "id": "40a1b1a6",
   "metadata": {},
   "outputs": [],
   "source": []
  },
  {
   "cell_type": "code",
   "execution_count": null,
   "id": "12140abe",
   "metadata": {},
   "outputs": [],
   "source": []
  },
  {
   "cell_type": "code",
   "execution_count": null,
   "id": "7ab53efb",
   "metadata": {},
   "outputs": [],
   "source": []
  }
 ],
 "metadata": {
  "kernelspec": {
   "display_name": "Python 3 (ipykernel)",
   "language": "python",
   "name": "python3"
  },
  "language_info": {
   "codemirror_mode": {
    "name": "ipython",
    "version": 3
   },
   "file_extension": ".py",
   "mimetype": "text/x-python",
   "name": "python",
   "nbconvert_exporter": "python",
   "pygments_lexer": "ipython3",
   "version": "3.9.7"
  }
 },
 "nbformat": 4,
 "nbformat_minor": 5
}
